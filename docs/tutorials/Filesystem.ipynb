{
 "cells": [
  {
   "cell_type": "markdown",
   "id": "2e18c4fc-3d31-42ec-973c-8e422d045723",
   "metadata": {},
   "source": [
    "The filesystem module `datamol.fs` is not strictly related to molecule but it makes it very convenient to work with files both locally and remotely (AWS S3, GCS, HTTP, FTP, Git, etc) in a smooth and transparent manner. Under the hood the Datamol `fs` module is built on top of the library [fsspec](https://filesystem-spec.readthedocs.io/en/latest/)."
   ]
  },
  {
   "cell_type": "code",
   "execution_count": 1,
   "id": "1309aaae-9cdf-4482-996c-e252fb6081e4",
   "metadata": {},
   "outputs": [],
   "source": [
    "import tempfile\n",
    "\n",
    "import datamol as dm"
   ]
  },
  {
   "cell_type": "markdown",
   "id": "93ceb6db-54d6-4534-afce-40da13c98929",
   "metadata": {},
   "source": [
    "## Destructive path manipulation\n",
    "\n",
    "The below examples are made locally for the purpose of the demo but all the function supports remote path (S3, GCS, etc)."
   ]
  },
  {
   "cell_type": "markdown",
   "id": "7de6ed94-e2e4-4e33-9b38-77ad12082370",
   "metadata": {},
   "source": [
    "First let's get temp directory"
   ]
  },
  {
   "cell_type": "code",
   "execution_count": 29,
   "id": "fb7f4b66-a537-404d-9750-f3227f8cb322",
   "metadata": {},
   "outputs": [
    {
     "data": {
      "text/plain": [
       "True"
      ]
     },
     "execution_count": 29,
     "metadata": {},
     "output_type": "execute_result"
    }
   ],
   "source": [
    "temp_dir = tempfile.mkdtemp()\n",
    "dm.fs.exists(temp_dir)"
   ]
  },
  {
   "cell_type": "markdown",
   "id": "e9993def-6eea-4829-af6b-e98a90218e38",
   "metadata": {},
   "source": [
    "Create a directory and check if it has correctly been created."
   ]
  },
  {
   "cell_type": "code",
   "execution_count": 30,
   "id": "15e071bf-9ad8-4005-987c-182842dd74a1",
   "metadata": {},
   "outputs": [
    {
     "data": {
      "text/plain": [
       "True"
      ]
     },
     "execution_count": 30,
     "metadata": {},
     "output_type": "execute_result"
    }
   ],
   "source": [
    "subdir_path = dm.fs.join(temp_dir, \"subdir1\", \"subsubdir293\")\n",
    "dm.fs.mkdir(subdir_path, exist_ok=True)\n",
    "\n",
    "dm.fs.exists(subdir_path)"
   ]
  },
  {
   "cell_type": "markdown",
   "id": "b4c3c9fd-fd0e-4fc5-bd19-daf9e20ffad2",
   "metadata": {},
   "source": [
    "Copy a file from a source path to a destination path"
   ]
  },
  {
   "cell_type": "code",
   "execution_count": 32,
   "id": "ab41afd0-40b5-4283-9387-4d06ca4c2867",
   "metadata": {},
   "outputs": [
    {
     "data": {
      "application/vnd.jupyter.widget-view+json": {
       "model_id": "",
       "version_major": 2,
       "version_minor": 0
      },
      "text/plain": [
       "  0%|          | 0.00/321M [00:00<?, ?B/s]"
      ]
     },
     "metadata": {},
     "output_type": "display_data"
    }
   ],
   "source": [
    "destination_path = dm.fs.join(subdir_path, \"Compound_000000001_000500000.sdf.gz\")\n",
    "dm.fs.copy_file(\n",
    "    source=\"https://ftp.ncbi.nlm.nih.gov/pubchem/Compound/CURRENT-Full/SDF/Compound_000000001_000500000.sdf.gz\",\n",
    "    destination=destination_path,\n",
    "    progress=True,\n",
    "    force=True,\n",
    ")"
   ]
  },
  {
   "cell_type": "markdown",
   "id": "67f3b03f-4310-4f8c-b2e9-44939ccac37a",
   "metadata": {},
   "source": [
    "Now, we would like to copy an full directory tree to a given destination."
   ]
  },
  {
   "cell_type": "code",
   "execution_count": 47,
   "id": "369f7b65-0481-4675-8379-70778bc26bb7",
   "metadata": {},
   "outputs": [
    {
     "data": {
      "application/vnd.jupyter.widget-view+json": {
       "model_id": "",
       "version_major": 2,
       "version_minor": 0
      },
      "text/plain": [
       "  0%|          | 0/15 [00:00<?, ?it/s]"
      ]
     },
     "metadata": {},
     "output_type": "display_data"
    }
   ],
   "source": [
    "subdir2_path = dm.fs.join(temp_dir, \"subdir2\")\n",
    "dm.fs.copy_dir(\n",
    "    source=\"https://ftp.ncbi.nlm.nih.gov/pubchem/specifications/\",\n",
    "    destination=subdir2_path,\n",
    "    progress=True,\n",
    ")"
   ]
  },
  {
   "cell_type": "markdown",
   "id": "d2de8a47-aba5-4b0a-b26d-7decaa525a4c",
   "metadata": {},
   "source": [
    "Let's check the files have been copied correctly."
   ]
  },
  {
   "cell_type": "code",
   "execution_count": 48,
   "id": "8c539945-48d7-4c28-9343-bd8e324ecf5a",
   "metadata": {},
   "outputs": [
    {
     "data": {
      "text/plain": [
       "['file:///tmp/tmphlww_l88/subdir2/README',\n",
       " 'file:///tmp/tmphlww_l88/subdir2/pubchem.asn',\n",
       " 'file:///tmp/tmphlww_l88/subdir2/pubchem.xjb',\n",
       " 'file:///tmp/tmphlww_l88/subdir2/pubchem.xsd',\n",
       " 'file:///tmp/tmphlww_l88/subdir2/pubchem_deposit.pdf',\n",
       " 'file:///tmp/tmphlww_l88/subdir2/pubchem_deposit.txt',\n",
       " 'file:///tmp/tmphlww_l88/subdir2/pubchem_fingerprints.pdf',\n",
       " 'file:///tmp/tmphlww_l88/subdir2/pubchem_fingerprints.txt',\n",
       " 'file:///tmp/tmphlww_l88/subdir2/pubchem_pug.pdf',\n",
       " 'file:///tmp/tmphlww_l88/subdir2/pubchem_pug.txt',\n",
       " 'file:///tmp/tmphlww_l88/subdir2/pubchem_sdtags.pdf',\n",
       " 'file:///tmp/tmphlww_l88/subdir2/pubchem_sdtags.txt',\n",
       " 'file:///tmp/tmphlww_l88/subdir2/pug.dtd',\n",
       " 'file:///tmp/tmphlww_l88/subdir2/pug.xsd',\n",
       " 'file:///tmp/tmphlww_l88/subdir2/pug_soap.readme.txt']"
      ]
     },
     "execution_count": 48,
     "metadata": {},
     "output_type": "execute_result"
    }
   ],
   "source": [
    "dm.fs.glob(dm.fs.join(subdir2_path, \"**\"))"
   ]
  },
  {
   "cell_type": "markdown",
   "id": "a656b65f-998a-46f7-ae0d-ec1f901fca28",
   "metadata": {
    "tags": []
   },
   "source": [
    "## Non destructive path manipulation"
   ]
  },
  {
   "cell_type": "markdown",
   "id": "883a8ab4-5933-43eb-b85d-edfaffb53889",
   "metadata": {},
   "source": [
    "Retrieve the paths matching a path pattern"
   ]
  },
  {
   "cell_type": "code",
   "execution_count": 34,
   "id": "f0a98de6-bd49-41ad-af50-22ed66fc1992",
   "metadata": {},
   "outputs": [
    {
     "data": {
      "text/plain": [
       "['https://ftp.ncbi.nlm.nih.gov/pubchem/Compound/Daily/2021-11-25/',\n",
       " 'https://ftp.ncbi.nlm.nih.gov/pubchem/Compound/Daily/2021-11-25/ASN/',\n",
       " 'https://ftp.ncbi.nlm.nih.gov/pubchem/Compound/Daily/2021-11-25/ASN/Compound_021500001_022000000.asn.gz',\n",
       " 'https://ftp.ncbi.nlm.nih.gov/pubchem/Compound/Daily/2021-11-25/ASN/Compound_021500001_022000000.asn.gz.md5',\n",
       " 'https://ftp.ncbi.nlm.nih.gov/pubchem/Compound/Daily/2021-11-25/ASN/Compound_157000001_157500000.asn.gz']"
      ]
     },
     "execution_count": 34,
     "metadata": {},
     "output_type": "execute_result"
    }
   ],
   "source": [
    "dm.fs.glob(\"https://ftp.ncbi.nlm.nih.gov/pubchem/Compound/Daily/**\")[:5]"
   ]
  },
  {
   "cell_type": "markdown",
   "id": "83c2a493-27d8-4699-a6bc-8c9858983c7b",
   "metadata": {},
   "source": [
    "Get the name of the file or directory for a given path"
   ]
  },
  {
   "cell_type": "code",
   "execution_count": 35,
   "id": "96cf61b4-7ce2-43e1-8208-da02e47c9a6a",
   "metadata": {},
   "outputs": [
    {
     "data": {
      "text/plain": [
       "'Compound_013500001_014000000.sdf.gz'"
      ]
     },
     "execution_count": 35,
     "metadata": {},
     "output_type": "execute_result"
    }
   ],
   "source": [
    "dm.fs.get_basename(\n",
    "    \"https://ftp.ncbi.nlm.nih.gov/pubchem/Compound/Daily/2021-12-03/SDF/Compound_013500001_014000000.sdf.gz\"\n",
    ")"
   ]
  },
  {
   "cell_type": "code",
   "execution_count": 36,
   "id": "d7064b86-3621-4d33-a5cd-7c19ccd924c7",
   "metadata": {},
   "outputs": [
    {
     "data": {
      "text/plain": [
       "'2021-12-03'"
      ]
     },
     "execution_count": 36,
     "metadata": {},
     "output_type": "execute_result"
    }
   ],
   "source": [
    "dm.fs.get_basename(\"https://ftp.ncbi.nlm.nih.gov/pubchem/Compound/Daily/2021-12-03\")"
   ]
  },
  {
   "cell_type": "markdown",
   "id": "40ba1ff7-06c1-40da-986b-814bf65f6ae0",
   "metadata": {},
   "source": [
    "Get the extension of a given path"
   ]
  },
  {
   "cell_type": "code",
   "execution_count": 37,
   "id": "6c16c319-bb2d-4414-9ed8-ff528cb753e4",
   "metadata": {},
   "outputs": [
    {
     "data": {
      "text/plain": [
       "'txt'"
      ]
     },
     "execution_count": 37,
     "metadata": {},
     "output_type": "execute_result"
    }
   ],
   "source": [
    "dm.fs.get_extension(\"s3://an-s3-bucket-random/subdir1/subdir2/hello.txt\")"
   ]
  },
  {
   "cell_type": "markdown",
   "id": "5decb8fa-fea2-4c64-90d2-72568bd21d69",
   "metadata": {},
   "source": [
    "Check whether a file or a directory exists"
   ]
  },
  {
   "cell_type": "code",
   "execution_count": 38,
   "id": "f974cfb7-1c87-4108-bd2b-5f1d795b5b49",
   "metadata": {},
   "outputs": [
    {
     "data": {
      "text/plain": [
       "True"
      ]
     },
     "execution_count": 38,
     "metadata": {},
     "output_type": "execute_result"
    }
   ],
   "source": [
    "dm.fs.exists(\"https://ftp.ncbi.nlm.nih.gov/pubchem/Compound/Daily/\")"
   ]
  },
  {
   "cell_type": "markdown",
   "id": "680dfd7d-6673-4d65-9b0c-d2d33829c8a7",
   "metadata": {},
   "source": [
    "Check whether a file or a directory exists"
   ]
  },
  {
   "cell_type": "code",
   "execution_count": 39,
   "id": "009f2edc-a950-4fc7-a815-61783deed930",
   "metadata": {},
   "outputs": [
    {
     "data": {
      "text/plain": [
       "False"
      ]
     },
     "execution_count": 39,
     "metadata": {},
     "output_type": "execute_result"
    }
   ],
   "source": [
    "dm.fs.exists(\"gs://a-gcs-bucket-random/subdir1/subdir2/hello.txt\")"
   ]
  },
  {
   "cell_type": "markdown",
   "id": "fbd82b8a-728d-44ed-a5f5-55167366432e",
   "metadata": {},
   "source": [
    "Check whether a path is a file and exists"
   ]
  },
  {
   "cell_type": "code",
   "execution_count": 40,
   "id": "96e42342-abd7-40bd-8003-3b3ee0f966a9",
   "metadata": {},
   "outputs": [
    {
     "data": {
      "text/plain": [
       "True"
      ]
     },
     "execution_count": 40,
     "metadata": {},
     "output_type": "execute_result"
    }
   ],
   "source": [
    "dm.fs.is_file(\n",
    "    \"https://ftp.ncbi.nlm.nih.gov/pubchem/Compound/Daily/2021-12-03/SDF/Compound_013500001_014000000.sdf.gz\"\n",
    ")"
   ]
  },
  {
   "cell_type": "markdown",
   "id": "f49fcedc-e8d1-4598-a98b-e3f90ca74977",
   "metadata": {},
   "source": [
    "Check whether a path is a directory and exists"
   ]
  },
  {
   "cell_type": "code",
   "execution_count": 41,
   "id": "9ae24651-bbb5-4d2a-b5bf-91308104cedd",
   "metadata": {},
   "outputs": [
    {
     "data": {
      "text/plain": [
       "False"
      ]
     },
     "execution_count": 41,
     "metadata": {},
     "output_type": "execute_result"
    }
   ],
   "source": [
    "dm.fs.is_dir(\"gs://a-gcs-bucket-random/subdir1/subdir2/\")"
   ]
  },
  {
   "cell_type": "markdown",
   "id": "cbef4a7a-68c7-45fe-bf96-f7f00b4cdf5f",
   "metadata": {},
   "source": [
    "Check whether a path is local or remote"
   ]
  },
  {
   "cell_type": "code",
   "execution_count": 42,
   "id": "6424a3ba-cb57-4297-877b-5685b6665229",
   "metadata": {},
   "outputs": [
    {
     "data": {
      "text/plain": [
       "True"
      ]
     },
     "execution_count": 42,
     "metadata": {},
     "output_type": "execute_result"
    }
   ],
   "source": [
    "dm.fs.is_local_path(\"/home/hello/a_subdir\")"
   ]
  },
  {
   "cell_type": "markdown",
   "id": "1e35cc4f-bf21-4569-a8bc-b78fa45e5689",
   "metadata": {},
   "source": [
    "Join paths together"
   ]
  },
  {
   "cell_type": "code",
   "execution_count": 43,
   "id": "c7d2a262-e84f-4a34-953b-e31143eb5fda",
   "metadata": {},
   "outputs": [
    {
     "data": {
      "text/plain": [
       "'gs://awesome-data-bucket/data_dir/molecules.sdf'"
      ]
     },
     "execution_count": 43,
     "metadata": {},
     "output_type": "execute_result"
    }
   ],
   "source": [
    "data_dir = \"gs://awesome-data-bucket/data_dir\"\n",
    "filename = \"molecules.sdf\"\n",
    "dm.fs.join(data_dir, filename)"
   ]
  },
  {
   "cell_type": "markdown",
   "id": "56b02389-a259-4d56-acb1-94e39a0c8cb4",
   "metadata": {},
   "source": [
    "Get the size of a file (in byte)"
   ]
  },
  {
   "cell_type": "code",
   "execution_count": 44,
   "id": "3682f48b-c278-4362-ac20-e086ca632258",
   "metadata": {},
   "outputs": [
    {
     "data": {
      "text/plain": [
       "336817141"
      ]
     },
     "execution_count": 44,
     "metadata": {},
     "output_type": "execute_result"
    }
   ],
   "source": [
    "dm.fs.get_size(\n",
    "    \"https://ftp.ncbi.nlm.nih.gov/pubchem/Compound/CURRENT-Full/SDF/Compound_000000001_000500000.sdf.gz\"\n",
    ")"
   ]
  },
  {
   "cell_type": "markdown",
   "id": "a151e0c6-1a48-4862-87ff-a506d7ba39a4",
   "metadata": {},
   "source": [
    "Get the MD5 checksum of a file"
   ]
  },
  {
   "cell_type": "code",
   "execution_count": 45,
   "id": "cd70b5af-1b62-4332-ba42-4b8da32a9ce0",
   "metadata": {},
   "outputs": [
    {
     "data": {
      "text/plain": [
       "'b2d7b30c1466ab9582df47b2664d04b5'"
      ]
     },
     "execution_count": 45,
     "metadata": {},
     "output_type": "execute_result"
    }
   ],
   "source": [
    "dm.fs.md5(\"https://ftp.ncbi.nlm.nih.gov/pubchem/Compound/CURRENT-Full/README-Compound\")"
   ]
  },
  {
   "cell_type": "markdown",
   "id": "806ff5e4-3ecd-4fbd-83b0-ec8caf70c2cc",
   "metadata": {},
   "source": [
    "## Cache directory\n",
    "\n",
    "It's often convenient to get the path of a persistent cache folder. Unfortunately this path will change depending on the OS you're working on. Datamol offers a function to easily retrieve the path of the \"official\" cache directory on which it's running."
   ]
  },
  {
   "cell_type": "code",
   "execution_count": 3,
   "id": "70e0ebb8-07f4-4a59-b87c-cce30efd83ad",
   "metadata": {},
   "outputs": [
    {
     "data": {
      "text/plain": [
       "PosixPath('/home/hadim/.cache/datamol-demo/subdir1')"
      ]
     },
     "execution_count": 3,
     "metadata": {},
     "output_type": "execute_result"
    }
   ],
   "source": [
    "dm.fs.get_cache_dir(app_name=\"datamol-demo\", suffix=\"subdir1\", create=False)"
   ]
  }
 ],
 "metadata": {
  "kernelspec": {
   "display_name": "Python [conda env:datamol]",
   "language": "python",
   "name": "conda-env-datamol-py"
  },
  "language_info": {
   "codemirror_mode": {
    "name": "ipython",
    "version": 3
   },
   "file_extension": ".py",
   "mimetype": "text/x-python",
   "name": "python",
   "nbconvert_exporter": "python",
   "pygments_lexer": "ipython3",
   "version": "3.9.6"
  },
  "widgets": {
   "application/vnd.jupyter.widget-state+json": {
    "state": {
     "019df7a20f424f5c97850844d0abb220": {
      "model_module": "@jupyter-widgets/base",
      "model_module_version": "1.2.0",
      "model_name": "LayoutModel",
      "state": {}
     },
     "07070097f9094782a5352c94895af0cf": {
      "model_module": "@jupyter-widgets/controls",
      "model_module_version": "1.5.0",
      "model_name": "HBoxModel",
      "state": {
       "children": [
        "IPY_MODEL_bf6e82598e954b3faca2102ebecbdee5",
        "IPY_MODEL_0dca627fa7b940d69a984e4416791b03",
        "IPY_MODEL_c5f0fddf636a4c678562125e24f8175b"
       ],
       "layout": "IPY_MODEL_fe1527d104d24533a43e6eecee80adad"
      }
     },
     "090af5d3a86041d69a7986d4460fb0dd": {
      "model_module": "@jupyter-widgets/base",
      "model_module_version": "1.2.0",
      "model_name": "LayoutModel",
      "state": {}
     },
     "09f189cf622c4447b9cc6a01b0bd716d": {
      "model_module": "@jupyter-widgets/controls",
      "model_module_version": "1.5.0",
      "model_name": "DescriptionStyleModel",
      "state": {
       "description_width": ""
      }
     },
     "0dca627fa7b940d69a984e4416791b03": {
      "model_module": "@jupyter-widgets/controls",
      "model_module_version": "1.5.0",
      "model_name": "FloatProgressModel",
      "state": {
       "bar_style": "success",
       "layout": "IPY_MODEL_e46b6fe5fe8f49fe909d276d442f80fa",
       "max": 336817141,
       "style": "IPY_MODEL_d2c98177446642678dd236d357ccb3b2",
       "value": 336817141
      }
     },
     "108fec7ea54e4e12a5b54cae13c7ec2d": {
      "model_module": "@jupyter-widgets/controls",
      "model_module_version": "1.5.0",
      "model_name": "HTMLModel",
      "state": {
       "layout": "IPY_MODEL_3d9d4e99e61b415c92fd7b643a01130e",
       "style": "IPY_MODEL_1e94b291bc934e688956c7d2fc763f1b"
      }
     },
     "12d93809bf404f769e5507ead8593229": {
      "model_module": "@jupyter-widgets/base",
      "model_module_version": "1.2.0",
      "model_name": "LayoutModel",
      "state": {}
     },
     "1e94b291bc934e688956c7d2fc763f1b": {
      "model_module": "@jupyter-widgets/controls",
      "model_module_version": "1.5.0",
      "model_name": "DescriptionStyleModel",
      "state": {
       "description_width": ""
      }
     },
     "2411659a164a4bbba8f502250d2dc6e3": {
      "model_module": "@jupyter-widgets/base",
      "model_module_version": "1.2.0",
      "model_name": "LayoutModel",
      "state": {}
     },
     "24f5e5e5d8b142bf8894bbbbf49408f2": {
      "model_module": "@jupyter-widgets/controls",
      "model_module_version": "1.5.0",
      "model_name": "HTMLModel",
      "state": {
       "layout": "IPY_MODEL_bcec9da89f104a40b3e2de80186ef241",
       "style": "IPY_MODEL_b673f80a0363440db0d4fb02e64773c4",
       "value": " 322M/? [00:13&lt;00:00, 26.8MB/s]"
      }
     },
     "2ddd4b796d0e49a0a49443f08fc57df4": {
      "model_module": "@jupyter-widgets/controls",
      "model_module_version": "1.5.0",
      "model_name": "HBoxModel",
      "state": {
       "children": [
        "IPY_MODEL_7b32eae55d8a4144a03595bdb8e48cad",
        "IPY_MODEL_b3a955236ead456d804b8661749fdcdc",
        "IPY_MODEL_94dc5290b0824e1bb71b9c33c4124f9c"
       ],
       "layout": "IPY_MODEL_2411659a164a4bbba8f502250d2dc6e3"
      }
     },
     "31c996a4557e40d5ae753283bb0fb676": {
      "model_module": "@jupyter-widgets/base",
      "model_module_version": "1.2.0",
      "model_name": "LayoutModel",
      "state": {}
     },
     "3af70852330544d986e34d9b662fe50d": {
      "model_module": "@jupyter-widgets/controls",
      "model_module_version": "1.5.0",
      "model_name": "DescriptionStyleModel",
      "state": {
       "description_width": ""
      }
     },
     "3cc42318aba842929eab1c78a3c45bbc": {
      "model_module": "@jupyter-widgets/controls",
      "model_module_version": "1.5.0",
      "model_name": "HBoxModel",
      "state": {
       "children": [
        "IPY_MODEL_4189345c25e44694ac493b35461ee83f",
        "IPY_MODEL_b04d7a701a6047e6b9cb2029dbe3b207",
        "IPY_MODEL_b0e53e519ebd4247a2323a3d59160957"
       ],
       "layout": "IPY_MODEL_aebd267b64bb4046b4f911a53f537d53"
      }
     },
     "3d9d4e99e61b415c92fd7b643a01130e": {
      "model_module": "@jupyter-widgets/base",
      "model_module_version": "1.2.0",
      "model_name": "LayoutModel",
      "state": {}
     },
     "4079e312b68848368153a18950bbaabf": {
      "model_module": "@jupyter-widgets/base",
      "model_module_version": "1.2.0",
      "model_name": "LayoutModel",
      "state": {}
     },
     "4189345c25e44694ac493b35461ee83f": {
      "model_module": "@jupyter-widgets/controls",
      "model_module_version": "1.5.0",
      "model_name": "HTMLModel",
      "state": {
       "layout": "IPY_MODEL_553d5f828bc14de796132b63b7ec2374",
       "style": "IPY_MODEL_3af70852330544d986e34d9b662fe50d"
      }
     },
     "42f979cd59044874a87ec9921462690b": {
      "model_module": "@jupyter-widgets/controls",
      "model_module_version": "1.5.0",
      "model_name": "DescriptionStyleModel",
      "state": {
       "description_width": ""
      }
     },
     "480eacb11c69469f80aa8cb476eb8e7d": {
      "model_module": "@jupyter-widgets/base",
      "model_module_version": "1.2.0",
      "model_name": "LayoutModel",
      "state": {}
     },
     "5085041f2e7046bbb3b0849e9fdc4cf6": {
      "model_module": "@jupyter-widgets/controls",
      "model_module_version": "1.5.0",
      "model_name": "HBoxModel",
      "state": {
       "children": [
        "IPY_MODEL_b70b40e715f8432ca5ee5f6870b983b6",
        "IPY_MODEL_d8fe8ebe8a2b4fa18f3fdb6258d82d9c",
        "IPY_MODEL_e1a8ed08ec56416cb4d34455b24fff2c"
       ],
       "layout": "IPY_MODEL_f96d356b6f5a4bba8fcba0ddb2a86108"
      }
     },
     "518bd0beb273477d8aa87368783cd6db": {
      "model_module": "@jupyter-widgets/controls",
      "model_module_version": "1.5.0",
      "model_name": "DescriptionStyleModel",
      "state": {
       "description_width": ""
      }
     },
     "553d5f828bc14de796132b63b7ec2374": {
      "model_module": "@jupyter-widgets/base",
      "model_module_version": "1.2.0",
      "model_name": "LayoutModel",
      "state": {}
     },
     "5e5316dcc9ce49148fd85041baafe095": {
      "model_module": "@jupyter-widgets/base",
      "model_module_version": "1.2.0",
      "model_name": "LayoutModel",
      "state": {}
     },
     "640a8e3169a34fd4befe149fa9aa2d72": {
      "model_module": "@jupyter-widgets/base",
      "model_module_version": "1.2.0",
      "model_name": "LayoutModel",
      "state": {}
     },
     "64f7e3a8ddcd4e649d4a18b6add41742": {
      "model_module": "@jupyter-widgets/controls",
      "model_module_version": "1.5.0",
      "model_name": "HBoxModel",
      "state": {
       "children": [
        "IPY_MODEL_65b58e7c4af8433d96ecc5a964487f12",
        "IPY_MODEL_bf757a5d53604c8e8f512534b3d24ff4",
        "IPY_MODEL_24f5e5e5d8b142bf8894bbbbf49408f2"
       ],
       "layout": "IPY_MODEL_8d39e7cab0094ca7a46a39a771b45df7"
      }
     },
     "65b58e7c4af8433d96ecc5a964487f12": {
      "model_module": "@jupyter-widgets/controls",
      "model_module_version": "1.5.0",
      "model_name": "HTMLModel",
      "state": {
       "layout": "IPY_MODEL_640a8e3169a34fd4befe149fa9aa2d72",
       "style": "IPY_MODEL_ade839e040014c6db634e39ec1997721"
      }
     },
     "729ecc46370b49a28e17494eda5e3121": {
      "model_module": "@jupyter-widgets/controls",
      "model_module_version": "1.5.0",
      "model_name": "ProgressStyleModel",
      "state": {
       "description_width": ""
      }
     },
     "7b32eae55d8a4144a03595bdb8e48cad": {
      "model_module": "@jupyter-widgets/controls",
      "model_module_version": "1.5.0",
      "model_name": "HTMLModel",
      "state": {
       "layout": "IPY_MODEL_7d82c919d0844554adc62a215310a88f",
       "style": "IPY_MODEL_dcdee95b18b7430e90be4201fb6a9088"
      }
     },
     "7d82c919d0844554adc62a215310a88f": {
      "model_module": "@jupyter-widgets/base",
      "model_module_version": "1.2.0",
      "model_name": "LayoutModel",
      "state": {}
     },
     "7e3597606f5046fa82a1d97d095b8725": {
      "model_module": "@jupyter-widgets/base",
      "model_module_version": "1.2.0",
      "model_name": "LayoutModel",
      "state": {}
     },
     "887865f1a81142d3879e2a304ce4f24c": {
      "model_module": "@jupyter-widgets/controls",
      "model_module_version": "1.5.0",
      "model_name": "DescriptionStyleModel",
      "state": {
       "description_width": ""
      }
     },
     "8d39e7cab0094ca7a46a39a771b45df7": {
      "model_module": "@jupyter-widgets/base",
      "model_module_version": "1.2.0",
      "model_name": "LayoutModel",
      "state": {}
     },
     "94cc4ca60a3c453888631b402bae6004": {
      "model_module": "@jupyter-widgets/controls",
      "model_module_version": "1.5.0",
      "model_name": "FloatProgressModel",
      "state": {
       "bar_style": "success",
       "layout": "IPY_MODEL_f79151e507a34f2ea1933370fcee277b",
       "max": 336817141,
       "style": "IPY_MODEL_e928212baa2d4afc930b09cef45b124c",
       "value": 336817141
      }
     },
     "94dc5290b0824e1bb71b9c33c4124f9c": {
      "model_module": "@jupyter-widgets/controls",
      "model_module_version": "1.5.0",
      "model_name": "HTMLModel",
      "state": {
       "layout": "IPY_MODEL_b3c0a37bdf844e4fbb944d133d591661",
       "style": "IPY_MODEL_42f979cd59044874a87ec9921462690b",
       "value": " 321M/? [00:14&lt;00:00, 23.7MB/s]"
      }
     },
     "a0fc2786be2a4529a6f8fab72d10bdaa": {
      "model_module": "@jupyter-widgets/controls",
      "model_module_version": "1.5.0",
      "model_name": "ProgressStyleModel",
      "state": {
       "description_width": ""
      }
     },
     "a60f535239684552b6df665cb9a84b9b": {
      "model_module": "@jupyter-widgets/controls",
      "model_module_version": "1.5.0",
      "model_name": "ProgressStyleModel",
      "state": {
       "description_width": ""
      }
     },
     "a8e9ecf15dbf4affbb054602e47bdbec": {
      "model_module": "@jupyter-widgets/controls",
      "model_module_version": "1.5.0",
      "model_name": "DescriptionStyleModel",
      "state": {
       "description_width": ""
      }
     },
     "ade839e040014c6db634e39ec1997721": {
      "model_module": "@jupyter-widgets/controls",
      "model_module_version": "1.5.0",
      "model_name": "DescriptionStyleModel",
      "state": {
       "description_width": ""
      }
     },
     "ae316350bb934f10943c576377850db4": {
      "model_module": "@jupyter-widgets/base",
      "model_module_version": "1.2.0",
      "model_name": "LayoutModel",
      "state": {}
     },
     "aebd267b64bb4046b4f911a53f537d53": {
      "model_module": "@jupyter-widgets/base",
      "model_module_version": "1.2.0",
      "model_name": "LayoutModel",
      "state": {}
     },
     "b018725f80bd4fef87576502fe07bc25": {
      "model_module": "@jupyter-widgets/controls",
      "model_module_version": "1.5.0",
      "model_name": "DescriptionStyleModel",
      "state": {
       "description_width": ""
      }
     },
     "b04d7a701a6047e6b9cb2029dbe3b207": {
      "model_module": "@jupyter-widgets/controls",
      "model_module_version": "1.5.0",
      "model_name": "FloatProgressModel",
      "state": {
       "bar_style": "success",
       "layout": "IPY_MODEL_4079e312b68848368153a18950bbaabf",
       "max": 336817141,
       "style": "IPY_MODEL_729ecc46370b49a28e17494eda5e3121",
       "value": 336817141
      }
     },
     "b0e53e519ebd4247a2323a3d59160957": {
      "model_module": "@jupyter-widgets/controls",
      "model_module_version": "1.5.0",
      "model_name": "HTMLModel",
      "state": {
       "layout": "IPY_MODEL_c2913c48e8a14ef0a0be0e28a8a2e6d3",
       "style": "IPY_MODEL_c6b8888715624e92bc1d3807303cfdc5",
       "value": " 321M/? [00:14&lt;00:00, 22.9MB/s]"
      }
     },
     "b3a955236ead456d804b8661749fdcdc": {
      "model_module": "@jupyter-widgets/controls",
      "model_module_version": "1.5.0",
      "model_name": "FloatProgressModel",
      "state": {
       "bar_style": "success",
       "layout": "IPY_MODEL_31c996a4557e40d5ae753283bb0fb676",
       "max": 336817141,
       "style": "IPY_MODEL_a60f535239684552b6df665cb9a84b9b",
       "value": 336817141
      }
     },
     "b3c0a37bdf844e4fbb944d133d591661": {
      "model_module": "@jupyter-widgets/base",
      "model_module_version": "1.2.0",
      "model_name": "LayoutModel",
      "state": {}
     },
     "b673f80a0363440db0d4fb02e64773c4": {
      "model_module": "@jupyter-widgets/controls",
      "model_module_version": "1.5.0",
      "model_name": "DescriptionStyleModel",
      "state": {
       "description_width": ""
      }
     },
     "b70b40e715f8432ca5ee5f6870b983b6": {
      "model_module": "@jupyter-widgets/controls",
      "model_module_version": "1.5.0",
      "model_name": "HTMLModel",
      "state": {
       "layout": "IPY_MODEL_7e3597606f5046fa82a1d97d095b8725",
       "style": "IPY_MODEL_a8e9ecf15dbf4affbb054602e47bdbec",
       "value": "100%"
      }
     },
     "bcec9da89f104a40b3e2de80186ef241": {
      "model_module": "@jupyter-widgets/base",
      "model_module_version": "1.2.0",
      "model_name": "LayoutModel",
      "state": {}
     },
     "bf6e82598e954b3faca2102ebecbdee5": {
      "model_module": "@jupyter-widgets/controls",
      "model_module_version": "1.5.0",
      "model_name": "HTMLModel",
      "state": {
       "layout": "IPY_MODEL_019df7a20f424f5c97850844d0abb220",
       "style": "IPY_MODEL_887865f1a81142d3879e2a304ce4f24c"
      }
     },
     "bf757a5d53604c8e8f512534b3d24ff4": {
      "model_module": "@jupyter-widgets/controls",
      "model_module_version": "1.5.0",
      "model_name": "FloatProgressModel",
      "state": {
       "bar_style": "success",
       "layout": "IPY_MODEL_5e5316dcc9ce49148fd85041baafe095",
       "max": 336817141,
       "style": "IPY_MODEL_a0fc2786be2a4529a6f8fab72d10bdaa",
       "value": 336817141
      }
     },
     "c2913c48e8a14ef0a0be0e28a8a2e6d3": {
      "model_module": "@jupyter-widgets/base",
      "model_module_version": "1.2.0",
      "model_name": "LayoutModel",
      "state": {}
     },
     "c5f0fddf636a4c678562125e24f8175b": {
      "model_module": "@jupyter-widgets/controls",
      "model_module_version": "1.5.0",
      "model_name": "HTMLModel",
      "state": {
       "layout": "IPY_MODEL_480eacb11c69469f80aa8cb476eb8e7d",
       "style": "IPY_MODEL_09f189cf622c4447b9cc6a01b0bd716d",
       "value": " 321M/? [00:15&lt;00:00, 26.5MB/s]"
      }
     },
     "c6b8888715624e92bc1d3807303cfdc5": {
      "model_module": "@jupyter-widgets/controls",
      "model_module_version": "1.5.0",
      "model_name": "DescriptionStyleModel",
      "state": {
       "description_width": ""
      }
     },
     "d2c98177446642678dd236d357ccb3b2": {
      "model_module": "@jupyter-widgets/controls",
      "model_module_version": "1.5.0",
      "model_name": "ProgressStyleModel",
      "state": {
       "description_width": ""
      }
     },
     "d5a535451aa64618b8e32cda05a4d205": {
      "model_module": "@jupyter-widgets/base",
      "model_module_version": "1.2.0",
      "model_name": "LayoutModel",
      "state": {}
     },
     "d8fe8ebe8a2b4fa18f3fdb6258d82d9c": {
      "model_module": "@jupyter-widgets/controls",
      "model_module_version": "1.5.0",
      "model_name": "FloatProgressModel",
      "state": {
       "bar_style": "success",
       "layout": "IPY_MODEL_d5a535451aa64618b8e32cda05a4d205",
       "max": 15,
       "style": "IPY_MODEL_ea1749c2f5e5490286bff984fa30f368",
       "value": 15
      }
     },
     "dcdee95b18b7430e90be4201fb6a9088": {
      "model_module": "@jupyter-widgets/controls",
      "model_module_version": "1.5.0",
      "model_name": "DescriptionStyleModel",
      "state": {
       "description_width": ""
      }
     },
     "dfabb836300c4c5caa893497facf2106": {
      "model_module": "@jupyter-widgets/controls",
      "model_module_version": "1.5.0",
      "model_name": "HBoxModel",
      "state": {
       "children": [
        "IPY_MODEL_108fec7ea54e4e12a5b54cae13c7ec2d",
        "IPY_MODEL_94cc4ca60a3c453888631b402bae6004",
        "IPY_MODEL_f91b52cd61bd4faba65850526bb0fffd"
       ],
       "layout": "IPY_MODEL_ae316350bb934f10943c576377850db4"
      }
     },
     "e1a8ed08ec56416cb4d34455b24fff2c": {
      "model_module": "@jupyter-widgets/controls",
      "model_module_version": "1.5.0",
      "model_name": "HTMLModel",
      "state": {
       "layout": "IPY_MODEL_12d93809bf404f769e5507ead8593229",
       "style": "IPY_MODEL_b018725f80bd4fef87576502fe07bc25",
       "value": " 15/15 [00:00&lt;00:00, 35.56it/s]"
      }
     },
     "e46b6fe5fe8f49fe909d276d442f80fa": {
      "model_module": "@jupyter-widgets/base",
      "model_module_version": "1.2.0",
      "model_name": "LayoutModel",
      "state": {}
     },
     "e928212baa2d4afc930b09cef45b124c": {
      "model_module": "@jupyter-widgets/controls",
      "model_module_version": "1.5.0",
      "model_name": "ProgressStyleModel",
      "state": {
       "description_width": ""
      }
     },
     "ea1749c2f5e5490286bff984fa30f368": {
      "model_module": "@jupyter-widgets/controls",
      "model_module_version": "1.5.0",
      "model_name": "ProgressStyleModel",
      "state": {
       "description_width": ""
      }
     },
     "f79151e507a34f2ea1933370fcee277b": {
      "model_module": "@jupyter-widgets/base",
      "model_module_version": "1.2.0",
      "model_name": "LayoutModel",
      "state": {}
     },
     "f91b52cd61bd4faba65850526bb0fffd": {
      "model_module": "@jupyter-widgets/controls",
      "model_module_version": "1.5.0",
      "model_name": "HTMLModel",
      "state": {
       "layout": "IPY_MODEL_090af5d3a86041d69a7986d4460fb0dd",
       "style": "IPY_MODEL_518bd0beb273477d8aa87368783cd6db",
       "value": " 330M/? [00:12&lt;00:00, 30.7MB/s]"
      }
     },
     "f96d356b6f5a4bba8fcba0ddb2a86108": {
      "model_module": "@jupyter-widgets/base",
      "model_module_version": "1.2.0",
      "model_name": "LayoutModel",
      "state": {}
     },
     "fe1527d104d24533a43e6eecee80adad": {
      "model_module": "@jupyter-widgets/base",
      "model_module_version": "1.2.0",
      "model_name": "LayoutModel",
      "state": {}
     }
    },
    "version_major": 2,
    "version_minor": 0
   }
  }
 },
 "nbformat": 4,
 "nbformat_minor": 5
}
