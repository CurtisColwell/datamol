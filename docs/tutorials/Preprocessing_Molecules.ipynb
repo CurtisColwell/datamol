{
 "cells": [
  {
   "cell_type": "markdown",
   "metadata": {},
   "source": [
    "# Preprocessing Molecules\n",
    "\n",
    "You have a dataset of molecules (SMILES) and you want to preprocess it in order to clean and standardize them. You can use `datamol` to easily design your own preprocessing pipeline and execute in parallel."
   ]
  },
  {
   "cell_type": "code",
   "execution_count": 1,
   "metadata": {},
   "outputs": [],
   "source": [
    "import pandas as pd\n",
    "import datamol as dm\n",
    "\n",
    "dm.disable_rdkit_log()"
   ]
  },
  {
   "cell_type": "markdown",
   "metadata": {},
   "source": [
    "The pipeline is applied on every molecules of the dataset and consist on the following steps:\n",
    "\n",
    "- Convert to a mol.\n",
    "- Fix common errors in the mol.\n",
    "- Sanitize the mol.\n",
    "- Standardize the mol.\n",
    "- Generate a standardized SMILES.\n",
    "- Generate SELFIES.\n",
    "- Generate InChi and InChi key.\n",
    "\n",
    "The resulting dataset can then saved as a CSV file or an SDF file (both files will have the exact same information stored)."
   ]
  },
  {
   "cell_type": "code",
   "execution_count": 2,
   "metadata": {},
   "outputs": [
    {
     "name": "stdout",
     "output_type": "stream",
     "text": [
      "(642, 4)\n"
     ]
    },
    {
     "data": {
      "text/html": [
       "<div>\n",
       "<style scoped>\n",
       "    .dataframe tbody tr th:only-of-type {\n",
       "        vertical-align: middle;\n",
       "    }\n",
       "\n",
       "    .dataframe tbody tr th {\n",
       "        vertical-align: top;\n",
       "    }\n",
       "\n",
       "    .dataframe thead th {\n",
       "        text-align: right;\n",
       "    }\n",
       "</style>\n",
       "<table border=\"1\" class=\"dataframe\">\n",
       "  <thead>\n",
       "    <tr style=\"text-align: right;\">\n",
       "      <th></th>\n",
       "      <th>iupac</th>\n",
       "      <th>smiles</th>\n",
       "      <th>expt</th>\n",
       "      <th>calc</th>\n",
       "    </tr>\n",
       "  </thead>\n",
       "  <tbody>\n",
       "    <tr>\n",
       "      <th>0</th>\n",
       "      <td>4-methoxy-N,N-dimethyl-benzamide</td>\n",
       "      <td>CN(C)C(=O)c1ccc(cc1)OC</td>\n",
       "      <td>-11.01</td>\n",
       "      <td>-9.625</td>\n",
       "    </tr>\n",
       "    <tr>\n",
       "      <th>1</th>\n",
       "      <td>methanesulfonyl chloride</td>\n",
       "      <td>CS(=O)(=O)Cl</td>\n",
       "      <td>-4.87</td>\n",
       "      <td>-6.219</td>\n",
       "    </tr>\n",
       "    <tr>\n",
       "      <th>2</th>\n",
       "      <td>3-methylbut-1-ene</td>\n",
       "      <td>CC(C)C=C</td>\n",
       "      <td>1.83</td>\n",
       "      <td>2.452</td>\n",
       "    </tr>\n",
       "    <tr>\n",
       "      <th>3</th>\n",
       "      <td>2-ethylpyrazine</td>\n",
       "      <td>CCc1cnccn1</td>\n",
       "      <td>-5.45</td>\n",
       "      <td>-5.809</td>\n",
       "    </tr>\n",
       "    <tr>\n",
       "      <th>4</th>\n",
       "      <td>heptan-1-ol</td>\n",
       "      <td>CCCCCCCO</td>\n",
       "      <td>-4.21</td>\n",
       "      <td>-2.917</td>\n",
       "    </tr>\n",
       "  </tbody>\n",
       "</table>\n",
       "</div>"
      ],
      "text/plain": [
       "                              iupac                  smiles   expt   calc\n",
       "0  4-methoxy-N,N-dimethyl-benzamide  CN(C)C(=O)c1ccc(cc1)OC -11.01 -9.625\n",
       "1          methanesulfonyl chloride            CS(=O)(=O)Cl  -4.87 -6.219\n",
       "2                 3-methylbut-1-ene                CC(C)C=C   1.83  2.452\n",
       "3                   2-ethylpyrazine              CCc1cnccn1  -5.45 -5.809\n",
       "4                       heptan-1-ol                CCCCCCCO  -4.21 -2.917"
      ]
     },
     "execution_count": 2,
     "metadata": {},
     "output_type": "execute_result"
    }
   ],
   "source": [
    "# Load a dataset\n",
    "data = dm.data.freesolv()\n",
    "print(data.shape)\n",
    "data.head()"
   ]
  },
  {
   "cell_type": "markdown",
   "metadata": {},
   "source": [
    "### Preprocess using `pd.DataFrame.apply`\n",
    "\n",
    "Easy and classic way to perform row-wise operations on a dataframe."
   ]
  },
  {
   "cell_type": "code",
   "execution_count": 3,
   "metadata": {},
   "outputs": [
    {
     "data": {
      "text/html": [
       "<div>\n",
       "<style scoped>\n",
       "    .dataframe tbody tr th:only-of-type {\n",
       "        vertical-align: middle;\n",
       "    }\n",
       "\n",
       "    .dataframe tbody tr th {\n",
       "        vertical-align: top;\n",
       "    }\n",
       "\n",
       "    .dataframe thead th {\n",
       "        text-align: right;\n",
       "    }\n",
       "</style>\n",
       "<table border=\"1\" class=\"dataframe\">\n",
       "  <thead>\n",
       "    <tr style=\"text-align: right;\">\n",
       "      <th></th>\n",
       "      <th>iupac</th>\n",
       "      <th>smiles</th>\n",
       "      <th>expt</th>\n",
       "      <th>calc</th>\n",
       "      <th>standard_smiles</th>\n",
       "      <th>selfies</th>\n",
       "      <th>inchi</th>\n",
       "      <th>inchikey</th>\n",
       "    </tr>\n",
       "  </thead>\n",
       "  <tbody>\n",
       "    <tr>\n",
       "      <th>0</th>\n",
       "      <td>4-methoxy-N,N-dimethyl-benzamide</td>\n",
       "      <td>CN(C)C(=O)c1ccc(cc1)OC</td>\n",
       "      <td>-11.01</td>\n",
       "      <td>-9.625</td>\n",
       "      <td>COc1ccc(C(=O)N(C)C)cc1</td>\n",
       "      <td>[C][O][C][=C][C][=C][Branch1][#Branch2][C][=Br...</td>\n",
       "      <td>InChI=1S/C10H13NO2/c1-11(2)10(12)8-4-6-9(13-3)...</td>\n",
       "      <td>OCGXPFSUJVHRHA-UHFFFAOYSA-N</td>\n",
       "    </tr>\n",
       "    <tr>\n",
       "      <th>1</th>\n",
       "      <td>methanesulfonyl chloride</td>\n",
       "      <td>CS(=O)(=O)Cl</td>\n",
       "      <td>-4.87</td>\n",
       "      <td>-6.219</td>\n",
       "      <td>CS(=O)(=O)Cl</td>\n",
       "      <td>[C][S][=Branch1][C][=O][=Branch1][C][=O][Cl]</td>\n",
       "      <td>InChI=1S/CH3ClO2S/c1-5(2,3)4/h1H3</td>\n",
       "      <td>QARBMVPHQWIHKH-UHFFFAOYSA-N</td>\n",
       "    </tr>\n",
       "    <tr>\n",
       "      <th>2</th>\n",
       "      <td>3-methylbut-1-ene</td>\n",
       "      <td>CC(C)C=C</td>\n",
       "      <td>1.83</td>\n",
       "      <td>2.452</td>\n",
       "      <td>C=CC(C)C</td>\n",
       "      <td>[C][=C][C][Branch1][C][C][C]</td>\n",
       "      <td>InChI=1S/C5H10/c1-4-5(2)3/h4-5H,1H2,2-3H3</td>\n",
       "      <td>YHQXBTXEYZIYOV-UHFFFAOYSA-N</td>\n",
       "    </tr>\n",
       "    <tr>\n",
       "      <th>3</th>\n",
       "      <td>2-ethylpyrazine</td>\n",
       "      <td>CCc1cnccn1</td>\n",
       "      <td>-5.45</td>\n",
       "      <td>-5.809</td>\n",
       "      <td>CCc1cnccn1</td>\n",
       "      <td>[C][C][C][=C][N][=C][C][=N][Ring1][=Branch1]</td>\n",
       "      <td>InChI=1S/C6H8N2/c1-2-6-5-7-3-4-8-6/h3-5H,2H2,1H3</td>\n",
       "      <td>KVFIJIWMDBAGDP-UHFFFAOYSA-N</td>\n",
       "    </tr>\n",
       "    <tr>\n",
       "      <th>4</th>\n",
       "      <td>heptan-1-ol</td>\n",
       "      <td>CCCCCCCO</td>\n",
       "      <td>-4.21</td>\n",
       "      <td>-2.917</td>\n",
       "      <td>CCCCCCCO</td>\n",
       "      <td>[C][C][C][C][C][C][C][O]</td>\n",
       "      <td>InChI=1S/C7H16O/c1-2-3-4-5-6-7-8/h8H,2-7H2,1H3</td>\n",
       "      <td>BBMCTIGTTCKYKF-UHFFFAOYSA-N</td>\n",
       "    </tr>\n",
       "  </tbody>\n",
       "</table>\n",
       "</div>"
      ],
      "text/plain": [
       "                              iupac                  smiles   expt   calc  \\\n",
       "0  4-methoxy-N,N-dimethyl-benzamide  CN(C)C(=O)c1ccc(cc1)OC -11.01 -9.625   \n",
       "1          methanesulfonyl chloride            CS(=O)(=O)Cl  -4.87 -6.219   \n",
       "2                 3-methylbut-1-ene                CC(C)C=C   1.83  2.452   \n",
       "3                   2-ethylpyrazine              CCc1cnccn1  -5.45 -5.809   \n",
       "4                       heptan-1-ol                CCCCCCCO  -4.21 -2.917   \n",
       "\n",
       "          standard_smiles                                            selfies  \\\n",
       "0  COc1ccc(C(=O)N(C)C)cc1  [C][O][C][=C][C][=C][Branch1][#Branch2][C][=Br...   \n",
       "1            CS(=O)(=O)Cl       [C][S][=Branch1][C][=O][=Branch1][C][=O][Cl]   \n",
       "2                C=CC(C)C                       [C][=C][C][Branch1][C][C][C]   \n",
       "3              CCc1cnccn1       [C][C][C][=C][N][=C][C][=N][Ring1][=Branch1]   \n",
       "4                CCCCCCCO                           [C][C][C][C][C][C][C][O]   \n",
       "\n",
       "                                               inchi  \\\n",
       "0  InChI=1S/C10H13NO2/c1-11(2)10(12)8-4-6-9(13-3)...   \n",
       "1                  InChI=1S/CH3ClO2S/c1-5(2,3)4/h1H3   \n",
       "2          InChI=1S/C5H10/c1-4-5(2)3/h4-5H,1H2,2-3H3   \n",
       "3   InChI=1S/C6H8N2/c1-2-6-5-7-3-4-8-6/h3-5H,2H2,1H3   \n",
       "4     InChI=1S/C7H16O/c1-2-3-4-5-6-7-8/h8H,2-7H2,1H3   \n",
       "\n",
       "                      inchikey  \n",
       "0  OCGXPFSUJVHRHA-UHFFFAOYSA-N  \n",
       "1  QARBMVPHQWIHKH-UHFFFAOYSA-N  \n",
       "2  YHQXBTXEYZIYOV-UHFFFAOYSA-N  \n",
       "3  KVFIJIWMDBAGDP-UHFFFAOYSA-N  \n",
       "4  BBMCTIGTTCKYKF-UHFFFAOYSA-N  "
      ]
     },
     "execution_count": 3,
     "metadata": {},
     "output_type": "execute_result"
    }
   ],
   "source": [
    "smiles_column = \"smiles\"\n",
    "\n",
    "def _preprocess(row):\n",
    "    mol = dm.to_mol(row[smiles_column], ordered=True)\n",
    "    mol = dm.fix_mol(mol)\n",
    "    mol = dm.sanitize_mol(mol, sanifix=True, charge_neutral=False)\n",
    "    mol = dm.standardize_mol(mol, disconnect_metals=False, normalize=True, reionize=True, uncharge=False, stereo=True)\n",
    "\n",
    "    row[\"standard_smiles\"] = dm.standardize_smiles(dm.to_smiles(mol))\n",
    "    row[\"selfies\"] = dm.to_selfies(mol)\n",
    "    row[\"inchi\"] = dm.to_inchi(mol)\n",
    "    row[\"inchikey\"] = dm.to_inchikey(mol)\n",
    "    return row\n",
    "\n",
    "data_clean = data.apply(_preprocess, axis=1)    \n",
    "data_clean.head()"
   ]
  },
  {
   "cell_type": "markdown",
   "metadata": {},
   "source": [
    "### Preprocess using `dm.parallelized`\n",
    "\n",
    "Parallelize the preprocessing. This approach will only be faster if your dataset is very large."
   ]
  },
  {
   "cell_type": "code",
   "execution_count": 6,
   "metadata": {},
   "outputs": [
    {
     "name": "stderr",
     "output_type": "stream",
     "text": [
      "100%|██████████| 642/642 [00:00<00:00, 1317.53it/s]\n"
     ]
    },
    {
     "data": {
      "text/html": [
       "<div>\n",
       "<style scoped>\n",
       "    .dataframe tbody tr th:only-of-type {\n",
       "        vertical-align: middle;\n",
       "    }\n",
       "\n",
       "    .dataframe tbody tr th {\n",
       "        vertical-align: top;\n",
       "    }\n",
       "\n",
       "    .dataframe thead th {\n",
       "        text-align: right;\n",
       "    }\n",
       "</style>\n",
       "<table border=\"1\" class=\"dataframe\">\n",
       "  <thead>\n",
       "    <tr style=\"text-align: right;\">\n",
       "      <th></th>\n",
       "      <th>iupac</th>\n",
       "      <th>smiles</th>\n",
       "      <th>expt</th>\n",
       "      <th>calc</th>\n",
       "      <th>standard_smiles</th>\n",
       "      <th>selfies</th>\n",
       "      <th>inchi</th>\n",
       "      <th>inchikey</th>\n",
       "    </tr>\n",
       "  </thead>\n",
       "  <tbody>\n",
       "    <tr>\n",
       "      <th>0</th>\n",
       "      <td>4-methoxy-N,N-dimethyl-benzamide</td>\n",
       "      <td>CN(C)C(=O)c1ccc(cc1)OC</td>\n",
       "      <td>-11.01</td>\n",
       "      <td>-9.625</td>\n",
       "      <td>COc1ccc(C(=O)N(C)C)cc1</td>\n",
       "      <td>[C][O][C][=C][C][=C][Branch1][#Branch2][C][=Br...</td>\n",
       "      <td>InChI=1S/C10H13NO2/c1-11(2)10(12)8-4-6-9(13-3)...</td>\n",
       "      <td>OCGXPFSUJVHRHA-UHFFFAOYSA-N</td>\n",
       "    </tr>\n",
       "    <tr>\n",
       "      <th>1</th>\n",
       "      <td>methanesulfonyl chloride</td>\n",
       "      <td>CS(=O)(=O)Cl</td>\n",
       "      <td>-4.87</td>\n",
       "      <td>-6.219</td>\n",
       "      <td>CS(=O)(=O)Cl</td>\n",
       "      <td>[C][S][=Branch1][C][=O][=Branch1][C][=O][Cl]</td>\n",
       "      <td>InChI=1S/CH3ClO2S/c1-5(2,3)4/h1H3</td>\n",
       "      <td>QARBMVPHQWIHKH-UHFFFAOYSA-N</td>\n",
       "    </tr>\n",
       "    <tr>\n",
       "      <th>2</th>\n",
       "      <td>3-methylbut-1-ene</td>\n",
       "      <td>CC(C)C=C</td>\n",
       "      <td>1.83</td>\n",
       "      <td>2.452</td>\n",
       "      <td>C=CC(C)C</td>\n",
       "      <td>[C][=C][C][Branch1][C][C][C]</td>\n",
       "      <td>InChI=1S/C5H10/c1-4-5(2)3/h4-5H,1H2,2-3H3</td>\n",
       "      <td>YHQXBTXEYZIYOV-UHFFFAOYSA-N</td>\n",
       "    </tr>\n",
       "    <tr>\n",
       "      <th>3</th>\n",
       "      <td>2-ethylpyrazine</td>\n",
       "      <td>CCc1cnccn1</td>\n",
       "      <td>-5.45</td>\n",
       "      <td>-5.809</td>\n",
       "      <td>CCc1cnccn1</td>\n",
       "      <td>[C][C][C][=C][N][=C][C][=N][Ring1][=Branch1]</td>\n",
       "      <td>InChI=1S/C6H8N2/c1-2-6-5-7-3-4-8-6/h3-5H,2H2,1H3</td>\n",
       "      <td>KVFIJIWMDBAGDP-UHFFFAOYSA-N</td>\n",
       "    </tr>\n",
       "    <tr>\n",
       "      <th>4</th>\n",
       "      <td>heptan-1-ol</td>\n",
       "      <td>CCCCCCCO</td>\n",
       "      <td>-4.21</td>\n",
       "      <td>-2.917</td>\n",
       "      <td>CCCCCCCO</td>\n",
       "      <td>[C][C][C][C][C][C][C][O]</td>\n",
       "      <td>InChI=1S/C7H16O/c1-2-3-4-5-6-7-8/h8H,2-7H2,1H3</td>\n",
       "      <td>BBMCTIGTTCKYKF-UHFFFAOYSA-N</td>\n",
       "    </tr>\n",
       "  </tbody>\n",
       "</table>\n",
       "</div>"
      ],
      "text/plain": [
       "                              iupac                  smiles   expt   calc  \\\n",
       "0  4-methoxy-N,N-dimethyl-benzamide  CN(C)C(=O)c1ccc(cc1)OC -11.01 -9.625   \n",
       "1          methanesulfonyl chloride            CS(=O)(=O)Cl  -4.87 -6.219   \n",
       "2                 3-methylbut-1-ene                CC(C)C=C   1.83  2.452   \n",
       "3                   2-ethylpyrazine              CCc1cnccn1  -5.45 -5.809   \n",
       "4                       heptan-1-ol                CCCCCCCO  -4.21 -2.917   \n",
       "\n",
       "          standard_smiles                                            selfies  \\\n",
       "0  COc1ccc(C(=O)N(C)C)cc1  [C][O][C][=C][C][=C][Branch1][#Branch2][C][=Br...   \n",
       "1            CS(=O)(=O)Cl       [C][S][=Branch1][C][=O][=Branch1][C][=O][Cl]   \n",
       "2                C=CC(C)C                       [C][=C][C][Branch1][C][C][C]   \n",
       "3              CCc1cnccn1       [C][C][C][=C][N][=C][C][=N][Ring1][=Branch1]   \n",
       "4                CCCCCCCO                           [C][C][C][C][C][C][C][O]   \n",
       "\n",
       "                                               inchi  \\\n",
       "0  InChI=1S/C10H13NO2/c1-11(2)10(12)8-4-6-9(13-3)...   \n",
       "1                  InChI=1S/CH3ClO2S/c1-5(2,3)4/h1H3   \n",
       "2          InChI=1S/C5H10/c1-4-5(2)3/h4-5H,1H2,2-3H3   \n",
       "3   InChI=1S/C6H8N2/c1-2-6-5-7-3-4-8-6/h3-5H,2H2,1H3   \n",
       "4     InChI=1S/C7H16O/c1-2-3-4-5-6-7-8/h8H,2-7H2,1H3   \n",
       "\n",
       "                      inchikey  \n",
       "0  OCGXPFSUJVHRHA-UHFFFAOYSA-N  \n",
       "1  QARBMVPHQWIHKH-UHFFFAOYSA-N  \n",
       "2  YHQXBTXEYZIYOV-UHFFFAOYSA-N  \n",
       "3  KVFIJIWMDBAGDP-UHFFFAOYSA-N  \n",
       "4  BBMCTIGTTCKYKF-UHFFFAOYSA-N  "
      ]
     },
     "execution_count": 6,
     "metadata": {},
     "output_type": "execute_result"
    }
   ],
   "source": [
    "smiles_column = \"smiles\"\n",
    "\n",
    "def _preprocess(i, row):\n",
    "\n",
    "    dm.disable_rdkit_log()\n",
    "\n",
    "    mol = dm.to_mol(row[smiles_column], ordered=True)\n",
    "    mol = dm.fix_mol(mol)\n",
    "    mol = dm.sanitize_mol(mol, sanifix=True, charge_neutral=False)\n",
    "    mol = dm.standardize_mol(mol, disconnect_metals=False, normalize=True, reionize=True, uncharge=False, stereo=True)\n",
    "\n",
    "    row[\"standard_smiles\"] = dm.standardize_smiles(dm.to_smiles(mol))\n",
    "    row[\"selfies\"] = dm.to_selfies(mol)\n",
    "    row[\"inchi\"] = dm.to_inchi(mol)\n",
    "    row[\"inchikey\"] = dm.to_inchikey(mol)\n",
    "    return row\n",
    "\n",
    "data_clean = dm.parallelized(_preprocess, data.iterrows(), arg_type='args', progress=True, total=len(data))\n",
    "data_clean = pd.DataFrame(data_clean)\n",
    "data_clean.head()"
   ]
  },
  {
   "cell_type": "markdown",
   "metadata": {},
   "source": [
    "### Visualize"
   ]
  },
  {
   "cell_type": "code",
   "execution_count": 5,
   "metadata": {},
   "outputs": [
    {
     "data": {
      "image/svg+xml": "<svg xmlns=\"http://www.w3.org/2000/svg\" xmlns:rdkit=\"http://www.rdkit.org/xml\" xmlns:xlink=\"http://www.w3.org/1999/xlink\" version=\"1.1\" baseProfile=\"full\" xml:space=\"preserve\" width=\"800px\" height=\"400px\" viewBox=\"0 0 800 400\">\n<!-- END OF HEADER -->\n<rect style=\"opacity:1.0;fill:#FFFFFF;stroke:none\" width=\"800.0\" height=\"400.0\" x=\"0.0\" y=\"0.0\"> </rect>\n<rect style=\"opacity:1.0;fill:#FFFFFF;stroke:none\" width=\"800.0\" height=\"400.0\" x=\"0.0\" y=\"0.0\"> </rect>\n<rect style=\"opacity:1.0;fill:#FFFFFF;stroke:none\" width=\"800.0\" height=\"400.0\" x=\"0.0\" y=\"0.0\"> </rect>\n<rect style=\"opacity:1.0;fill:#FFFFFF;stroke:none\" width=\"800.0\" height=\"400.0\" x=\"0.0\" y=\"0.0\"> </rect>\n<rect style=\"opacity:1.0;fill:#FFFFFF;stroke:none\" width=\"800.0\" height=\"400.0\" x=\"0.0\" y=\"0.0\"> </rect>\n<rect style=\"opacity:1.0;fill:#FFFFFF;stroke:none\" width=\"800.0\" height=\"400.0\" x=\"0.0\" y=\"0.0\"> </rect>\n<rect style=\"opacity:1.0;fill:#FFFFFF;stroke:none\" width=\"800.0\" height=\"400.0\" x=\"0.0\" y=\"0.0\"> </rect>\n<rect style=\"opacity:1.0;fill:#FFFFFF;stroke:none\" width=\"800.0\" height=\"400.0\" x=\"0.0\" y=\"0.0\"> </rect>\n<rect style=\"opacity:1.0;fill:#FFFFFF;stroke:none\" width=\"800.0\" height=\"400.0\" x=\"0.0\" y=\"0.0\"> </rect>\n<path class=\"bond-0 atom-0 atom-1\" d=\"M 68.0,96.0 L 95.8,79.9\" style=\"fill:none;fill-rule:evenodd;stroke:#000000;stroke-width:2.0px;stroke-linecap:butt;stroke-linejoin:miter;stroke-opacity:1\"/>\n<path class=\"bond-1 atom-1 atom-2\" d=\"M 95.8,79.9 L 123.7,63.9\" style=\"fill:none;fill-rule:evenodd;stroke:#000000;stroke-width:2.0px;stroke-linecap:butt;stroke-linejoin:miter;stroke-opacity:1\"/>\n<path class=\"bond-2 atom-1 atom-3\" d=\"M 95.8,79.9 L 111.9,107.8\" style=\"fill:none;fill-rule:evenodd;stroke:#000000;stroke-width:2.0px;stroke-linecap:butt;stroke-linejoin:miter;stroke-opacity:1\"/>\n<path class=\"bond-3 atom-1 atom-4\" d=\"M 95.8,79.9 L 89.2,68.4\" style=\"fill:none;fill-rule:evenodd;stroke:#000000;stroke-width:2.0px;stroke-linecap:butt;stroke-linejoin:miter;stroke-opacity:1\"/>\n<path class=\"bond-3 atom-1 atom-4\" d=\"M 89.2,68.4 L 82.5,56.8\" style=\"fill:none;fill-rule:evenodd;stroke:#7F4C19;stroke-width:2.0px;stroke-linecap:butt;stroke-linejoin:miter;stroke-opacity:1\"/>\n<path class=\"atom-4\" d=\"M 75.0 51.8 Q 75.9 52.1, 76.3 52.6 Q 76.8 53.2, 76.8 53.9 Q 76.8 55.2, 76.0 55.9 Q 75.2 56.6, 73.6 56.6 L 70.6 56.6 L 70.6 47.5 L 73.3 47.5 Q 74.8 47.5, 75.6 48.2 Q 76.4 48.8, 76.4 49.9 Q 76.4 51.3, 75.0 51.8 M 71.8 48.6 L 71.8 51.4 L 73.3 51.4 Q 74.2 51.4, 74.6 51.0 Q 75.1 50.7, 75.1 49.9 Q 75.1 48.6, 73.3 48.6 L 71.8 48.6 M 73.6 55.6 Q 74.5 55.6, 75.0 55.2 Q 75.5 54.8, 75.5 53.9 Q 75.5 53.2, 75.0 52.8 Q 74.4 52.4, 73.4 52.4 L 71.8 52.4 L 71.8 55.6 L 73.6 55.6 \" fill=\"#7F4C19\"/>\n<path class=\"atom-4\" d=\"M 78.8 50.0 L 79.0 50.9 Q 79.7 49.9, 80.8 49.9 Q 81.2 49.9, 81.7 50.0 L 81.5 51.1 Q 80.9 51.0, 80.6 51.0 Q 80.1 51.0, 79.7 51.2 Q 79.4 51.4, 79.1 51.9 L 79.1 56.6 L 77.9 56.6 L 77.9 50.0 L 78.8 50.0 \" fill=\"#7F4C19\"/>\n<path d=\"M 61.7 184.4 Q 61.7 181.6, 63.0 180.1 Q 64.3 178.7, 66.8 178.7 Q 69.2 178.7, 70.4 180.3 L 69.4 181.2 Q 68.5 180.0, 66.8 180.0 Q 65.1 180.0, 64.2 181.1 Q 63.3 182.3, 63.3 184.4 Q 63.3 186.7, 64.3 187.8 Q 65.2 189.0, 67.0 189.0 Q 68.3 189.0, 69.7 188.2 L 70.2 189.4 Q 69.6 189.8, 68.7 190.0 Q 67.8 190.3, 66.8 190.3 Q 64.3 190.3, 63.0 188.8 Q 61.7 187.2, 61.7 184.4 \" fill=\"#000000\"/>\n<path d=\"M 71.2 184.4 Q 71.2 181.6, 72.5 180.1 Q 73.9 178.7, 76.4 178.7 Q 78.7 178.7, 80.0 180.3 L 78.9 181.2 Q 78.0 180.0, 76.4 180.0 Q 74.7 180.0, 73.8 181.1 Q 72.9 182.3, 72.9 184.4 Q 72.9 186.7, 73.8 187.8 Q 74.7 189.0, 76.6 189.0 Q 77.8 189.0, 79.3 188.2 L 79.7 189.4 Q 79.1 189.8, 78.2 190.0 Q 77.3 190.3, 76.3 190.3 Q 73.9 190.3, 72.5 188.8 Q 71.2 187.2, 71.2 184.4 \" fill=\"#000000\"/>\n<path d=\"M 80.8 185.6 Q 80.8 183.2, 81.4 181.4 Q 82.1 179.5, 83.4 177.4 L 84.3 178.0 Q 83.2 179.9, 82.7 181.6 Q 82.2 183.4, 82.2 185.6 Q 82.2 187.7, 82.7 189.4 Q 83.2 191.1, 84.3 193.1 L 83.4 193.7 Q 82.1 191.6, 81.4 189.8 Q 80.8 187.9, 80.8 185.6 \" fill=\"#000000\"/>\n<path d=\"M 85.1 184.4 Q 85.1 181.6, 86.4 180.1 Q 87.7 178.7, 90.2 178.7 Q 92.6 178.7, 93.8 180.3 L 92.8 181.2 Q 91.9 180.0, 90.2 180.0 Q 88.5 180.0, 87.6 181.1 Q 86.7 182.3, 86.7 184.4 Q 86.7 186.7, 87.6 187.8 Q 88.6 189.0, 90.4 189.0 Q 91.7 189.0, 93.1 188.2 L 93.6 189.4 Q 93.0 189.8, 92.1 190.0 Q 91.2 190.3, 90.2 190.3 Q 87.7 190.3, 86.4 188.8 Q 85.1 187.2, 85.1 184.4 \" fill=\"#000000\"/>\n<path d=\"M 97.7 185.6 Q 97.7 187.9, 97.1 189.8 Q 96.4 191.6, 95.1 193.7 L 94.2 193.1 Q 95.3 191.1, 95.8 189.4 Q 96.3 187.7, 96.3 185.6 Q 96.3 183.4, 95.8 181.6 Q 95.3 179.9, 94.2 178.0 L 95.1 177.4 Q 96.4 179.5, 97.1 181.4 Q 97.7 183.2, 97.7 185.6 \" fill=\"#000000\"/>\n<path d=\"M 98.5 185.6 Q 98.5 183.2, 99.2 181.4 Q 99.9 179.5, 101.2 177.4 L 102.1 178.0 Q 101.0 179.9, 100.5 181.6 Q 100.0 183.4, 100.0 185.6 Q 100.0 187.7, 100.5 189.4 Q 101.0 191.1, 102.1 193.1 L 101.2 193.7 Q 99.9 191.6, 99.2 189.8 Q 98.5 187.9, 98.5 185.6 \" fill=\"#000000\"/>\n<path d=\"M 102.9 184.4 Q 102.9 181.6, 104.2 180.1 Q 105.5 178.7, 108.0 178.7 Q 110.3 178.7, 111.6 180.3 L 110.5 181.2 Q 109.6 180.0, 108.0 180.0 Q 106.3 180.0, 105.4 181.1 Q 104.5 182.3, 104.5 184.4 Q 104.5 186.7, 105.4 187.8 Q 106.4 189.0, 108.2 189.0 Q 109.4 189.0, 110.9 188.2 L 111.3 189.4 Q 110.7 189.8, 109.9 190.0 Q 109.0 190.3, 108.0 190.3 Q 105.5 190.3, 104.2 188.8 Q 102.9 187.2, 102.9 184.4 \" fill=\"#000000\"/>\n<path d=\"M 115.5 185.6 Q 115.5 187.9, 114.8 189.8 Q 114.2 191.6, 112.9 193.7 L 112.0 193.1 Q 113.0 191.1, 113.5 189.4 Q 114.1 187.7, 114.1 185.6 Q 114.1 183.4, 113.5 181.6 Q 113.0 179.9, 112.0 178.0 L 112.9 177.4 Q 114.2 179.5, 114.8 181.4 Q 115.5 183.2, 115.5 185.6 \" fill=\"#000000\"/>\n<path d=\"M 122.4 184.2 Q 123.5 184.5, 124.0 185.1 Q 124.6 185.8, 124.6 186.8 Q 124.6 188.3, 123.6 189.2 Q 122.6 190.1, 120.7 190.1 L 116.9 190.1 L 116.9 178.8 L 120.2 178.8 Q 122.2 178.8, 123.1 179.6 Q 124.1 180.4, 124.1 181.8 Q 124.1 183.5, 122.4 184.2 M 118.4 180.1 L 118.4 183.6 L 120.2 183.6 Q 121.3 183.6, 121.9 183.2 Q 122.5 182.7, 122.5 181.8 Q 122.5 180.1, 120.2 180.1 L 118.4 180.1 M 120.7 188.8 Q 121.8 188.8, 122.4 188.3 Q 123.0 187.8, 123.0 186.8 Q 123.0 185.8, 122.3 185.4 Q 121.7 184.9, 120.4 184.9 L 118.4 184.9 L 118.4 188.8 L 120.7 188.8 \" fill=\"#000000\"/>\n<path d=\"M 127.1 181.9 L 127.3 183.0 Q 128.2 181.7, 129.6 181.7 Q 130.0 181.7, 130.7 181.9 L 130.4 183.2 Q 129.7 183.1, 129.3 183.1 Q 128.7 183.1, 128.2 183.4 Q 127.8 183.6, 127.4 184.2 L 127.4 190.1 L 125.9 190.1 L 125.9 181.9 L 127.1 181.9 \" fill=\"#000000\"/>\n<path class=\"bond-0 atom-0 atom-1\" d=\"M 340.3,85.4 L 309.4,76.6\" style=\"fill:none;fill-rule:evenodd;stroke:#000000;stroke-width:2.0px;stroke-linecap:butt;stroke-linejoin:miter;stroke-opacity:1\"/>\n<path class=\"bond-0 atom-0 atom-1\" d=\"M 342.1,79.2 L 315.8,71.7\" style=\"fill:none;fill-rule:evenodd;stroke:#000000;stroke-width:2.0px;stroke-linecap:butt;stroke-linejoin:miter;stroke-opacity:1\"/>\n<path class=\"bond-0 atom-0 atom-1\" d=\"M 338.5,91.6 L 312.2,84.1\" style=\"fill:none;fill-rule:evenodd;stroke:#000000;stroke-width:2.0px;stroke-linecap:butt;stroke-linejoin:miter;stroke-opacity:1\"/>\n<path class=\"bond-1 atom-1 atom-2\" d=\"M 309.4,76.6 L 278.4,67.7\" style=\"fill:none;fill-rule:evenodd;stroke:#000000;stroke-width:2.0px;stroke-linecap:butt;stroke-linejoin:miter;stroke-opacity:1\"/>\n<path class=\"bond-2 atom-2 atom-3\" d=\"M 278.4,67.7 L 255.3,90.1\" style=\"fill:none;fill-rule:evenodd;stroke:#000000;stroke-width:2.0px;stroke-linecap:butt;stroke-linejoin:miter;stroke-opacity:1\"/>\n<path d=\"M 271.4 188.4 Q 271.4 185.6, 272.7 184.2 Q 274.1 182.7, 276.6 182.7 Q 278.9 182.7, 280.2 184.3 L 279.1 185.2 Q 278.2 184.0, 276.6 184.0 Q 274.9 184.0, 274.0 185.1 Q 273.1 186.3, 273.1 188.4 Q 273.1 190.7, 274.0 191.8 Q 274.9 193.0, 276.8 193.0 Q 278.0 193.0, 279.5 192.2 L 279.9 193.4 Q 279.3 193.8, 278.4 194.0 Q 277.5 194.3, 276.5 194.3 Q 274.1 194.3, 272.7 192.8 Q 271.4 191.3, 271.4 188.4 \" fill=\"#000000\"/>\n<path d=\"M 290.9 187.1 L 288.7 187.1 L 288.2 190.0 L 290.3 190.0 L 290.1 191.1 L 288.0 191.1 L 287.5 194.1 L 286.2 194.1 L 286.7 191.1 L 284.0 191.1 L 283.5 194.1 L 282.2 194.1 L 282.7 191.1 L 280.5 191.1 L 280.7 190.0 L 282.9 190.0 L 283.4 187.1 L 281.2 187.1 L 281.4 185.9 L 283.6 185.9 L 284.2 182.8 L 285.4 182.8 L 284.9 185.9 L 287.6 185.9 L 288.1 182.8 L 289.4 182.8 L 288.8 185.9 L 291.1 185.9 L 290.9 187.1 M 286.9 190.0 L 287.4 187.1 L 284.7 187.1 L 284.2 190.0 L 286.9 190.0 \" fill=\"#000000\"/>\n<path d=\"M 291.9 188.4 Q 291.9 185.6, 293.2 184.2 Q 294.5 182.7, 297.0 182.7 Q 299.3 182.7, 300.6 184.3 L 299.5 185.2 Q 298.6 184.0, 297.0 184.0 Q 295.3 184.0, 294.4 185.1 Q 293.5 186.3, 293.5 188.4 Q 293.5 190.7, 294.4 191.8 Q 295.4 193.0, 297.2 193.0 Q 298.4 193.0, 299.9 192.2 L 300.3 193.4 Q 299.7 193.8, 298.8 194.0 Q 298.0 194.3, 297.0 194.3 Q 294.5 194.3, 293.2 192.8 Q 291.9 191.3, 291.9 188.4 \" fill=\"#000000\"/>\n<path d=\"M 301.4 188.4 Q 301.4 185.6, 302.7 184.2 Q 304.0 182.7, 306.5 182.7 Q 308.9 182.7, 310.1 184.3 L 309.1 185.2 Q 308.2 184.0, 306.5 184.0 Q 304.8 184.0, 303.9 185.1 Q 303.0 186.3, 303.0 188.4 Q 303.0 190.7, 304.0 191.8 Q 304.9 193.0, 306.7 193.0 Q 308.0 193.0, 309.4 192.2 L 309.9 193.4 Q 309.3 193.8, 308.4 194.0 Q 307.5 194.3, 306.5 194.3 Q 304.0 194.3, 302.7 192.8 Q 301.4 191.3, 301.4 188.4 \" fill=\"#000000\"/>\n<path d=\"M 310.9 188.4 Q 310.9 185.6, 312.2 184.2 Q 313.6 182.7, 316.1 182.7 Q 318.4 182.7, 319.7 184.3 L 318.6 185.2 Q 317.7 184.0, 316.1 184.0 Q 314.4 184.0, 313.5 185.1 Q 312.6 186.3, 312.6 188.4 Q 312.6 190.7, 313.5 191.8 Q 314.4 193.0, 316.3 193.0 Q 317.5 193.0, 319.0 192.2 L 319.4 193.4 Q 318.8 193.8, 317.9 194.0 Q 317.0 194.3, 316.0 194.3 Q 313.6 194.3, 312.2 192.8 Q 310.9 191.3, 310.9 188.4 \" fill=\"#000000\"/>\n<path class=\"bond-0 atom-0 atom-1\" d=\"M 440.1,104.1 L 468.0,88.0\" style=\"fill:none;fill-rule:evenodd;stroke:#000000;stroke-width:2.0px;stroke-linecap:butt;stroke-linejoin:miter;stroke-opacity:1\"/>\n<path class=\"bond-1 atom-1 atom-2\" d=\"M 468.0,88.0 L 468.0,55.8\" style=\"fill:none;fill-rule:evenodd;stroke:#000000;stroke-width:2.0px;stroke-linecap:butt;stroke-linejoin:miter;stroke-opacity:1\"/>\n<path class=\"bond-1 atom-1 atom-2\" d=\"M 474.4,83.2 L 474.4,60.6\" style=\"fill:none;fill-rule:evenodd;stroke:#000000;stroke-width:2.0px;stroke-linecap:butt;stroke-linejoin:miter;stroke-opacity:1\"/>\n<path class=\"bond-7 atom-7 atom-1\" d=\"M 495.8,104.1 L 468.0,88.0\" style=\"fill:none;fill-rule:evenodd;stroke:#000000;stroke-width:2.0px;stroke-linecap:butt;stroke-linejoin:miter;stroke-opacity:1\"/>\n<path class=\"bond-2 atom-2 atom-3\" d=\"M 468.0,55.8 L 495.8,39.7\" style=\"fill:none;fill-rule:evenodd;stroke:#000000;stroke-width:2.0px;stroke-linecap:butt;stroke-linejoin:miter;stroke-opacity:1\"/>\n<path class=\"bond-3 atom-3 atom-4\" d=\"M 495.8,39.7 L 523.7,55.8\" style=\"fill:none;fill-rule:evenodd;stroke:#000000;stroke-width:2.0px;stroke-linecap:butt;stroke-linejoin:miter;stroke-opacity:1\"/>\n<path class=\"bond-3 atom-3 atom-4\" d=\"M 496.8,47.7 L 516.3,59.0\" style=\"fill:none;fill-rule:evenodd;stroke:#000000;stroke-width:2.0px;stroke-linecap:butt;stroke-linejoin:miter;stroke-opacity:1\"/>\n<path class=\"bond-4 atom-4 atom-5\" d=\"M 523.7,55.8 L 523.7,88.0\" style=\"fill:none;fill-rule:evenodd;stroke:#000000;stroke-width:2.0px;stroke-linecap:butt;stroke-linejoin:miter;stroke-opacity:1\"/>\n<path class=\"bond-5 atom-5 atom-6\" d=\"M 523.7,88.0 L 535.1,94.6\" style=\"fill:none;fill-rule:evenodd;stroke:#000000;stroke-width:2.0px;stroke-linecap:butt;stroke-linejoin:miter;stroke-opacity:1\"/>\n<path class=\"bond-5 atom-5 atom-6\" d=\"M 535.1,94.6 L 546.6,101.2\" style=\"fill:none;fill-rule:evenodd;stroke:#FF0000;stroke-width:2.0px;stroke-linecap:butt;stroke-linejoin:miter;stroke-opacity:1\"/>\n<path class=\"bond-6 atom-5 atom-7\" d=\"M 523.7,88.0 L 495.8,104.1\" style=\"fill:none;fill-rule:evenodd;stroke:#000000;stroke-width:2.0px;stroke-linecap:butt;stroke-linejoin:miter;stroke-opacity:1\"/>\n<path class=\"bond-6 atom-5 atom-7\" d=\"M 516.3,84.8 L 496.8,96.1\" style=\"fill:none;fill-rule:evenodd;stroke:#000000;stroke-width:2.0px;stroke-linecap:butt;stroke-linejoin:miter;stroke-opacity:1\"/>\n<path class=\"atom-6\" d=\"M 547.4 104.1 Q 547.4 101.9, 548.5 100.7 Q 549.6 99.5, 551.6 99.5 Q 553.6 99.5, 554.7 100.7 Q 555.8 101.9, 555.8 104.1 Q 555.8 106.3, 554.7 107.6 Q 553.6 108.8, 551.6 108.8 Q 549.6 108.8, 548.5 107.6 Q 547.4 106.3, 547.4 104.1 M 551.6 107.8 Q 553.0 107.8, 553.7 106.9 Q 554.5 105.9, 554.5 104.1 Q 554.5 102.3, 553.7 101.4 Q 553.0 100.5, 551.6 100.5 Q 550.2 100.5, 549.4 101.4 Q 548.7 102.3, 548.7 104.1 Q 548.7 105.9, 549.4 106.9 Q 550.2 107.8, 551.6 107.8 \" fill=\"#FF0000\"/>\n<path class=\"atom-6\" d=\"M 556.8 99.6 L 558.1 99.6 L 558.1 103.4 L 562.7 103.4 L 562.7 99.6 L 564.0 99.6 L 564.0 108.7 L 562.7 108.7 L 562.7 104.5 L 558.1 104.5 L 558.1 108.7 L 556.8 108.7 L 556.8 99.6 \" fill=\"#FF0000\"/>\n<path d=\"M 451.9 184.4 Q 451.9 181.6, 453.2 180.1 Q 454.6 178.7, 457.1 178.7 Q 459.4 178.7, 460.6 180.3 L 459.6 181.2 Q 458.7 180.0, 457.1 180.0 Q 455.4 180.0, 454.4 181.1 Q 453.5 182.3, 453.5 184.4 Q 453.5 186.7, 454.5 187.8 Q 455.4 189.0, 457.2 189.0 Q 458.5 189.0, 459.9 188.2 L 460.4 189.4 Q 459.8 189.8, 458.9 190.0 Q 458.0 190.3, 457.0 190.3 Q 454.6 190.3, 453.2 188.8 Q 451.9 187.2, 451.9 184.4 \" fill=\"#000000\"/>\n<path d=\"M 461.4 186.0 Q 461.4 184.0, 462.4 182.9 Q 463.4 181.7, 465.3 181.7 Q 467.2 181.7, 468.2 183.1 L 467.2 183.9 Q 466.8 183.4, 466.3 183.2 Q 465.9 182.9, 465.3 182.9 Q 464.2 182.9, 463.5 183.7 Q 462.9 184.5, 462.9 186.0 Q 462.9 187.5, 463.6 188.3 Q 464.2 189.1, 465.4 189.1 Q 466.1 189.1, 466.6 188.9 Q 467.0 188.8, 467.6 188.5 L 468.0 189.5 Q 466.8 190.2, 465.3 190.2 Q 463.4 190.2, 462.4 189.1 Q 461.4 188.0, 461.4 186.0 \" fill=\"#000000\"/>\n<path d=\"M 469.7 188.8 L 472.1 188.8 L 472.1 180.4 L 469.4 181.2 L 469.0 180.3 L 472.5 178.7 L 473.6 178.9 L 473.6 188.8 L 475.9 188.8 L 475.9 190.1 L 469.7 190.1 L 469.7 188.8 \" fill=\"#000000\"/>\n<path d=\"M 476.6 186.0 Q 476.6 184.0, 477.6 182.9 Q 478.6 181.7, 480.5 181.7 Q 482.4 181.7, 483.4 183.1 L 482.4 183.9 Q 482.0 183.4, 481.5 183.2 Q 481.1 182.9, 480.5 182.9 Q 479.4 182.9, 478.8 183.7 Q 478.1 184.5, 478.1 186.0 Q 478.1 187.5, 478.8 188.3 Q 479.4 189.1, 480.6 189.1 Q 481.3 189.1, 481.8 188.9 Q 482.2 188.8, 482.8 188.5 L 483.2 189.5 Q 482.0 190.2, 480.5 190.2 Q 478.6 190.2, 477.6 189.1 Q 476.6 188.0, 476.6 186.0 \" fill=\"#000000\"/>\n<path d=\"M 484.1 186.0 Q 484.1 184.0, 485.1 182.9 Q 486.1 181.7, 488.1 181.7 Q 489.9 181.7, 490.9 183.1 L 489.9 183.9 Q 489.5 183.4, 489.1 183.2 Q 488.6 182.9, 488.1 182.9 Q 486.9 182.9, 486.3 183.7 Q 485.7 184.5, 485.7 186.0 Q 485.7 187.5, 486.3 188.3 Q 487.0 189.1, 488.2 189.1 Q 488.8 189.1, 489.3 188.9 Q 489.8 188.8, 490.3 188.5 L 490.7 189.5 Q 489.6 190.2, 488.0 190.2 Q 486.1 190.2, 485.1 189.1 Q 484.1 188.0, 484.1 186.0 \" fill=\"#000000\"/>\n<path d=\"M 491.6 186.0 Q 491.6 184.0, 492.6 182.9 Q 493.6 181.7, 495.6 181.7 Q 497.4 181.7, 498.4 183.1 L 497.4 183.9 Q 497.0 183.4, 496.6 183.2 Q 496.2 182.9, 495.6 182.9 Q 494.4 182.9, 493.8 183.7 Q 493.2 184.5, 493.2 186.0 Q 493.2 187.5, 493.8 188.3 Q 494.5 189.1, 495.7 189.1 Q 496.3 189.1, 496.8 188.9 Q 497.3 188.8, 497.8 188.5 L 498.3 189.5 Q 497.1 190.2, 495.6 190.2 Q 493.6 190.2, 492.6 189.1 Q 491.6 188.0, 491.6 186.0 \" fill=\"#000000\"/>\n<path d=\"M 499.2 186.0 Q 499.2 184.0, 500.2 182.9 Q 501.1 181.7, 503.1 181.7 Q 505.0 181.7, 505.9 183.1 L 504.9 183.9 Q 504.6 183.4, 504.1 183.2 Q 503.7 182.9, 503.1 182.9 Q 502.0 182.9, 501.3 183.7 Q 500.7 184.5, 500.7 186.0 Q 500.7 187.5, 501.3 188.3 Q 502.0 189.1, 503.2 189.1 Q 503.9 189.1, 504.3 188.9 Q 504.8 188.8, 505.4 188.5 L 505.8 189.5 Q 504.6 190.2, 503.1 190.2 Q 501.1 190.2, 500.2 189.1 Q 499.2 188.0, 499.2 186.0 \" fill=\"#000000\"/>\n<path d=\"M 506.7 185.6 Q 506.7 183.2, 507.4 181.4 Q 508.1 179.5, 509.4 177.4 L 510.3 178.0 Q 509.2 179.9, 508.7 181.6 Q 508.2 183.4, 508.2 185.6 Q 508.2 187.7, 508.7 189.4 Q 509.2 191.1, 510.3 193.1 L 509.4 193.7 Q 508.1 191.6, 507.4 189.8 Q 506.7 187.9, 506.7 185.6 \" fill=\"#000000\"/>\n<path d=\"M 511.1 184.4 Q 511.1 181.7, 512.4 180.2 Q 513.8 178.7, 516.3 178.7 Q 518.8 178.7, 520.1 180.2 Q 521.5 181.7, 521.5 184.4 Q 521.5 187.2, 520.1 188.7 Q 518.7 190.3, 516.3 190.3 Q 513.8 190.3, 512.4 188.7 Q 511.1 187.2, 511.1 184.4 M 516.3 189.0 Q 518.0 189.0, 518.9 187.9 Q 519.9 186.7, 519.9 184.4 Q 519.9 182.2, 518.9 181.1 Q 518.0 179.9, 516.3 179.9 Q 514.5 179.9, 513.6 181.1 Q 512.7 182.2, 512.7 184.4 Q 512.7 186.7, 513.6 187.9 Q 514.5 189.0, 516.3 189.0 \" fill=\"#000000\"/>\n<path d=\"M 525.4 185.6 Q 525.4 187.9, 524.7 189.8 Q 524.1 191.6, 522.8 193.7 L 521.9 193.1 Q 522.9 191.1, 523.4 189.4 Q 523.9 187.7, 523.9 185.6 Q 523.9 183.4, 523.4 181.6 Q 522.9 179.9, 521.9 178.0 L 522.8 177.4 Q 524.1 179.5, 524.7 181.4 Q 525.4 183.2, 525.4 185.6 \" fill=\"#000000\"/>\n<path d=\"M 526.1 186.0 Q 526.1 184.0, 527.1 182.9 Q 528.1 181.7, 530.1 181.7 Q 531.9 181.7, 532.9 183.1 L 531.9 183.9 Q 531.5 183.4, 531.1 183.2 Q 530.6 182.9, 530.1 182.9 Q 528.9 182.9, 528.3 183.7 Q 527.7 184.5, 527.7 186.0 Q 527.7 187.5, 528.3 188.3 Q 529.0 189.1, 530.2 189.1 Q 530.8 189.1, 531.3 188.9 Q 531.8 188.8, 532.3 188.5 L 532.7 189.5 Q 531.6 190.2, 530.0 190.2 Q 528.1 190.2, 527.1 189.1 Q 526.1 188.0, 526.1 186.0 \" fill=\"#000000\"/>\n<path d=\"M 534.4 188.8 L 536.9 188.8 L 536.9 180.4 L 534.1 181.2 L 533.8 180.3 L 537.2 178.7 L 538.4 178.9 L 538.4 188.8 L 540.6 188.8 L 540.6 190.1 L 534.4 190.1 L 534.4 188.8 \" fill=\"#000000\"/>\n<path class=\"bond-0 atom-0 atom-1\" d=\"M 713.4,121.1 L 709.4,108.5\" style=\"fill:none;fill-rule:evenodd;stroke:#000000;stroke-width:2.0px;stroke-linecap:butt;stroke-linejoin:miter;stroke-opacity:1\"/>\n<path class=\"bond-0 atom-0 atom-1\" d=\"M 709.4,108.5 L 705.4,95.8\" style=\"fill:none;fill-rule:evenodd;stroke:#0000FF;stroke-width:2.0px;stroke-linecap:butt;stroke-linejoin:miter;stroke-opacity:1\"/>\n<path class=\"bond-1 atom-1 atom-2\" d=\"M 707.9,85.8 L 716.7,76.3\" style=\"fill:none;fill-rule:evenodd;stroke:#0000FF;stroke-width:2.0px;stroke-linecap:butt;stroke-linejoin:miter;stroke-opacity:1\"/>\n<path class=\"bond-1 atom-1 atom-2\" d=\"M 716.7,76.3 L 725.4,66.7\" style=\"fill:none;fill-rule:evenodd;stroke:#000000;stroke-width:2.0px;stroke-linecap:butt;stroke-linejoin:miter;stroke-opacity:1\"/>\n<path class=\"bond-6 atom-1 atom-7\" d=\"M 699.4,89.5 L 685.8,86.5\" style=\"fill:none;fill-rule:evenodd;stroke:#0000FF;stroke-width:2.0px;stroke-linecap:butt;stroke-linejoin:miter;stroke-opacity:1\"/>\n<path class=\"bond-6 atom-1 atom-7\" d=\"M 685.8,86.5 L 672.2,83.5\" style=\"fill:none;fill-rule:evenodd;stroke:#000000;stroke-width:2.0px;stroke-linecap:butt;stroke-linejoin:miter;stroke-opacity:1\"/>\n<path class=\"bond-2 atom-2 atom-3\" d=\"M 725.4,66.7 L 756.8,73.7\" style=\"fill:none;fill-rule:evenodd;stroke:#000000;stroke-width:2.0px;stroke-linecap:butt;stroke-linejoin:miter;stroke-opacity:1\"/>\n<path class=\"bond-3 atom-3 atom-4\" d=\"M 756.8,73.7 L 770.7,76.7\" style=\"fill:none;fill-rule:evenodd;stroke:#000000;stroke-width:2.0px;stroke-linecap:butt;stroke-linejoin:miter;stroke-opacity:1\"/>\n<path class=\"bond-3 atom-3 atom-4\" d=\"M 770.7,76.7 L 784.7,79.8\" style=\"fill:none;fill-rule:evenodd;stroke:#33CCCC;stroke-width:2.0px;stroke-linecap:butt;stroke-linejoin:miter;stroke-opacity:1\"/>\n<path class=\"bond-4 atom-3 atom-5\" d=\"M 756.8,73.7 L 759.7,60.6\" style=\"fill:none;fill-rule:evenodd;stroke:#000000;stroke-width:2.0px;stroke-linecap:butt;stroke-linejoin:miter;stroke-opacity:1\"/>\n<path class=\"bond-4 atom-3 atom-5\" d=\"M 759.7,60.6 L 762.6,47.6\" style=\"fill:none;fill-rule:evenodd;stroke:#33CCCC;stroke-width:2.0px;stroke-linecap:butt;stroke-linejoin:miter;stroke-opacity:1\"/>\n<path class=\"bond-5 atom-3 atom-6\" d=\"M 756.8,73.7 L 753.9,86.7\" style=\"fill:none;fill-rule:evenodd;stroke:#000000;stroke-width:2.0px;stroke-linecap:butt;stroke-linejoin:miter;stroke-opacity:1\"/>\n<path class=\"bond-5 atom-3 atom-6\" d=\"M 753.9,86.7 L 751.0,99.7\" style=\"fill:none;fill-rule:evenodd;stroke:#33CCCC;stroke-width:2.0px;stroke-linecap:butt;stroke-linejoin:miter;stroke-opacity:1\"/>\n<path class=\"bond-7 atom-7 atom-8\" d=\"M 672.2,83.5 L 650.5,107.2\" style=\"fill:none;fill-rule:evenodd;stroke:#000000;stroke-width:2.0px;stroke-linecap:butt;stroke-linejoin:miter;stroke-opacity:1\"/>\n<path class=\"bond-7 atom-7 atom-8\" d=\"M 664.2,82.7 L 649.0,99.3\" style=\"fill:none;fill-rule:evenodd;stroke:#000000;stroke-width:2.0px;stroke-linecap:butt;stroke-linejoin:miter;stroke-opacity:1\"/>\n<path class=\"bond-12 atom-12 atom-7\" d=\"M 662.5,52.8 L 672.2,83.5\" style=\"fill:none;fill-rule:evenodd;stroke:#000000;stroke-width:2.0px;stroke-linecap:butt;stroke-linejoin:miter;stroke-opacity:1\"/>\n<path class=\"bond-8 atom-8 atom-9\" d=\"M 650.5,107.2 L 619.1,100.3\" style=\"fill:none;fill-rule:evenodd;stroke:#000000;stroke-width:2.0px;stroke-linecap:butt;stroke-linejoin:miter;stroke-opacity:1\"/>\n<path class=\"bond-9 atom-9 atom-10\" d=\"M 619.1,100.3 L 609.4,69.6\" style=\"fill:none;fill-rule:evenodd;stroke:#000000;stroke-width:2.0px;stroke-linecap:butt;stroke-linejoin:miter;stroke-opacity:1\"/>\n<path class=\"bond-9 atom-9 atom-10\" d=\"M 623.8,93.8 L 617.0,72.3\" style=\"fill:none;fill-rule:evenodd;stroke:#000000;stroke-width:2.0px;stroke-linecap:butt;stroke-linejoin:miter;stroke-opacity:1\"/>\n<path class=\"bond-10 atom-10 atom-11\" d=\"M 609.4,69.6 L 631.1,45.9\" style=\"fill:none;fill-rule:evenodd;stroke:#000000;stroke-width:2.0px;stroke-linecap:butt;stroke-linejoin:miter;stroke-opacity:1\"/>\n<path class=\"bond-11 atom-11 atom-12\" d=\"M 631.1,45.9 L 662.5,52.8\" style=\"fill:none;fill-rule:evenodd;stroke:#000000;stroke-width:2.0px;stroke-linecap:butt;stroke-linejoin:miter;stroke-opacity:1\"/>\n<path class=\"bond-11 atom-11 atom-12\" d=\"M 634.5,53.2 L 656.4,58.1\" style=\"fill:none;fill-rule:evenodd;stroke:#000000;stroke-width:2.0px;stroke-linecap:butt;stroke-linejoin:miter;stroke-opacity:1\"/>\n<path class=\"atom-1\" d=\"M 701.6 85.9 L 704.6 90.7 Q 704.9 91.2, 705.4 92.1 Q 705.9 92.9, 705.9 93.0 L 705.9 85.9 L 707.1 85.9 L 707.1 95.0 L 705.9 95.0 L 702.7 89.7 Q 702.3 89.1, 701.9 88.4 Q 701.5 87.7, 701.4 87.5 L 701.4 95.0 L 700.2 95.0 L 700.2 85.9 L 701.6 85.9 \" fill=\"#0000FF\"/>\n<path class=\"atom-4\" d=\"M 785.5 76.0 L 790.9 76.0 L 790.9 77.1 L 786.7 77.1 L 786.7 79.8 L 790.5 79.8 L 790.5 80.9 L 786.7 80.9 L 786.7 85.1 L 785.5 85.1 L 785.5 76.0 \" fill=\"#33CCCC\"/>\n<path class=\"atom-5\" d=\"M 761.0 37.7 L 766.4 37.7 L 766.4 38.7 L 762.3 38.7 L 762.3 41.5 L 766.0 41.5 L 766.0 42.5 L 762.3 42.5 L 762.3 46.8 L 761.0 46.8 L 761.0 37.7 \" fill=\"#33CCCC\"/>\n<path class=\"atom-6\" d=\"M 747.1 100.5 L 752.6 100.5 L 752.6 101.6 L 748.4 101.6 L 748.4 104.3 L 752.1 104.3 L 752.1 105.4 L 748.4 105.4 L 748.4 109.6 L 747.1 109.6 L 747.1 100.5 \" fill=\"#33CCCC\"/>\n<path d=\"M 622.8 184.4 Q 622.8 181.6, 624.1 180.1 Q 625.4 178.7, 627.9 178.7 Q 630.3 178.7, 631.5 180.3 L 630.5 181.2 Q 629.6 180.0, 627.9 180.0 Q 626.2 180.0, 625.3 181.1 Q 624.4 182.3, 624.4 184.4 Q 624.4 186.7, 625.3 187.8 Q 626.3 189.0, 628.1 189.0 Q 629.4 189.0, 630.8 188.2 L 631.3 189.4 Q 630.7 189.8, 629.8 190.0 Q 628.9 190.3, 627.9 190.3 Q 625.4 190.3, 624.1 188.8 Q 622.8 187.2, 622.8 184.4 \" fill=\"#000000\"/>\n<path d=\"M 634.6 178.8 L 638.4 184.8 Q 638.7 185.4, 639.3 186.4 Q 639.9 187.5, 639.9 187.6 L 639.9 178.8 L 641.4 178.8 L 641.4 190.1 L 639.9 190.1 L 635.9 183.6 Q 635.4 182.8, 634.9 181.9 Q 634.5 181.0, 634.3 180.8 L 634.3 190.1 L 632.9 190.1 L 632.9 178.8 L 634.6 178.8 \" fill=\"#000000\"/>\n<path d=\"M 642.2 185.6 Q 642.2 183.2, 642.9 181.4 Q 643.6 179.5, 644.9 177.4 L 645.8 178.0 Q 644.7 179.9, 644.2 181.6 Q 643.7 183.4, 643.7 185.6 Q 643.7 187.7, 644.2 189.4 Q 644.7 191.1, 645.8 193.1 L 644.9 193.7 Q 643.6 191.6, 642.9 189.8 Q 642.2 187.9, 642.2 185.6 \" fill=\"#000000\"/>\n<path d=\"M 646.6 184.4 Q 646.6 181.6, 647.9 180.1 Q 649.2 178.7, 651.7 178.7 Q 654.1 178.7, 655.3 180.3 L 654.2 181.2 Q 653.3 180.0, 651.7 180.0 Q 650.0 180.0, 649.1 181.1 Q 648.2 182.3, 648.2 184.4 Q 648.2 186.7, 649.1 187.8 Q 650.1 189.0, 651.9 189.0 Q 653.1 189.0, 654.6 188.2 L 655.0 189.4 Q 654.5 189.8, 653.6 190.0 Q 652.7 190.3, 651.7 190.3 Q 649.2 190.3, 647.9 188.8 Q 646.6 187.2, 646.6 184.4 \" fill=\"#000000\"/>\n<path d=\"M 656.1 184.4 Q 656.1 181.6, 657.4 180.1 Q 658.7 178.7, 661.3 178.7 Q 663.6 178.7, 664.8 180.3 L 663.8 181.2 Q 662.9 180.0, 661.3 180.0 Q 659.5 180.0, 658.6 181.1 Q 657.7 182.3, 657.7 184.4 Q 657.7 186.7, 658.7 187.8 Q 659.6 189.0, 661.4 189.0 Q 662.7 189.0, 664.1 188.2 L 664.6 189.4 Q 664.0 189.8, 663.1 190.0 Q 662.2 190.3, 661.2 190.3 Q 658.7 190.3, 657.4 188.8 Q 656.1 187.2, 656.1 184.4 \" fill=\"#000000\"/>\n<path d=\"M 665.6 185.6 Q 665.6 183.2, 666.3 181.4 Q 667.0 179.5, 668.3 177.4 L 669.2 178.0 Q 668.1 179.9, 667.6 181.6 Q 667.1 183.4, 667.1 185.6 Q 667.1 187.7, 667.6 189.4 Q 668.1 191.1, 669.2 193.1 L 668.3 193.7 Q 667.0 191.6, 666.3 189.8 Q 665.6 187.9, 665.6 185.6 \" fill=\"#000000\"/>\n<path d=\"M 670.5 178.8 L 677.3 178.8 L 677.3 180.1 L 672.0 180.1 L 672.0 183.5 L 676.7 183.5 L 676.7 184.8 L 672.0 184.8 L 672.0 190.1 L 670.5 190.1 L 670.5 178.8 \" fill=\"#000000\"/>\n<path d=\"M 681.2 185.6 Q 681.2 187.9, 680.5 189.8 Q 679.8 191.6, 678.5 193.7 L 677.7 193.1 Q 678.7 191.1, 679.2 189.4 Q 679.7 187.7, 679.7 185.6 Q 679.7 183.4, 679.2 181.6 Q 678.7 179.9, 677.7 178.0 L 678.5 177.4 Q 679.8 179.5, 680.5 181.4 Q 681.2 183.2, 681.2 185.6 \" fill=\"#000000\"/>\n<path d=\"M 682.0 185.6 Q 682.0 183.2, 682.6 181.4 Q 683.3 179.5, 684.6 177.4 L 685.5 178.0 Q 684.5 179.9, 683.9 181.6 Q 683.4 183.4, 683.4 185.6 Q 683.4 187.7, 683.9 189.4 Q 684.5 191.1, 685.5 193.1 L 684.6 193.7 Q 683.3 191.6, 682.6 189.8 Q 682.0 187.9, 682.0 185.6 \" fill=\"#000000\"/>\n<path d=\"M 686.9 178.8 L 693.6 178.8 L 693.6 180.1 L 688.4 180.1 L 688.4 183.5 L 693.0 183.5 L 693.0 184.8 L 688.4 184.8 L 688.4 190.1 L 686.9 190.1 L 686.9 178.8 \" fill=\"#000000\"/>\n<path d=\"M 697.5 185.6 Q 697.5 187.9, 696.8 189.8 Q 696.2 191.6, 694.9 193.7 L 694.0 193.1 Q 695.0 191.1, 695.5 189.4 Q 696.1 187.7, 696.1 185.6 Q 696.1 183.4, 695.5 181.6 Q 695.0 179.9, 694.0 178.0 L 694.9 177.4 Q 696.2 179.5, 696.8 181.4 Q 697.5 183.2, 697.5 185.6 \" fill=\"#000000\"/>\n<path d=\"M 698.9 178.8 L 705.6 178.8 L 705.6 180.1 L 700.4 180.1 L 700.4 183.5 L 705.0 183.5 L 705.0 184.8 L 700.4 184.8 L 700.4 190.1 L 698.9 190.1 L 698.9 178.8 \" fill=\"#000000\"/>\n<path d=\"M 709.5 185.6 Q 709.5 187.9, 708.9 189.8 Q 708.2 191.6, 706.9 193.7 L 706.0 193.1 Q 707.0 191.1, 707.6 189.4 Q 708.1 187.7, 708.1 185.6 Q 708.1 183.4, 707.6 181.6 Q 707.0 179.9, 706.0 178.0 L 706.9 177.4 Q 708.2 179.5, 708.9 181.4 Q 709.5 183.2, 709.5 185.6 \" fill=\"#000000\"/>\n<path d=\"M 710.3 186.0 Q 710.3 184.0, 711.3 182.9 Q 712.2 181.7, 714.2 181.7 Q 716.1 181.7, 717.0 183.1 L 716.0 183.9 Q 715.7 183.4, 715.2 183.2 Q 714.8 182.9, 714.2 182.9 Q 713.1 182.9, 712.4 183.7 Q 711.8 184.5, 711.8 186.0 Q 711.8 187.5, 712.4 188.3 Q 713.1 189.1, 714.3 189.1 Q 715.0 189.1, 715.4 188.9 Q 715.9 188.8, 716.5 188.5 L 716.9 189.5 Q 715.7 190.2, 714.2 190.2 Q 712.2 190.2, 711.3 189.1 Q 710.3 188.0, 710.3 186.0 \" fill=\"#000000\"/>\n<path d=\"M 718.5 188.8 L 721.0 188.8 L 721.0 180.4 L 718.3 181.2 L 717.9 180.3 L 721.4 178.7 L 722.5 178.9 L 722.5 188.8 L 724.7 188.8 L 724.7 190.1 L 718.5 190.1 L 718.5 188.8 \" fill=\"#000000\"/>\n<path d=\"M 725.5 186.0 Q 725.5 184.0, 726.5 182.9 Q 727.5 181.7, 729.4 181.7 Q 731.3 181.7, 732.3 183.1 L 731.3 183.9 Q 730.9 183.4, 730.4 183.2 Q 730.0 182.9, 729.4 182.9 Q 728.3 182.9, 727.6 183.7 Q 727.0 184.5, 727.0 186.0 Q 727.0 187.5, 727.7 188.3 Q 728.3 189.1, 729.5 189.1 Q 730.2 189.1, 730.6 188.9 Q 731.1 188.8, 731.7 188.5 L 732.1 189.5 Q 730.9 190.2, 729.4 190.2 Q 727.5 190.2, 726.5 189.1 Q 725.5 188.0, 725.5 186.0 \" fill=\"#000000\"/>\n<path d=\"M 733.0 186.0 Q 733.0 184.0, 734.0 182.9 Q 735.0 181.7, 736.9 181.7 Q 738.8 181.7, 739.8 183.1 L 738.8 183.9 Q 738.4 183.4, 737.9 183.2 Q 737.5 182.9, 736.9 182.9 Q 735.8 182.9, 735.2 183.7 Q 734.5 184.5, 734.5 186.0 Q 734.5 187.5, 735.2 188.3 Q 735.8 189.1, 737.0 189.1 Q 737.7 189.1, 738.2 188.9 Q 738.6 188.8, 739.2 188.5 L 739.6 189.5 Q 738.4 190.2, 736.9 190.2 Q 735.0 190.2, 734.0 189.1 Q 733.0 188.0, 733.0 186.0 \" fill=\"#000000\"/>\n<path d=\"M 740.5 186.0 Q 740.5 184.0, 741.5 182.9 Q 742.5 181.7, 744.5 181.7 Q 746.3 181.7, 747.3 183.1 L 746.3 183.9 Q 745.9 183.4, 745.5 183.2 Q 745.0 182.9, 744.5 182.9 Q 743.3 182.9, 742.7 183.7 Q 742.1 184.5, 742.1 186.0 Q 742.1 187.5, 742.7 188.3 Q 743.3 189.1, 744.5 189.1 Q 745.2 189.1, 745.7 188.9 Q 746.1 188.8, 746.7 188.5 L 747.1 189.5 Q 746.0 190.2, 744.4 190.2 Q 742.5 190.2, 741.5 189.1 Q 740.5 188.0, 740.5 186.0 \" fill=\"#000000\"/>\n<path d=\"M 748.0 186.0 Q 748.0 184.0, 749.0 182.9 Q 750.0 181.7, 752.0 181.7 Q 753.8 181.7, 754.8 183.1 L 753.8 183.9 Q 753.4 183.4, 753.0 183.2 Q 752.5 182.9, 752.0 182.9 Q 750.8 182.9, 750.2 183.7 Q 749.6 184.5, 749.6 186.0 Q 749.6 187.5, 750.2 188.3 Q 750.9 189.1, 752.1 189.1 Q 752.7 189.1, 753.2 188.9 Q 753.7 188.8, 754.2 188.5 L 754.7 189.5 Q 753.5 190.2, 752.0 190.2 Q 750.0 190.2, 749.0 189.1 Q 748.0 188.0, 748.0 186.0 \" fill=\"#000000\"/>\n<path d=\"M 755.6 186.0 Q 755.6 184.0, 756.5 182.9 Q 757.5 181.7, 759.5 181.7 Q 761.4 181.7, 762.3 183.1 L 761.3 183.9 Q 760.9 183.4, 760.5 183.2 Q 760.1 182.9, 759.5 182.9 Q 758.4 182.9, 757.7 183.7 Q 757.1 184.5, 757.1 186.0 Q 757.1 187.5, 757.7 188.3 Q 758.4 189.1, 759.6 189.1 Q 760.3 189.1, 760.7 188.9 Q 761.2 188.8, 761.8 188.5 L 762.2 189.5 Q 761.0 190.2, 759.5 190.2 Q 757.5 190.2, 756.5 189.1 Q 755.6 188.0, 755.6 186.0 \" fill=\"#000000\"/>\n<path d=\"M 763.8 188.8 L 766.3 188.8 L 766.3 180.4 L 763.6 181.2 L 763.2 180.3 L 766.7 178.7 L 767.8 178.9 L 767.8 188.8 L 770.0 188.8 L 770.0 190.1 L 763.8 190.1 L 763.8 188.8 \" fill=\"#000000\"/>\n<path class=\"bond-0 atom-0 atom-1\" d=\"M 165.6,279.9 L 151.6,279.9\" style=\"fill:none;fill-rule:evenodd;stroke:#0000FF;stroke-width:2.0px;stroke-linecap:butt;stroke-linejoin:miter;stroke-opacity:1\"/>\n<path class=\"bond-0 atom-0 atom-1\" d=\"M 151.6,279.9 L 137.7,279.9\" style=\"fill:none;fill-rule:evenodd;stroke:#000000;stroke-width:2.0px;stroke-linecap:butt;stroke-linejoin:miter;stroke-opacity:1\"/>\n<path class=\"bond-0 atom-0 atom-1\" d=\"M 165.6,273.5 L 153.7,273.5\" style=\"fill:none;fill-rule:evenodd;stroke:#0000FF;stroke-width:2.0px;stroke-linecap:butt;stroke-linejoin:miter;stroke-opacity:1\"/>\n<path class=\"bond-0 atom-0 atom-1\" d=\"M 153.7,273.5 L 141.9,273.5\" style=\"fill:none;fill-rule:evenodd;stroke:#000000;stroke-width:2.0px;stroke-linecap:butt;stroke-linejoin:miter;stroke-opacity:1\"/>\n<path class=\"bond-0 atom-0 atom-1\" d=\"M 165.6,286.4 L 153.7,286.4\" style=\"fill:none;fill-rule:evenodd;stroke:#0000FF;stroke-width:2.0px;stroke-linecap:butt;stroke-linejoin:miter;stroke-opacity:1\"/>\n<path class=\"bond-0 atom-0 atom-1\" d=\"M 153.7,286.4 L 141.9,286.4\" style=\"fill:none;fill-rule:evenodd;stroke:#000000;stroke-width:2.0px;stroke-linecap:butt;stroke-linejoin:miter;stroke-opacity:1\"/>\n<path class=\"bond-1 atom-1 atom-2\" d=\"M 137.7,279.9 L 105.5,279.9\" style=\"fill:none;fill-rule:evenodd;stroke:#000000;stroke-width:2.0px;stroke-linecap:butt;stroke-linejoin:miter;stroke-opacity:1\"/>\n<path class=\"bond-2 atom-2 atom-3\" d=\"M 105.5,279.9 L 89.4,307.8\" style=\"fill:none;fill-rule:evenodd;stroke:#000000;stroke-width:2.0px;stroke-linecap:butt;stroke-linejoin:miter;stroke-opacity:1\"/>\n<path class=\"bond-2 atom-2 atom-3\" d=\"M 97.5,280.9 L 86.2,300.4\" style=\"fill:none;fill-rule:evenodd;stroke:#000000;stroke-width:2.0px;stroke-linecap:butt;stroke-linejoin:miter;stroke-opacity:1\"/>\n<path class=\"bond-9 atom-8 atom-2\" d=\"M 89.4,252.1 L 105.5,279.9\" style=\"fill:none;fill-rule:evenodd;stroke:#000000;stroke-width:2.0px;stroke-linecap:butt;stroke-linejoin:miter;stroke-opacity:1\"/>\n<path class=\"bond-3 atom-3 atom-4\" d=\"M 89.4,307.8 L 96.0,319.2\" style=\"fill:none;fill-rule:evenodd;stroke:#000000;stroke-width:2.0px;stroke-linecap:butt;stroke-linejoin:miter;stroke-opacity:1\"/>\n<path class=\"bond-3 atom-3 atom-4\" d=\"M 96.0,319.2 L 102.5,330.5\" style=\"fill:none;fill-rule:evenodd;stroke:#00CC00;stroke-width:2.0px;stroke-linecap:butt;stroke-linejoin:miter;stroke-opacity:1\"/>\n<path class=\"bond-4 atom-3 atom-5\" d=\"M 89.4,307.8 L 57.2,307.8\" style=\"fill:none;fill-rule:evenodd;stroke:#000000;stroke-width:2.0px;stroke-linecap:butt;stroke-linejoin:miter;stroke-opacity:1\"/>\n<path class=\"bond-5 atom-5 atom-6\" d=\"M 57.2,307.8 L 41.1,279.9\" style=\"fill:none;fill-rule:evenodd;stroke:#000000;stroke-width:2.0px;stroke-linecap:butt;stroke-linejoin:miter;stroke-opacity:1\"/>\n<path class=\"bond-5 atom-5 atom-6\" d=\"M 60.4,300.4 L 49.1,280.9\" style=\"fill:none;fill-rule:evenodd;stroke:#000000;stroke-width:2.0px;stroke-linecap:butt;stroke-linejoin:miter;stroke-opacity:1\"/>\n<path class=\"bond-6 atom-6 atom-7\" d=\"M 41.1,279.9 L 57.2,252.1\" style=\"fill:none;fill-rule:evenodd;stroke:#000000;stroke-width:2.0px;stroke-linecap:butt;stroke-linejoin:miter;stroke-opacity:1\"/>\n<path class=\"bond-7 atom-7 atom-8\" d=\"M 57.2,252.1 L 89.4,252.1\" style=\"fill:none;fill-rule:evenodd;stroke:#000000;stroke-width:2.0px;stroke-linecap:butt;stroke-linejoin:miter;stroke-opacity:1\"/>\n<path class=\"bond-7 atom-7 atom-8\" d=\"M 62.1,258.5 L 84.6,258.5\" style=\"fill:none;fill-rule:evenodd;stroke:#000000;stroke-width:2.0px;stroke-linecap:butt;stroke-linejoin:miter;stroke-opacity:1\"/>\n<path class=\"bond-8 atom-8 atom-9\" d=\"M 89.4,252.1 L 95.8,241.0\" style=\"fill:none;fill-rule:evenodd;stroke:#000000;stroke-width:2.0px;stroke-linecap:butt;stroke-linejoin:miter;stroke-opacity:1\"/>\n<path class=\"bond-8 atom-8 atom-9\" d=\"M 95.8,241.0 L 102.1,230.0\" style=\"fill:none;fill-rule:evenodd;stroke:#00CC00;stroke-width:2.0px;stroke-linecap:butt;stroke-linejoin:miter;stroke-opacity:1\"/>\n<path class=\"atom-0\" d=\"M 167.8 275.4 L 170.8 280.2 Q 171.1 280.7, 171.6 281.6 Q 172.1 282.4, 172.1 282.5 L 172.1 275.4 L 173.3 275.4 L 173.3 284.5 L 172.1 284.5 L 168.8 279.2 Q 168.5 278.6, 168.1 277.9 Q 167.7 277.2, 167.6 277.0 L 167.6 284.5 L 166.4 284.5 L 166.4 275.4 L 167.8 275.4 \" fill=\"#0000FF\"/>\n<path class=\"atom-4\" d=\"M 102.0 336.0 Q 102.0 333.7, 103.0 332.5 Q 104.1 331.3, 106.1 331.3 Q 108.0 331.3, 109.0 332.7 L 108.2 333.4 Q 107.4 332.4, 106.1 332.4 Q 104.8 332.4, 104.0 333.3 Q 103.3 334.2, 103.3 336.0 Q 103.3 337.8, 104.0 338.7 Q 104.8 339.6, 106.3 339.6 Q 107.3 339.6, 108.4 339.0 L 108.8 340.0 Q 108.3 340.3, 107.6 340.5 Q 106.9 340.7, 106.1 340.7 Q 104.1 340.7, 103.0 339.5 Q 102.0 338.3, 102.0 336.0 \" fill=\"#00CC00\"/>\n<path class=\"atom-4\" d=\"M 110.1 330.8 L 111.3 330.8 L 111.3 340.6 L 110.1 340.6 L 110.1 330.8 \" fill=\"#00CC00\"/>\n<path class=\"atom-9\" d=\"M 102.0 224.5 Q 102.0 222.3, 103.0 221.1 Q 104.1 219.9, 106.1 219.9 Q 108.0 219.9, 109.0 221.2 L 108.2 221.9 Q 107.4 220.9, 106.1 220.9 Q 104.8 220.9, 104.0 221.9 Q 103.3 222.8, 103.3 224.5 Q 103.3 226.3, 104.0 227.3 Q 104.8 228.2, 106.3 228.2 Q 107.3 228.2, 108.4 227.6 L 108.8 228.5 Q 108.3 228.9, 107.6 229.0 Q 106.9 229.2, 106.1 229.2 Q 104.1 229.2, 103.0 228.0 Q 102.0 226.8, 102.0 224.5 \" fill=\"#00CC00\"/>\n<path class=\"atom-9\" d=\"M 110.1 219.3 L 111.3 219.3 L 111.3 229.1 L 110.1 229.1 L 110.1 219.3 \" fill=\"#00CC00\"/>\n<path d=\"M 36.0 378.8 L 39.7 384.8 Q 40.1 385.4, 40.7 386.4 Q 41.3 387.5, 41.3 387.6 L 41.3 378.8 L 42.8 378.8 L 42.8 390.1 L 41.3 390.1 L 37.3 383.6 Q 36.8 382.8, 36.3 381.9 Q 35.9 381.0, 35.7 380.8 L 35.7 390.1 L 34.2 390.1 L 34.2 378.8 L 36.0 378.8 \" fill=\"#000000\"/>\n<path d=\"M 53.5 383.1 L 51.3 383.1 L 50.8 386.0 L 53.0 386.0 L 52.8 387.1 L 50.6 387.1 L 50.1 390.1 L 48.8 390.1 L 49.4 387.1 L 46.7 387.1 L 46.2 390.1 L 44.9 390.1 L 45.4 387.1 L 43.2 387.1 L 43.3 386.0 L 45.6 386.0 L 46.1 383.1 L 43.9 383.1 L 44.1 381.9 L 46.3 381.9 L 46.8 378.8 L 48.1 378.8 L 47.6 381.9 L 50.3 381.9 L 50.8 378.8 L 52.0 378.8 L 51.5 381.9 L 53.7 381.9 L 53.5 383.1 M 49.6 386.0 L 50.0 383.1 L 47.4 383.1 L 46.9 386.0 L 49.6 386.0 \" fill=\"#000000\"/>\n<path d=\"M 54.5 384.4 Q 54.5 381.6, 55.8 380.1 Q 57.2 378.7, 59.7 378.7 Q 62.0 378.7, 63.3 380.3 L 62.2 381.2 Q 61.3 380.0, 59.7 380.0 Q 58.0 380.0, 57.1 381.1 Q 56.2 382.3, 56.2 384.4 Q 56.2 386.7, 57.1 387.8 Q 58.0 389.0, 59.9 389.0 Q 61.1 389.0, 62.6 388.2 L 63.0 389.4 Q 62.4 389.8, 61.5 390.0 Q 60.6 390.3, 59.6 390.3 Q 57.2 390.3, 55.8 388.8 Q 54.5 387.2, 54.5 384.4 \" fill=\"#000000\"/>\n<path d=\"M 64.0 386.0 Q 64.0 384.0, 65.0 382.9 Q 66.0 381.7, 67.9 381.7 Q 69.8 381.7, 70.8 383.1 L 69.8 383.9 Q 69.4 383.4, 68.9 383.2 Q 68.5 382.9, 67.9 382.9 Q 66.8 382.9, 66.2 383.7 Q 65.5 384.5, 65.5 386.0 Q 65.5 387.5, 66.2 388.3 Q 66.8 389.1, 68.0 389.1 Q 68.7 389.1, 69.2 388.9 Q 69.6 388.8, 70.2 388.5 L 70.6 389.5 Q 69.4 390.2, 67.9 390.2 Q 66.0 390.2, 65.0 389.1 Q 64.0 388.0, 64.0 386.0 \" fill=\"#000000\"/>\n<path d=\"M 72.3 388.8 L 74.8 388.8 L 74.8 380.4 L 72.0 381.2 L 71.6 380.3 L 75.1 378.7 L 76.3 378.9 L 76.3 388.8 L 78.5 388.8 L 78.5 390.1 L 72.3 390.1 L 72.3 388.8 \" fill=\"#000000\"/>\n<path d=\"M 79.2 386.0 Q 79.2 384.0, 80.2 382.9 Q 81.2 381.7, 83.2 381.7 Q 85.0 381.7, 86.0 383.1 L 85.0 383.9 Q 84.6 383.4, 84.2 383.2 Q 83.7 382.9, 83.2 382.9 Q 82.0 382.9, 81.4 383.7 Q 80.8 384.5, 80.8 386.0 Q 80.8 387.5, 81.4 388.3 Q 82.0 389.1, 83.2 389.1 Q 83.9 389.1, 84.4 388.9 Q 84.8 388.8, 85.4 388.5 L 85.8 389.5 Q 84.7 390.2, 83.1 390.2 Q 81.2 390.2, 80.2 389.1 Q 79.2 388.0, 79.2 386.0 \" fill=\"#000000\"/>\n<path d=\"M 86.8 385.6 Q 86.8 383.2, 87.5 381.4 Q 88.1 379.5, 89.4 377.4 L 90.3 378.0 Q 89.3 379.9, 88.8 381.6 Q 88.2 383.4, 88.2 385.6 Q 88.2 387.7, 88.8 389.4 Q 89.3 391.1, 90.3 393.1 L 89.4 393.7 Q 88.1 391.6, 87.5 389.8 Q 86.8 387.9, 86.8 385.6 \" fill=\"#000000\"/>\n<path d=\"M 91.1 384.4 Q 91.1 381.6, 92.4 380.1 Q 93.8 378.7, 96.3 378.7 Q 98.6 378.7, 99.9 380.3 L 98.8 381.2 Q 97.9 380.0, 96.3 380.0 Q 94.6 380.0, 93.6 381.1 Q 92.8 382.3, 92.8 384.4 Q 92.8 386.7, 93.7 387.8 Q 94.6 389.0, 96.4 389.0 Q 97.7 389.0, 99.2 388.2 L 99.6 389.4 Q 99.0 389.8, 98.1 390.0 Q 97.2 390.3, 96.2 390.3 Q 93.8 390.3, 92.4 388.8 Q 91.1 387.2, 91.1 384.4 \" fill=\"#000000\"/>\n<path d=\"M 101.2 378.0 L 102.7 378.0 L 102.7 390.1 L 101.2 390.1 L 101.2 378.0 \" fill=\"#000000\"/>\n<path d=\"M 106.6 385.6 Q 106.6 387.9, 106.0 389.8 Q 105.3 391.6, 104.0 393.7 L 103.1 393.1 Q 104.1 391.1, 104.7 389.4 Q 105.2 387.7, 105.2 385.6 Q 105.2 383.4, 104.7 381.6 Q 104.1 379.9, 103.1 378.0 L 104.0 377.4 Q 105.3 379.5, 106.0 381.4 Q 106.6 383.2, 106.6 385.6 \" fill=\"#000000\"/>\n<path d=\"M 107.4 386.0 Q 107.4 384.0, 108.4 382.9 Q 109.3 381.7, 111.3 381.7 Q 113.2 381.7, 114.1 383.1 L 113.1 383.9 Q 112.8 383.4, 112.3 383.2 Q 111.9 382.9, 111.3 382.9 Q 110.2 382.9, 109.5 383.7 Q 108.9 384.5, 108.9 386.0 Q 108.9 387.5, 109.5 388.3 Q 110.2 389.1, 111.4 389.1 Q 112.1 389.1, 112.5 388.9 Q 113.0 388.8, 113.6 388.5 L 114.0 389.5 Q 112.8 390.2, 111.3 390.2 Q 109.3 390.2, 108.4 389.1 Q 107.4 388.0, 107.4 386.0 \" fill=\"#000000\"/>\n<path d=\"M 114.9 386.0 Q 114.9 384.0, 115.9 382.9 Q 116.9 381.7, 118.8 381.7 Q 120.7 381.7, 121.7 383.1 L 120.7 383.9 Q 120.3 383.4, 119.8 383.2 Q 119.4 382.9, 118.8 382.9 Q 117.7 382.9, 117.0 383.7 Q 116.4 384.5, 116.4 386.0 Q 116.4 387.5, 117.1 388.3 Q 117.7 389.1, 118.9 389.1 Q 119.6 389.1, 120.0 388.9 Q 120.5 388.8, 121.1 388.5 L 121.5 389.5 Q 120.3 390.2, 118.8 390.2 Q 116.9 390.2, 115.9 389.1 Q 114.9 388.0, 114.9 386.0 \" fill=\"#000000\"/>\n<path d=\"M 122.4 386.0 Q 122.4 384.0, 123.4 382.9 Q 124.4 381.7, 126.3 381.7 Q 128.2 381.7, 129.2 383.1 L 128.2 383.9 Q 127.8 383.4, 127.3 383.2 Q 126.9 382.9, 126.3 382.9 Q 125.2 382.9, 124.6 383.7 Q 123.9 384.5, 123.9 386.0 Q 123.9 387.5, 124.6 388.3 Q 125.2 389.1, 126.4 389.1 Q 127.1 389.1, 127.6 388.9 Q 128.0 388.8, 128.6 388.5 L 129.0 389.5 Q 127.8 390.2, 126.3 390.2 Q 124.4 390.2, 123.4 389.1 Q 122.4 388.0, 122.4 386.0 \" fill=\"#000000\"/>\n<path d=\"M 129.9 386.0 Q 129.9 384.0, 130.9 382.9 Q 131.9 381.7, 133.9 381.7 Q 135.7 381.7, 136.7 383.1 L 135.7 383.9 Q 135.3 383.4, 134.9 383.2 Q 134.4 382.9, 133.9 382.9 Q 132.7 382.9, 132.1 383.7 Q 131.5 384.5, 131.5 386.0 Q 131.5 387.5, 132.1 388.3 Q 132.8 389.1, 134.0 389.1 Q 134.6 389.1, 135.1 388.9 Q 135.6 388.8, 136.1 388.5 L 136.5 389.5 Q 135.4 390.2, 133.8 390.2 Q 131.9 390.2, 130.9 389.1 Q 129.9 388.0, 129.9 386.0 \" fill=\"#000000\"/>\n<path d=\"M 138.2 388.8 L 140.7 388.8 L 140.7 380.4 L 137.9 381.2 L 137.6 380.3 L 141.0 378.7 L 142.2 378.9 L 142.2 388.8 L 144.4 388.8 L 144.4 390.1 L 138.2 390.1 L 138.2 388.8 \" fill=\"#000000\"/>\n<path d=\"M 145.2 384.4 Q 145.2 381.6, 146.5 380.1 Q 147.8 378.7, 150.4 378.7 Q 152.7 378.7, 153.9 380.3 L 152.9 381.2 Q 152.0 380.0, 150.4 380.0 Q 148.6 380.0, 147.7 381.1 Q 146.8 382.3, 146.8 384.4 Q 146.8 386.7, 147.8 387.8 Q 148.7 389.0, 150.5 389.0 Q 151.8 389.0, 153.2 388.2 L 153.7 389.4 Q 153.1 389.8, 152.2 390.0 Q 151.3 390.3, 150.3 390.3 Q 147.8 390.3, 146.5 388.8 Q 145.2 387.2, 145.2 384.4 \" fill=\"#000000\"/>\n<path d=\"M 155.3 378.0 L 156.8 378.0 L 156.8 390.1 L 155.3 390.1 L 155.3 378.0 \" fill=\"#000000\"/>\n<path class=\"bond-0 atom-0 atom-1\" d=\"M 377.4,279.9 L 363.4,279.9\" style=\"fill:none;fill-rule:evenodd;stroke:#0000FF;stroke-width:2.0px;stroke-linecap:butt;stroke-linejoin:miter;stroke-opacity:1\"/>\n<path class=\"bond-0 atom-0 atom-1\" d=\"M 363.4,279.9 L 349.5,279.9\" style=\"fill:none;fill-rule:evenodd;stroke:#000000;stroke-width:2.0px;stroke-linecap:butt;stroke-linejoin:miter;stroke-opacity:1\"/>\n<path class=\"bond-0 atom-0 atom-1\" d=\"M 377.4,273.5 L 365.5,273.5\" style=\"fill:none;fill-rule:evenodd;stroke:#0000FF;stroke-width:2.0px;stroke-linecap:butt;stroke-linejoin:miter;stroke-opacity:1\"/>\n<path class=\"bond-0 atom-0 atom-1\" d=\"M 365.5,273.5 L 353.7,273.5\" style=\"fill:none;fill-rule:evenodd;stroke:#000000;stroke-width:2.0px;stroke-linecap:butt;stroke-linejoin:miter;stroke-opacity:1\"/>\n<path class=\"bond-0 atom-0 atom-1\" d=\"M 377.4,286.4 L 365.5,286.4\" style=\"fill:none;fill-rule:evenodd;stroke:#0000FF;stroke-width:2.0px;stroke-linecap:butt;stroke-linejoin:miter;stroke-opacity:1\"/>\n<path class=\"bond-0 atom-0 atom-1\" d=\"M 365.5,286.4 L 353.7,286.4\" style=\"fill:none;fill-rule:evenodd;stroke:#000000;stroke-width:2.0px;stroke-linecap:butt;stroke-linejoin:miter;stroke-opacity:1\"/>\n<path class=\"bond-1 atom-1 atom-2\" d=\"M 349.5,279.9 L 317.3,279.9\" style=\"fill:none;fill-rule:evenodd;stroke:#000000;stroke-width:2.0px;stroke-linecap:butt;stroke-linejoin:miter;stroke-opacity:1\"/>\n<path class=\"bond-2 atom-2 atom-3\" d=\"M 317.3,279.9 L 301.2,307.8\" style=\"fill:none;fill-rule:evenodd;stroke:#000000;stroke-width:2.0px;stroke-linecap:butt;stroke-linejoin:miter;stroke-opacity:1\"/>\n<path class=\"bond-2 atom-2 atom-3\" d=\"M 309.3,280.9 L 298.0,300.4\" style=\"fill:none;fill-rule:evenodd;stroke:#000000;stroke-width:2.0px;stroke-linecap:butt;stroke-linejoin:miter;stroke-opacity:1\"/>\n<path class=\"bond-8 atom-8 atom-2\" d=\"M 301.2,252.1 L 317.3,279.9\" style=\"fill:none;fill-rule:evenodd;stroke:#000000;stroke-width:2.0px;stroke-linecap:butt;stroke-linejoin:miter;stroke-opacity:1\"/>\n<path class=\"bond-3 atom-3 atom-4\" d=\"M 301.2,307.8 L 269.0,307.8\" style=\"fill:none;fill-rule:evenodd;stroke:#000000;stroke-width:2.0px;stroke-linecap:butt;stroke-linejoin:miter;stroke-opacity:1\"/>\n<path class=\"bond-4 atom-4 atom-5\" d=\"M 269.0,307.8 L 252.9,279.9\" style=\"fill:none;fill-rule:evenodd;stroke:#000000;stroke-width:2.0px;stroke-linecap:butt;stroke-linejoin:miter;stroke-opacity:1\"/>\n<path class=\"bond-4 atom-4 atom-5\" d=\"M 272.2,300.4 L 260.9,280.9\" style=\"fill:none;fill-rule:evenodd;stroke:#000000;stroke-width:2.0px;stroke-linecap:butt;stroke-linejoin:miter;stroke-opacity:1\"/>\n<path class=\"bond-5 atom-5 atom-6\" d=\"M 252.9,279.9 L 239.4,279.9\" style=\"fill:none;fill-rule:evenodd;stroke:#000000;stroke-width:2.0px;stroke-linecap:butt;stroke-linejoin:miter;stroke-opacity:1\"/>\n<path class=\"bond-5 atom-5 atom-6\" d=\"M 239.4,279.9 L 225.8,279.9\" style=\"fill:none;fill-rule:evenodd;stroke:#FF0000;stroke-width:2.0px;stroke-linecap:butt;stroke-linejoin:miter;stroke-opacity:1\"/>\n<path class=\"bond-6 atom-5 atom-7\" d=\"M 252.9,279.9 L 269.0,252.1\" style=\"fill:none;fill-rule:evenodd;stroke:#000000;stroke-width:2.0px;stroke-linecap:butt;stroke-linejoin:miter;stroke-opacity:1\"/>\n<path class=\"bond-7 atom-7 atom-8\" d=\"M 269.0,252.1 L 301.2,252.1\" style=\"fill:none;fill-rule:evenodd;stroke:#000000;stroke-width:2.0px;stroke-linecap:butt;stroke-linejoin:miter;stroke-opacity:1\"/>\n<path class=\"bond-7 atom-7 atom-8\" d=\"M 273.9,258.5 L 296.4,258.5\" style=\"fill:none;fill-rule:evenodd;stroke:#000000;stroke-width:2.0px;stroke-linecap:butt;stroke-linejoin:miter;stroke-opacity:1\"/>\n<path class=\"atom-0\" d=\"M 379.6 275.4 L 382.6 280.2 Q 382.9 280.7, 383.4 281.6 Q 383.9 282.4, 383.9 282.5 L 383.9 275.4 L 385.1 275.4 L 385.1 284.5 L 383.9 284.5 L 380.6 279.2 Q 380.3 278.6, 379.9 277.9 Q 379.5 277.2, 379.4 277.0 L 379.4 284.5 L 378.2 284.5 L 378.2 275.4 L 379.6 275.4 \" fill=\"#0000FF\"/>\n<path class=\"atom-6\" d=\"M 208.8 275.4 L 210.0 275.4 L 210.0 279.3 L 214.7 279.3 L 214.7 275.4 L 215.9 275.4 L 215.9 284.5 L 214.7 284.5 L 214.7 280.3 L 210.0 280.3 L 210.0 284.5 L 208.8 284.5 L 208.8 275.4 \" fill=\"#FF0000\"/>\n<path class=\"atom-6\" d=\"M 216.6 280.0 Q 216.6 277.8, 217.7 276.6 Q 218.7 275.3, 220.8 275.3 Q 222.8 275.3, 223.9 276.6 Q 225.0 277.8, 225.0 280.0 Q 225.0 282.2, 223.9 283.4 Q 222.8 284.7, 220.8 284.7 Q 218.8 284.7, 217.7 283.4 Q 216.6 282.2, 216.6 280.0 M 220.8 283.7 Q 222.2 283.7, 222.9 282.7 Q 223.7 281.8, 223.7 280.0 Q 223.7 278.2, 222.9 277.3 Q 222.2 276.4, 220.8 276.4 Q 219.4 276.4, 218.6 277.3 Q 217.9 278.2, 217.9 280.0 Q 217.9 281.8, 218.6 282.7 Q 219.4 283.7, 220.8 283.7 \" fill=\"#FF0000\"/>\n<path d=\"M 243.6 378.8 L 247.4 384.8 Q 247.7 385.4, 248.3 386.4 Q 248.9 387.5, 248.9 387.6 L 248.9 378.8 L 250.4 378.8 L 250.4 390.1 L 248.9 390.1 L 244.9 383.6 Q 244.4 382.8, 243.9 381.9 Q 243.5 381.0, 243.3 380.8 L 243.3 390.1 L 241.8 390.1 L 241.8 378.8 L 243.6 378.8 \" fill=\"#000000\"/>\n<path d=\"M 261.1 383.1 L 258.9 383.1 L 258.4 386.0 L 260.6 386.0 L 260.4 387.1 L 258.2 387.1 L 257.7 390.1 L 256.5 390.1 L 257.0 387.1 L 254.3 387.1 L 253.8 390.1 L 252.5 390.1 L 253.0 387.1 L 250.8 387.1 L 251.0 386.0 L 253.2 386.0 L 253.7 383.1 L 251.5 383.1 L 251.7 381.9 L 253.9 381.9 L 254.4 378.8 L 255.7 378.8 L 255.2 381.9 L 257.9 381.9 L 258.4 378.8 L 259.7 378.8 L 259.1 381.9 L 261.3 381.9 L 261.1 383.1 M 257.2 386.0 L 257.7 383.1 L 255.0 383.1 L 254.5 386.0 L 257.2 386.0 \" fill=\"#000000\"/>\n<path d=\"M 262.1 384.4 Q 262.1 381.6, 263.4 380.1 Q 264.8 378.7, 267.3 378.7 Q 269.6 378.7, 270.9 380.3 L 269.8 381.2 Q 268.9 380.0, 267.3 380.0 Q 265.6 380.0, 264.7 381.1 Q 263.8 382.3, 263.8 384.4 Q 263.8 386.7, 264.7 387.8 Q 265.6 389.0, 267.5 389.0 Q 268.7 389.0, 270.2 388.2 L 270.6 389.4 Q 270.0 389.8, 269.1 390.0 Q 268.2 390.3, 267.2 390.3 Q 264.8 390.3, 263.4 388.8 Q 262.1 387.2, 262.1 384.4 \" fill=\"#000000\"/>\n<path d=\"M 271.6 386.0 Q 271.6 384.0, 272.6 382.9 Q 273.6 381.7, 275.5 381.7 Q 277.4 381.7, 278.4 383.1 L 277.4 383.9 Q 277.0 383.4, 276.6 383.2 Q 276.1 382.9, 275.5 382.9 Q 274.4 382.9, 273.8 383.7 Q 273.1 384.5, 273.1 386.0 Q 273.1 387.5, 273.8 388.3 Q 274.4 389.1, 275.6 389.1 Q 276.3 389.1, 276.8 388.9 Q 277.2 388.8, 277.8 388.5 L 278.2 389.5 Q 277.0 390.2, 275.5 390.2 Q 273.6 390.2, 272.6 389.1 Q 271.6 388.0, 271.6 386.0 \" fill=\"#000000\"/>\n<path d=\"M 279.9 388.8 L 282.4 388.8 L 282.4 380.4 L 279.6 381.2 L 279.3 380.3 L 282.7 378.7 L 283.9 378.9 L 283.9 388.8 L 286.1 388.8 L 286.1 390.1 L 279.9 390.1 L 279.9 388.8 \" fill=\"#000000\"/>\n<path d=\"M 286.8 386.0 Q 286.8 384.0, 287.8 382.9 Q 288.8 381.7, 290.8 381.7 Q 292.6 381.7, 293.6 383.1 L 292.6 383.9 Q 292.2 383.4, 291.8 383.2 Q 291.3 382.9, 290.8 382.9 Q 289.6 382.9, 289.0 383.7 Q 288.4 384.5, 288.4 386.0 Q 288.4 387.5, 289.0 388.3 Q 289.7 389.1, 290.9 389.1 Q 291.5 389.1, 292.0 388.9 Q 292.5 388.8, 293.0 388.5 L 293.4 389.5 Q 292.3 390.2, 290.7 390.2 Q 288.8 390.2, 287.8 389.1 Q 286.8 388.0, 286.8 386.0 \" fill=\"#000000\"/>\n<path d=\"M 294.3 386.0 Q 294.3 384.0, 295.3 382.9 Q 296.3 381.7, 298.3 381.7 Q 300.2 381.7, 301.1 383.1 L 300.1 383.9 Q 299.7 383.4, 299.3 383.2 Q 298.9 382.9, 298.3 382.9 Q 297.1 382.9, 296.5 383.7 Q 295.9 384.5, 295.9 386.0 Q 295.9 387.5, 296.5 388.3 Q 297.2 389.1, 298.4 389.1 Q 299.0 389.1, 299.5 388.9 Q 300.0 388.8, 300.6 388.5 L 301.0 389.5 Q 299.8 390.2, 298.3 390.2 Q 296.3 390.2, 295.3 389.1 Q 294.3 388.0, 294.3 386.0 \" fill=\"#000000\"/>\n<path d=\"M 301.9 386.0 Q 301.9 384.0, 302.9 382.9 Q 303.8 381.7, 305.8 381.7 Q 307.7 381.7, 308.6 383.1 L 307.6 383.9 Q 307.3 383.4, 306.8 383.2 Q 306.4 382.9, 305.8 382.9 Q 304.7 382.9, 304.0 383.7 Q 303.4 384.5, 303.4 386.0 Q 303.4 387.5, 304.0 388.3 Q 304.7 389.1, 305.9 389.1 Q 306.6 389.1, 307.0 388.9 Q 307.5 388.8, 308.1 388.5 L 308.5 389.5 Q 307.3 390.2, 305.8 390.2 Q 303.8 390.2, 302.9 389.1 Q 301.9 388.0, 301.9 386.0 \" fill=\"#000000\"/>\n<path d=\"M 309.4 385.6 Q 309.4 383.2, 310.1 381.4 Q 310.8 379.5, 312.1 377.4 L 313.0 378.0 Q 311.9 379.9, 311.4 381.6 Q 310.9 383.4, 310.9 385.6 Q 310.9 387.7, 311.4 389.4 Q 311.9 391.1, 313.0 393.1 L 312.1 393.7 Q 310.8 391.6, 310.1 389.8 Q 309.4 387.9, 309.4 385.6 \" fill=\"#000000\"/>\n<path d=\"M 313.8 384.4 Q 313.8 381.7, 315.1 380.2 Q 316.5 378.7, 319.0 378.7 Q 321.5 378.7, 322.8 380.2 Q 324.2 381.7, 324.2 384.4 Q 324.2 387.2, 322.8 388.7 Q 321.4 390.3, 319.0 390.3 Q 316.5 390.3, 315.1 388.7 Q 313.8 387.2, 313.8 384.4 M 319.0 389.0 Q 320.7 389.0, 321.6 387.9 Q 322.6 386.7, 322.6 384.4 Q 322.6 382.2, 321.6 381.1 Q 320.7 379.9, 319.0 379.9 Q 317.2 379.9, 316.3 381.1 Q 315.4 382.2, 315.4 384.4 Q 315.4 386.7, 316.3 387.9 Q 317.2 389.0, 319.0 389.0 \" fill=\"#000000\"/>\n<path d=\"M 328.1 385.6 Q 328.1 387.9, 327.4 389.8 Q 326.8 391.6, 325.5 393.7 L 324.6 393.1 Q 325.6 391.1, 326.1 389.4 Q 326.6 387.7, 326.6 385.6 Q 326.6 383.4, 326.1 381.6 Q 325.6 379.9, 324.6 378.0 L 325.5 377.4 Q 326.8 379.5, 327.4 381.4 Q 328.1 383.2, 328.1 385.6 \" fill=\"#000000\"/>\n<path d=\"M 328.8 386.0 Q 328.8 384.0, 329.8 382.9 Q 330.8 381.7, 332.8 381.7 Q 334.6 381.7, 335.6 383.1 L 334.6 383.9 Q 334.2 383.4, 333.8 383.2 Q 333.3 382.9, 332.8 382.9 Q 331.6 382.9, 331.0 383.7 Q 330.4 384.5, 330.4 386.0 Q 330.4 387.5, 331.0 388.3 Q 331.7 389.1, 332.9 389.1 Q 333.5 389.1, 334.0 388.9 Q 334.5 388.8, 335.0 388.5 L 335.4 389.5 Q 334.3 390.2, 332.7 390.2 Q 330.8 390.2, 329.8 389.1 Q 328.8 388.0, 328.8 386.0 \" fill=\"#000000\"/>\n<path d=\"M 336.3 386.0 Q 336.3 384.0, 337.3 382.9 Q 338.3 381.7, 340.3 381.7 Q 342.2 381.7, 343.1 383.1 L 342.1 383.9 Q 341.7 383.4, 341.3 383.2 Q 340.9 382.9, 340.3 382.9 Q 339.1 382.9, 338.5 383.7 Q 337.9 384.5, 337.9 386.0 Q 337.9 387.5, 338.5 388.3 Q 339.2 389.1, 340.4 389.1 Q 341.0 389.1, 341.5 388.9 Q 342.0 388.8, 342.6 388.5 L 343.0 389.5 Q 341.8 390.2, 340.3 390.2 Q 338.3 390.2, 337.3 389.1 Q 336.3 388.0, 336.3 386.0 \" fill=\"#000000\"/>\n<path d=\"M 344.6 388.8 L 347.1 388.8 L 347.1 380.4 L 344.4 381.2 L 344.0 380.3 L 347.5 378.7 L 348.6 378.9 L 348.6 388.8 L 350.8 388.8 L 350.8 390.1 L 344.6 390.1 L 344.6 388.8 \" fill=\"#000000\"/>\n<path class=\"bond-0 atom-0 atom-1\" d=\"M 412.3,286.8 L 440.1,270.7\" style=\"fill:none;fill-rule:evenodd;stroke:#000000;stroke-width:2.0px;stroke-linecap:butt;stroke-linejoin:miter;stroke-opacity:1\"/>\n<path class=\"bond-1 atom-1 atom-2\" d=\"M 440.1,270.7 L 468.0,286.8\" style=\"fill:none;fill-rule:evenodd;stroke:#000000;stroke-width:2.0px;stroke-linecap:butt;stroke-linejoin:miter;stroke-opacity:1\"/>\n<path class=\"bond-2 atom-2 atom-3\" d=\"M 468.0,286.8 L 495.8,270.7\" style=\"fill:none;fill-rule:evenodd;stroke:#000000;stroke-width:2.0px;stroke-linecap:butt;stroke-linejoin:miter;stroke-opacity:1\"/>\n<path class=\"bond-3 atom-3 atom-4\" d=\"M 495.8,270.7 L 523.7,286.8\" style=\"fill:none;fill-rule:evenodd;stroke:#000000;stroke-width:2.0px;stroke-linecap:butt;stroke-linejoin:miter;stroke-opacity:1\"/>\n<path class=\"bond-4 atom-4 atom-5\" d=\"M 523.7,286.8 L 551.6,270.7\" style=\"fill:none;fill-rule:evenodd;stroke:#000000;stroke-width:2.0px;stroke-linecap:butt;stroke-linejoin:miter;stroke-opacity:1\"/>\n<path class=\"bond-5 atom-5 atom-6\" d=\"M 551.6,270.7 L 564.8,278.4\" style=\"fill:none;fill-rule:evenodd;stroke:#000000;stroke-width:2.0px;stroke-linecap:butt;stroke-linejoin:miter;stroke-opacity:1\"/>\n<path class=\"bond-5 atom-5 atom-6\" d=\"M 564.8,278.4 L 578.0,286.0\" style=\"fill:none;fill-rule:evenodd;stroke:#A01EEF;stroke-width:2.0px;stroke-linecap:butt;stroke-linejoin:miter;stroke-opacity:1\"/>\n<path class=\"atom-6\" d=\"M 578.8 282.3 L 580.0 282.3 L 580.0 291.4 L 578.8 291.4 L 578.8 282.3 \" fill=\"#A01EEF\"/>\n<path d=\"M 464.9 388.4 Q 464.9 385.6, 466.2 384.2 Q 467.5 382.7, 470.0 382.7 Q 472.4 382.7, 473.6 384.3 L 472.6 385.2 Q 471.7 384.0, 470.0 384.0 Q 468.3 384.0, 467.4 385.1 Q 466.5 386.3, 466.5 388.4 Q 466.5 390.7, 467.4 391.8 Q 468.4 393.0, 470.2 393.0 Q 471.5 393.0, 472.9 392.2 L 473.4 393.4 Q 472.8 393.8, 471.9 394.0 Q 471.0 394.3, 470.0 394.3 Q 467.5 394.3, 466.2 392.8 Q 464.9 391.3, 464.9 388.4 \" fill=\"#000000\"/>\n<path d=\"M 474.4 388.4 Q 474.4 385.6, 475.7 384.2 Q 477.1 382.7, 479.6 382.7 Q 481.9 382.7, 483.2 384.3 L 482.1 385.2 Q 481.2 384.0, 479.6 384.0 Q 477.9 384.0, 477.0 385.1 Q 476.1 386.3, 476.1 388.4 Q 476.1 390.7, 477.0 391.8 Q 477.9 393.0, 479.8 393.0 Q 481.0 393.0, 482.5 392.2 L 482.9 393.4 Q 482.3 393.8, 481.4 394.0 Q 480.5 394.3, 479.5 394.3 Q 477.1 394.3, 475.7 392.8 Q 474.4 391.3, 474.4 388.4 \" fill=\"#000000\"/>\n<path d=\"M 484.0 388.4 Q 484.0 385.6, 485.3 384.2 Q 486.6 382.7, 489.1 382.7 Q 491.4 382.7, 492.7 384.3 L 491.6 385.2 Q 490.7 384.0, 489.1 384.0 Q 487.4 384.0, 486.5 385.1 Q 485.6 386.3, 485.6 388.4 Q 485.6 390.7, 486.5 391.8 Q 487.5 393.0, 489.3 393.0 Q 490.5 393.0, 492.0 392.2 L 492.4 393.4 Q 491.8 393.8, 491.0 394.0 Q 490.1 394.3, 489.1 394.3 Q 486.6 394.3, 485.3 392.8 Q 484.0 391.3, 484.0 388.4 \" fill=\"#000000\"/>\n<path d=\"M 493.5 388.4 Q 493.5 385.6, 494.8 384.2 Q 496.1 382.7, 498.6 382.7 Q 501.0 382.7, 502.2 384.3 L 501.2 385.2 Q 500.3 384.0, 498.6 384.0 Q 496.9 384.0, 496.0 385.1 Q 495.1 386.3, 495.1 388.4 Q 495.1 390.7, 496.1 391.8 Q 497.0 393.0, 498.8 393.0 Q 500.1 393.0, 501.5 392.2 L 502.0 393.4 Q 501.4 393.8, 500.5 394.0 Q 499.6 394.3, 498.6 394.3 Q 496.1 394.3, 494.8 392.8 Q 493.5 391.3, 493.5 388.4 \" fill=\"#000000\"/>\n<path d=\"M 503.0 388.4 Q 503.0 385.6, 504.3 384.2 Q 505.7 382.7, 508.2 382.7 Q 510.5 382.7, 511.8 384.3 L 510.7 385.2 Q 509.8 384.0, 508.2 384.0 Q 506.5 384.0, 505.6 385.1 Q 504.7 386.3, 504.7 388.4 Q 504.7 390.7, 505.6 391.8 Q 506.5 393.0, 508.4 393.0 Q 509.6 393.0, 511.1 392.2 L 511.5 393.4 Q 510.9 393.8, 510.0 394.0 Q 509.1 394.3, 508.1 394.3 Q 505.7 394.3, 504.3 392.8 Q 503.0 391.3, 503.0 388.4 \" fill=\"#000000\"/>\n<path d=\"M 512.6 388.4 Q 512.6 385.6, 513.9 384.2 Q 515.2 382.7, 517.7 382.7 Q 520.1 382.7, 521.3 384.3 L 520.2 385.2 Q 519.3 384.0, 517.7 384.0 Q 516.0 384.0, 515.1 385.1 Q 514.2 386.3, 514.2 388.4 Q 514.2 390.7, 515.1 391.8 Q 516.1 393.0, 517.9 393.0 Q 519.1 393.0, 520.6 392.2 L 521.0 393.4 Q 520.5 393.8, 519.6 394.0 Q 518.7 394.3, 517.7 394.3 Q 515.2 394.3, 513.9 392.8 Q 512.6 391.3, 512.6 388.4 \" fill=\"#000000\"/>\n<path d=\"M 522.7 382.8 L 524.2 382.8 L 524.2 394.1 L 522.7 394.1 L 522.7 382.8 \" fill=\"#000000\"/>\n<path class=\"bond-0 atom-0 atom-1\" d=\"M 619.4,259.4 L 651.3,263.6\" style=\"fill:none;fill-rule:evenodd;stroke:#000000;stroke-width:2.0px;stroke-linecap:butt;stroke-linejoin:miter;stroke-opacity:1\"/>\n<path class=\"bond-1 atom-1 atom-2\" d=\"M 651.3,263.6 L 656.4,275.7\" style=\"fill:none;fill-rule:evenodd;stroke:#000000;stroke-width:2.0px;stroke-linecap:butt;stroke-linejoin:miter;stroke-opacity:1\"/>\n<path class=\"bond-1 atom-1 atom-2\" d=\"M 656.4,275.7 L 661.4,287.9\" style=\"fill:none;fill-rule:evenodd;stroke:#FF0000;stroke-width:2.0px;stroke-linecap:butt;stroke-linejoin:miter;stroke-opacity:1\"/>\n<path class=\"bond-2 atom-2 atom-3\" d=\"M 668.7,294.0 L 682.1,295.7\" style=\"fill:none;fill-rule:evenodd;stroke:#FF0000;stroke-width:2.0px;stroke-linecap:butt;stroke-linejoin:miter;stroke-opacity:1\"/>\n<path class=\"bond-2 atom-2 atom-3\" d=\"M 682.1,295.7 L 695.6,297.5\" style=\"fill:none;fill-rule:evenodd;stroke:#000000;stroke-width:2.0px;stroke-linecap:butt;stroke-linejoin:miter;stroke-opacity:1\"/>\n<path class=\"bond-3 atom-3 atom-4\" d=\"M 695.6,297.5 L 707.9,327.2\" style=\"fill:none;fill-rule:evenodd;stroke:#000000;stroke-width:2.0px;stroke-linecap:butt;stroke-linejoin:miter;stroke-opacity:1\"/>\n<path class=\"bond-4 atom-3 atom-5\" d=\"M 695.6,297.5 L 703.2,287.5\" style=\"fill:none;fill-rule:evenodd;stroke:#000000;stroke-width:2.0px;stroke-linecap:butt;stroke-linejoin:miter;stroke-opacity:1\"/>\n<path class=\"bond-4 atom-3 atom-5\" d=\"M 703.2,287.5 L 710.9,277.5\" style=\"fill:none;fill-rule:evenodd;stroke:#FF0000;stroke-width:2.0px;stroke-linecap:butt;stroke-linejoin:miter;stroke-opacity:1\"/>\n<path class=\"bond-5 atom-5 atom-6\" d=\"M 720.1,272.6 L 733.6,274.3\" style=\"fill:none;fill-rule:evenodd;stroke:#FF0000;stroke-width:2.0px;stroke-linecap:butt;stroke-linejoin:miter;stroke-opacity:1\"/>\n<path class=\"bond-5 atom-5 atom-6\" d=\"M 733.6,274.3 L 747.0,276.1\" style=\"fill:none;fill-rule:evenodd;stroke:#000000;stroke-width:2.0px;stroke-linecap:butt;stroke-linejoin:miter;stroke-opacity:1\"/>\n<path class=\"bond-6 atom-6 atom-7\" d=\"M 747.0,276.1 L 766.6,250.5\" style=\"fill:none;fill-rule:evenodd;stroke:#000000;stroke-width:2.0px;stroke-linecap:butt;stroke-linejoin:miter;stroke-opacity:1\"/>\n<path class=\"atom-2\" d=\"M 659.5 293.3 Q 659.5 291.1, 660.6 289.9 Q 661.7 288.7, 663.7 288.7 Q 665.7 288.7, 666.8 289.9 Q 667.9 291.1, 667.9 293.3 Q 667.9 295.5, 666.8 296.8 Q 665.7 298.1, 663.7 298.1 Q 661.7 298.1, 660.6 296.8 Q 659.5 295.6, 659.5 293.3 M 663.7 297.0 Q 665.1 297.0, 665.8 296.1 Q 666.6 295.2, 666.6 293.3 Q 666.6 291.5, 665.8 290.6 Q 665.1 289.7, 663.7 289.7 Q 662.3 289.7, 661.5 290.6 Q 660.8 291.5, 660.8 293.3 Q 660.8 295.2, 661.5 296.1 Q 662.3 297.0, 663.7 297.0 \" fill=\"#FF0000\"/>\n<path class=\"atom-5\" d=\"M 711.0 272.0 Q 711.0 269.8, 712.0 268.5 Q 713.1 267.3, 715.1 267.3 Q 717.2 267.3, 718.2 268.5 Q 719.3 269.8, 719.3 272.0 Q 719.3 274.2, 718.2 275.4 Q 717.1 276.7, 715.1 276.7 Q 713.1 276.7, 712.0 275.4 Q 711.0 274.2, 711.0 272.0 M 715.1 275.6 Q 716.5 275.6, 717.3 274.7 Q 718.0 273.8, 718.0 272.0 Q 718.0 270.2, 717.3 269.3 Q 716.5 268.3, 715.1 268.3 Q 713.8 268.3, 713.0 269.2 Q 712.2 270.1, 712.2 272.0 Q 712.2 273.8, 713.0 274.7 Q 713.8 275.6, 715.1 275.6 \" fill=\"#FF0000\"/>\n<path d=\"M 652.5 384.4 Q 652.5 381.6, 653.8 380.1 Q 655.1 378.7, 657.7 378.7 Q 660.0 378.7, 661.2 380.3 L 660.2 381.2 Q 659.3 380.0, 657.7 380.0 Q 655.9 380.0, 655.0 381.1 Q 654.1 382.3, 654.1 384.4 Q 654.1 386.7, 655.1 387.8 Q 656.0 389.0, 657.8 389.0 Q 659.1 389.0, 660.5 388.2 L 661.0 389.4 Q 660.4 389.8, 659.5 390.0 Q 658.6 390.3, 657.6 390.3 Q 655.1 390.3, 653.8 388.8 Q 652.5 387.2, 652.5 384.4 \" fill=\"#000000\"/>\n<path d=\"M 662.0 384.4 Q 662.0 381.6, 663.3 380.1 Q 664.7 378.7, 667.2 378.7 Q 669.5 378.7, 670.8 380.3 L 669.7 381.2 Q 668.8 380.0, 667.2 380.0 Q 665.5 380.0, 664.6 381.1 Q 663.7 382.3, 663.7 384.4 Q 663.7 386.7, 664.6 387.8 Q 665.5 389.0, 667.4 389.0 Q 668.6 389.0, 670.1 388.2 L 670.5 389.4 Q 669.9 389.8, 669.0 390.0 Q 668.1 390.3, 667.1 390.3 Q 664.7 390.3, 663.3 388.8 Q 662.0 387.2, 662.0 384.4 \" fill=\"#000000\"/>\n<path d=\"M 671.6 384.4 Q 671.6 381.7, 672.9 380.2 Q 674.3 378.7, 676.8 378.7 Q 679.3 378.7, 680.6 380.2 Q 682.0 381.7, 682.0 384.4 Q 682.0 387.2, 680.6 388.7 Q 679.3 390.3, 676.8 390.3 Q 674.3 390.3, 672.9 388.7 Q 671.6 387.2, 671.6 384.4 M 676.8 389.0 Q 678.5 389.0, 679.4 387.9 Q 680.4 386.7, 680.4 384.4 Q 680.4 382.2, 679.4 381.1 Q 678.5 379.9, 676.8 379.9 Q 675.0 379.9, 674.1 381.1 Q 673.2 382.2, 673.2 384.4 Q 673.2 386.7, 674.1 387.9 Q 675.0 389.0, 676.8 389.0 \" fill=\"#000000\"/>\n<path d=\"M 682.8 384.4 Q 682.8 381.6, 684.1 380.1 Q 685.4 378.7, 687.9 378.7 Q 690.3 378.7, 691.5 380.3 L 690.5 381.2 Q 689.5 380.0, 687.9 380.0 Q 686.2 380.0, 685.3 381.1 Q 684.4 382.3, 684.4 384.4 Q 684.4 386.7, 685.3 387.8 Q 686.3 389.0, 688.1 389.0 Q 689.3 389.0, 690.8 388.2 L 691.3 389.4 Q 690.7 389.8, 689.8 390.0 Q 688.9 390.3, 687.9 390.3 Q 685.4 390.3, 684.1 388.8 Q 682.8 387.2, 682.8 384.4 \" fill=\"#000000\"/>\n<path d=\"M 692.3 385.6 Q 692.3 383.2, 693.0 381.4 Q 693.6 379.5, 694.9 377.4 L 695.8 378.0 Q 694.8 379.9, 694.3 381.6 Q 693.7 383.4, 693.7 385.6 Q 693.7 387.7, 694.3 389.4 Q 694.8 391.1, 695.8 393.1 L 694.9 393.7 Q 693.6 391.6, 693.0 389.8 Q 692.3 387.9, 692.3 385.6 \" fill=\"#000000\"/>\n<path d=\"M 696.6 384.4 Q 696.6 381.6, 697.9 380.1 Q 699.3 378.7, 701.8 378.7 Q 704.1 378.7, 705.4 380.3 L 704.3 381.2 Q 703.4 380.0, 701.8 380.0 Q 700.1 380.0, 699.2 381.1 Q 698.3 382.3, 698.3 384.4 Q 698.3 386.7, 699.2 387.8 Q 700.1 389.0, 702.0 389.0 Q 703.2 389.0, 704.7 388.2 L 705.1 389.4 Q 704.5 389.8, 703.6 390.0 Q 702.7 390.3, 701.7 390.3 Q 699.3 390.3, 697.9 388.8 Q 696.6 387.2, 696.6 384.4 \" fill=\"#000000\"/>\n<path d=\"M 709.3 385.6 Q 709.3 387.9, 708.6 389.8 Q 708.0 391.6, 706.7 393.7 L 705.8 393.1 Q 706.8 391.1, 707.3 389.4 Q 707.8 387.7, 707.8 385.6 Q 707.8 383.4, 707.3 381.6 Q 706.8 379.9, 705.8 378.0 L 706.7 377.4 Q 708.0 379.5, 708.6 381.4 Q 709.3 383.2, 709.3 385.6 \" fill=\"#000000\"/>\n<path d=\"M 710.1 384.4 Q 710.1 381.7, 711.4 380.2 Q 712.8 378.7, 715.3 378.7 Q 717.8 378.7, 719.1 380.2 Q 720.5 381.7, 720.5 384.4 Q 720.5 387.2, 719.1 388.7 Q 717.8 390.3, 715.3 390.3 Q 712.8 390.3, 711.4 388.7 Q 710.1 387.2, 710.1 384.4 M 715.3 389.0 Q 717.0 389.0, 717.9 387.9 Q 718.9 386.7, 718.9 384.4 Q 718.9 382.2, 717.9 381.1 Q 717.0 379.9, 715.3 379.9 Q 713.6 379.9, 712.6 381.1 Q 711.7 382.2, 711.7 384.4 Q 711.7 386.7, 712.6 387.9 Q 713.6 389.0, 715.3 389.0 \" fill=\"#000000\"/>\n<path d=\"M 721.3 384.4 Q 721.3 381.6, 722.6 380.1 Q 723.9 378.7, 726.4 378.7 Q 728.8 378.7, 730.0 380.3 L 729.0 381.2 Q 728.1 380.0, 726.4 380.0 Q 724.7 380.0, 723.8 381.1 Q 722.9 382.3, 722.9 384.4 Q 722.9 386.7, 723.8 387.8 Q 724.8 389.0, 726.6 389.0 Q 727.9 389.0, 729.3 388.2 L 729.8 389.4 Q 729.2 389.8, 728.3 390.0 Q 727.4 390.3, 726.4 390.3 Q 723.9 390.3, 722.6 388.8 Q 721.3 387.2, 721.3 384.4 \" fill=\"#000000\"/>\n<path d=\"M 730.8 384.4 Q 730.8 381.6, 732.1 380.1 Q 733.5 378.7, 736.0 378.7 Q 738.3 378.7, 739.6 380.3 L 738.5 381.2 Q 737.6 380.0, 736.0 380.0 Q 734.3 380.0, 733.3 381.1 Q 732.5 382.3, 732.5 384.4 Q 732.5 386.7, 733.4 387.8 Q 734.3 389.0, 736.1 389.0 Q 737.4 389.0, 738.9 388.2 L 739.3 389.4 Q 738.7 389.8, 737.8 390.0 Q 736.9 390.3, 735.9 390.3 Q 733.5 390.3, 732.1 388.8 Q 730.8 387.2, 730.8 384.4 \" fill=\"#000000\"/>\n</svg>",
      "text/plain": [
       "<IPython.core.display.SVG object>"
      ]
     },
     "execution_count": 5,
     "metadata": {},
     "output_type": "execute_result"
    }
   ],
   "source": [
    "smiles = data_clean.sample(n=8, random_state=19)[\"standard_smiles\"].tolist()\n",
    "mols = [dm.to_mol(s) for s in smiles]\n",
    "dm.viz.to_image(mols, legends=smiles, mol_size=(200, 200))"
   ]
  },
  {
   "cell_type": "markdown",
   "metadata": {},
   "source": [
    "### Serialize the cleaned dataset"
   ]
  },
  {
   "cell_type": "code",
   "execution_count": null,
   "metadata": {},
   "outputs": [],
   "source": [
    "# Save as CSV\n",
    "# data_clean.to_csv(\"/my/path\")\n",
    "\n",
    "# Or save as an SDF\n",
    "# dm.to_sdf(data_clean, \"/my/path\", smiles_column=\"standard_smiles\")"
   ]
  },
  {
   "cell_type": "code",
   "execution_count": null,
   "metadata": {},
   "outputs": [],
   "source": []
  }
 ],
 "metadata": {
  "interpreter": {
   "hash": "144f8f14f0771df5238b4f97759b46840a71db5ab43af4759f06ce6783a7b2e5"
  },
  "kernelspec": {
   "display_name": "Python [conda env:datamol]",
   "language": "python",
   "name": "python3"
  },
  "language_info": {
   "codemirror_mode": {
    "name": "ipython",
    "version": 3
   },
   "file_extension": ".py",
   "mimetype": "text/x-python",
   "name": "python",
   "nbconvert_exporter": "python",
   "pygments_lexer": "ipython3",
   "version": "3.9.6"
  },
  "widgets": {
   "application/vnd.jupyter.widget-state+json": {
    "state": {},
    "version_major": 2,
    "version_minor": 0
   }
  }
 },
 "nbformat": 4,
 "nbformat_minor": 4
}
