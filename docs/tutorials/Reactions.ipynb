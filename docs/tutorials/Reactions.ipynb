{
 "cells": [
  {
   "cell_type": "markdown",
   "id": "2083cca7",
   "metadata": {},
   "source": [
    "# Chemical Reactions\n",
    "\n",
    "Status: In dev\n",
    "\n",
    "\n",
    "## Tutorial\n",
    "\n",
    "This tutorial will show you how to: \n",
    "\n",
    "1. Define reactions from SMARTS or Blocks\n",
    "2. Basic reactions examples\n",
    "3. Fragment replacement examples\n",
    " \n",
    "## Datamol example"
   ]
  },
  {
   "cell_type": "code",
   "execution_count": 1,
   "id": "312a5ca5",
   "metadata": {},
   "outputs": [],
   "source": [
    "import datamol as dm\n",
    "from datamol.reactions import rxn_from_block, rxn_from_smarts"
   ]
  },
  {
   "cell_type": "code",
   "execution_count": 2,
   "id": "1becc454-13b1-4438-8a8a-ee7dbf7c1faa",
   "metadata": {},
   "outputs": [
    {
     "data": {
      "image/png": "[encoded data removed]",
      "text/plain": [
       "<rdkit.Chem.rdChemReactions.ChemicalReaction at 0x7f8140427460>"
      ]
     },
     "execution_count": 2,
     "metadata": {},
     "output_type": "execute_result"
    }
   ],
   "source": [
    "# Define a reaction from rxn block finle\n",
    "rxn = rxn_from_block(\"data/ReactionBlock.rxn\", sanitize=True)\n",
    "rxn"
   ]
  },
  {
   "cell_type": "code",
   "execution_count": 3,
   "id": "97970d74-d095-42df-a903-961ba96ccd74",
   "metadata": {},
   "outputs": [
    {
     "name": "stderr",
     "output_type": "stream",
     "text": [
      "2022-10-13 20:27:07.061 | INFO     | datamol.reactions._reactions:is_reaction_ok:66 - Number of warnings:0\n",
      "2022-10-13 20:27:07.062 | INFO     | datamol.reactions._reactions:is_reaction_ok:67 - Number of preprocessing errors: 0\n",
      "2022-10-13 20:27:07.063 | INFO     | datamol.reactions._reactions:is_reaction_ok:68 - Number of reactants in reaction: 2\n",
      "2022-10-13 20:27:07.064 | INFO     | datamol.reactions._reactions:is_reaction_ok:69 - Number of products in reaction: 1\n",
      "2022-10-13 20:27:07.064 | INFO     | datamol.reactions._reactions:is_reaction_ok:70 - Preprocess labels added:((), ())\n"
     ]
    },
    {
     "data": {
      "text/plain": [
       "True"
      ]
     },
     "execution_count": 3,
     "metadata": {},
     "output_type": "execute_result"
    }
   ],
   "source": [
    "dm.reactions.is_reaction_ok(rxn)"
   ]
  },
  {
   "cell_type": "code",
   "execution_count": 4,
   "id": "dce9f170-2a12-4cc5-ba59-f42ecfb5ca1d",
   "metadata": {},
   "outputs": [
    {
     "data": {
      "image/svg+xml": [
       "<svg xmlns=\"http://www.w3.org/2000/svg\" xmlns:rdkit=\"http://www.rdkit.org/xml\" xmlns:xlink=\"http://www.w3.org/1999/xlink\" version=\"1.1\" baseProfile=\"full\" xml:space=\"preserve\" width=\"300px\" height=\"300px\" viewBox=\"0 0 300 300\">\n",
       "<!-- END OF HEADER -->\n",
       "<rect style=\"opacity:1.0;fill:#FFFFFF;stroke:none\" width=\"300.0\" height=\"300.0\" x=\"0.0\" y=\"0.0\"> </rect>\n",
       "<path class=\"bond-0 atom-0 atom-1\" d=\"M 13.6,139.0 L 52.0,116.9\" style=\"fill:none;fill-rule:evenodd;stroke:#000000;stroke-width:2.0px;stroke-linecap:butt;stroke-linejoin:miter;stroke-opacity:1\"/>\n",
       "<path class=\"bond-0 atom-0 atom-1\" d=\"M 52.0,116.9 L 90.3,94.7\" style=\"fill:none;fill-rule:evenodd;stroke:#0000FF;stroke-width:2.0px;stroke-linecap:butt;stroke-linejoin:miter;stroke-opacity:1\"/>\n",
       "<path class=\"bond-1 atom-1 atom-2\" d=\"M 118.7,94.7 L 157.1,116.9\" style=\"fill:none;fill-rule:evenodd;stroke:#0000FF;stroke-width:2.0px;stroke-linecap:butt;stroke-linejoin:miter;stroke-opacity:1\"/>\n",
       "<path class=\"bond-1 atom-1 atom-2\" d=\"M 157.1,116.9 L 195.5,139.0\" style=\"fill:none;fill-rule:evenodd;stroke:#000000;stroke-width:2.0px;stroke-linecap:butt;stroke-linejoin:miter;stroke-opacity:1\"/>\n",
       "<path class=\"bond-2 atom-2 atom-3\" d=\"M 195.5,139.0 L 286.4,86.5\" style=\"fill:none;fill-rule:evenodd;stroke:#000000;stroke-width:2.0px;stroke-linecap:butt;stroke-linejoin:miter;stroke-opacity:1\"/>\n",
       "<path class=\"bond-3 atom-2 atom-4\" d=\"M 206.0,139.0 L 206.0,182.6\" style=\"fill:none;fill-rule:evenodd;stroke:#000000;stroke-width:2.0px;stroke-linecap:butt;stroke-linejoin:miter;stroke-opacity:1\"/>\n",
       "<path class=\"bond-3 atom-2 atom-4\" d=\"M 206.0,182.6 L 206.0,226.2\" style=\"fill:none;fill-rule:evenodd;stroke:#FF0000;stroke-width:2.0px;stroke-linecap:butt;stroke-linejoin:miter;stroke-opacity:1\"/>\n",
       "<path class=\"bond-3 atom-2 atom-4\" d=\"M 185.0,139.0 L 185.0,182.6\" style=\"fill:none;fill-rule:evenodd;stroke:#000000;stroke-width:2.0px;stroke-linecap:butt;stroke-linejoin:miter;stroke-opacity:1\"/>\n",
       "<path class=\"bond-3 atom-2 atom-4\" d=\"M 185.0,182.6 L 185.0,226.2\" style=\"fill:none;fill-rule:evenodd;stroke:#FF0000;stroke-width:2.0px;stroke-linecap:butt;stroke-linejoin:miter;stroke-opacity:1\"/>\n",
       "<path class=\"atom-1\" d=\"M 98.3 72.4 L 107.6 87.4 Q 108.5 88.9, 110.0 91.5 Q 111.4 94.2, 111.5 94.4 L 111.5 72.4 L 115.3 72.4 L 115.3 100.7 L 111.4 100.7 L 101.4 84.3 Q 100.3 82.4, 99.0 80.2 Q 97.8 78.0, 97.5 77.3 L 97.5 100.7 L 93.8 100.7 L 93.8 72.4 L 98.3 72.4 \" fill=\"#0000FF\"/>\n",
       "<path class=\"atom-1\" d=\"M 93.5 41.2 L 97.3 41.2 L 97.3 53.3 L 111.8 53.3 L 111.8 41.2 L 115.6 41.2 L 115.6 69.6 L 111.8 69.6 L 111.8 56.5 L 97.3 56.5 L 97.3 69.6 L 93.5 69.6 L 93.5 41.2 \" fill=\"#0000FF\"/>\n",
       "<path class=\"atom-4\" d=\"M 182.5 244.1 Q 182.5 237.3, 185.8 233.5 Q 189.2 229.7, 195.5 229.7 Q 201.7 229.7, 205.1 233.5 Q 208.5 237.3, 208.5 244.1 Q 208.5 251.0, 205.1 254.9 Q 201.7 258.8, 195.5 258.8 Q 189.2 258.8, 185.8 254.9 Q 182.5 251.0, 182.5 244.1 M 195.5 255.6 Q 199.8 255.6, 202.1 252.7 Q 204.5 249.8, 204.5 244.1 Q 204.5 238.5, 202.1 235.7 Q 199.8 232.9, 195.5 232.9 Q 191.1 232.9, 188.8 235.7 Q 186.5 238.5, 186.5 244.1 Q 186.5 249.8, 188.8 252.7 Q 191.1 255.6, 195.5 255.6 \" fill=\"#FF0000\"/>\n",
       "</svg>"
      ],
      "text/plain": [
       "<IPython.core.display.SVG object>"
      ]
     },
     "execution_count": 4,
     "metadata": {},
     "output_type": "execute_result"
    }
   ],
   "source": [
    "# Apply reaction and snitize the products\n",
    "prod_mols = dm.reactions.apply_reaction(rxn=rxn, reactants=(dm.to_mol('CC(=O)O'), dm.to_mol('NC')),\n",
    "                                       as_smiles=False, sanitize=True, single_output=False)\n",
    "dm.to_image(prod_mols)"
   ]
  },
  {
   "cell_type": "code",
   "execution_count": 5,
   "id": "1ff33ef7",
   "metadata": {},
   "outputs": [
    {
     "data": {
      "image/png": "[encoded data removed]",
      "text/plain": [
       "<rdkit.Chem.rdchem.Mol at 0x7f814049fb80>"
      ]
     },
     "execution_count": 5,
     "metadata": {},
     "output_type": "execute_result"
    }
   ],
   "source": [
    "# Return a single product in SMILES and keep the open attachment points\n",
    "prod_smi_att = dm.reactions.apply_reaction(rxn=rxn, reactants=(dm.to_mol('[2*]CC(=O)O'), dm.to_mol('NC[1*]')),\n",
    "                                       as_smiles=False, sanitize=True, single_output=True, rm_attach=False)\n",
    "prod_smi_att"
   ]
  },
  {
   "cell_type": "code",
   "execution_count": 6,
   "id": "2d0907f0-6324-42b8-8c12-6707a5564fb4",
   "metadata": {},
   "outputs": [
    {
     "data": {
      "image/png": "[encoded data removed]",
      "text/plain": [
       "<rdkit.Chem.rdchem.Mol at 0x7f81404b8100>"
      ]
     },
     "execution_count": 6,
     "metadata": {},
     "output_type": "execute_result"
    }
   ],
   "source": [
    "# Return a single product in SMILES without any open attachment points\n",
    "prod_smi = dm.reactions.apply_reaction(rxn=rxn, reactants=(dm.to_mol('[2*]CC(=O)O'), dm.to_mol('NC[1*]')),\n",
    "                                       as_smiles=False, sanitize=True, single_output=True, rm_attach=True)\n",
    "prod_smi"
   ]
  },
  {
   "cell_type": "code",
   "execution_count": 7,
   "id": "4a9e91eb-2965-4d28-9784-cfe5367efa9f",
   "metadata": {},
   "outputs": [
    {
     "data": {
      "image/svg+xml": [
       "<svg xmlns=\"http://www.w3.org/2000/svg\" xmlns:rdkit=\"http://www.rdkit.org/xml\" xmlns:xlink=\"http://www.w3.org/1999/xlink\" version=\"1.1\" baseProfile=\"full\" xml:space=\"preserve\" width=\"900px\" height=\"300px\" viewBox=\"0 0 900 300\">\n",
       "<!-- END OF HEADER -->\n",
       "<rect style=\"opacity:1.0;fill:#FFFFFF;stroke:none\" width=\"900.0\" height=\"300.0\" x=\"0.0\" y=\"0.0\"> </rect>\n",
       "<path class=\"bond-0 atom-0 atom-1\" d=\"M 44.7,189.2 L 48.1,171.3\" style=\"fill:none;fill-rule:evenodd;stroke:#FF0000;stroke-width:2.0px;stroke-linecap:butt;stroke-linejoin:miter;stroke-opacity:1\"/>\n",
       "<path class=\"bond-0 atom-0 atom-1\" d=\"M 48.1,171.3 L 51.5,153.3\" style=\"fill:none;fill-rule:evenodd;stroke:#000000;stroke-width:2.0px;stroke-linecap:butt;stroke-linejoin:miter;stroke-opacity:1\"/>\n",
       "<path class=\"bond-0 atom-0 atom-1\" d=\"M 53.4,190.9 L 56.8,172.9\" style=\"fill:none;fill-rule:evenodd;stroke:#FF0000;stroke-width:2.0px;stroke-linecap:butt;stroke-linejoin:miter;stroke-opacity:1\"/>\n",
       "<path class=\"bond-0 atom-0 atom-1\" d=\"M 56.8,172.9 L 60.3,155.0\" style=\"fill:none;fill-rule:evenodd;stroke:#000000;stroke-width:2.0px;stroke-linecap:butt;stroke-linejoin:miter;stroke-opacity:1\"/>\n",
       "<path class=\"bond-1 atom-1 atom-2\" d=\"M 55.9,154.1 L 73.8,147.9\" style=\"fill:none;fill-rule:evenodd;stroke:#000000;stroke-width:2.0px;stroke-linecap:butt;stroke-linejoin:miter;stroke-opacity:1\"/>\n",
       "<path class=\"bond-1 atom-1 atom-2\" d=\"M 73.8,147.9 L 91.7,141.7\" style=\"fill:none;fill-rule:evenodd;stroke:#0000FF;stroke-width:2.0px;stroke-linecap:butt;stroke-linejoin:miter;stroke-opacity:1\"/>\n",
       "<path class=\"bond-2 atom-2 atom-3\" d=\"M 104.2,144.9 L 118.0,156.7\" style=\"fill:none;fill-rule:evenodd;stroke:#0000FF;stroke-width:2.0px;stroke-linecap:butt;stroke-linejoin:miter;stroke-opacity:1\"/>\n",
       "<path class=\"bond-2 atom-2 atom-3\" d=\"M 118.0,156.7 L 131.7,168.6\" style=\"fill:none;fill-rule:evenodd;stroke:#000000;stroke-width:2.0px;stroke-linecap:butt;stroke-linejoin:miter;stroke-opacity:1\"/>\n",
       "<path class=\"bond-3 atom-3 atom-4\" d=\"M 131.7,168.6 L 173.8,153.9\" style=\"fill:none;fill-rule:evenodd;stroke:#000000;stroke-width:2.0px;stroke-linecap:butt;stroke-linejoin:miter;stroke-opacity:1\"/>\n",
       "<path class=\"bond-4 atom-4 atom-5\" d=\"M 173.8,153.9 L 182.2,110.2\" style=\"fill:none;fill-rule:evenodd;stroke:#000000;stroke-width:2.0px;stroke-linecap:butt;stroke-linejoin:miter;stroke-opacity:1\"/>\n",
       "<path class=\"bond-4 atom-4 atom-5\" d=\"M 183.8,149.0 L 189.7,118.4\" style=\"fill:none;fill-rule:evenodd;stroke:#000000;stroke-width:2.0px;stroke-linecap:butt;stroke-linejoin:miter;stroke-opacity:1\"/>\n",
       "<path class=\"bond-5 atom-5 atom-6\" d=\"M 182.2,110.2 L 224.2,95.5\" style=\"fill:none;fill-rule:evenodd;stroke:#000000;stroke-width:2.0px;stroke-linecap:butt;stroke-linejoin:miter;stroke-opacity:1\"/>\n",
       "<path class=\"bond-6 atom-6 atom-7\" d=\"M 224.2,95.5 L 238.0,107.4\" style=\"fill:none;fill-rule:evenodd;stroke:#000000;stroke-width:2.0px;stroke-linecap:butt;stroke-linejoin:miter;stroke-opacity:1\"/>\n",
       "<path class=\"bond-6 atom-6 atom-7\" d=\"M 238.0,107.4 L 251.7,119.2\" style=\"fill:none;fill-rule:evenodd;stroke:#0000FF;stroke-width:2.0px;stroke-linecap:butt;stroke-linejoin:miter;stroke-opacity:1\"/>\n",
       "<path class=\"bond-6 atom-6 atom-7\" d=\"M 222.5,105.8 L 232.2,114.1\" style=\"fill:none;fill-rule:evenodd;stroke:#000000;stroke-width:2.0px;stroke-linecap:butt;stroke-linejoin:miter;stroke-opacity:1\"/>\n",
       "<path class=\"bond-6 atom-6 atom-7\" d=\"M 232.2,114.1 L 241.8,122.4\" style=\"fill:none;fill-rule:evenodd;stroke:#0000FF;stroke-width:2.0px;stroke-linecap:butt;stroke-linejoin:miter;stroke-opacity:1\"/>\n",
       "<path class=\"bond-7 atom-7 atom-8\" d=\"M 256.5,132.4 L 253.1,150.4\" style=\"fill:none;fill-rule:evenodd;stroke:#0000FF;stroke-width:2.0px;stroke-linecap:butt;stroke-linejoin:miter;stroke-opacity:1\"/>\n",
       "<path class=\"bond-7 atom-7 atom-8\" d=\"M 253.1,150.4 L 249.6,168.4\" style=\"fill:none;fill-rule:evenodd;stroke:#000000;stroke-width:2.0px;stroke-linecap:butt;stroke-linejoin:miter;stroke-opacity:1\"/>\n",
       "<path class=\"bond-8 atom-8 atom-9\" d=\"M 249.6,168.4 L 262.8,179.8\" style=\"fill:none;fill-rule:evenodd;stroke:#000000;stroke-width:2.0px;stroke-linecap:butt;stroke-linejoin:miter;stroke-opacity:1\"/>\n",
       "<path class=\"bond-8 atom-8 atom-9\" d=\"M 262.8,179.8 L 276.0,191.2\" style=\"fill:none;fill-rule:evenodd;stroke:#191919;stroke-width:2.0px;stroke-linecap:butt;stroke-linejoin:miter;stroke-opacity:1\"/>\n",
       "<path class=\"bond-9 atom-8 atom-10\" d=\"M 249.6,168.4 L 207.5,183.1\" style=\"fill:none;fill-rule:evenodd;stroke:#000000;stroke-width:2.0px;stroke-linecap:butt;stroke-linejoin:miter;stroke-opacity:1\"/>\n",
       "<path class=\"bond-9 atom-8 atom-10\" d=\"M 240.4,162.2 L 210.9,172.4\" style=\"fill:none;fill-rule:evenodd;stroke:#000000;stroke-width:2.0px;stroke-linecap:butt;stroke-linejoin:miter;stroke-opacity:1\"/>\n",
       "<path class=\"bond-10 atom-1 atom-11\" d=\"M 55.9,154.1 L 39.5,140.0\" style=\"fill:none;fill-rule:evenodd;stroke:#000000;stroke-width:2.0px;stroke-linecap:butt;stroke-linejoin:miter;stroke-opacity:1\"/>\n",
       "<path class=\"bond-10 atom-1 atom-11\" d=\"M 39.5,140.0 L 23.1,125.8\" style=\"fill:none;fill-rule:evenodd;stroke:#191919;stroke-width:2.0px;stroke-linecap:butt;stroke-linejoin:miter;stroke-opacity:1\"/>\n",
       "<path class=\"bond-11 atom-10 atom-4\" d=\"M 207.5,183.1 L 173.8,153.9\" style=\"fill:none;fill-rule:evenodd;stroke:#000000;stroke-width:2.0px;stroke-linecap:butt;stroke-linejoin:miter;stroke-opacity:1\"/>\n",
       "<path class=\"atom-0\" d=\"M 41.7 198.0 Q 41.7 194.9, 43.2 193.2 Q 44.7 191.5, 47.5 191.5 Q 50.3 191.5, 51.8 193.2 Q 53.3 194.9, 53.3 198.0 Q 53.3 201.0, 51.8 202.8 Q 50.3 204.5, 47.5 204.5 Q 44.7 204.5, 43.2 202.8 Q 41.7 201.0, 41.7 198.0 M 47.5 203.1 Q 49.5 203.1, 50.5 201.8 Q 51.5 200.5, 51.5 198.0 Q 51.5 195.5, 50.5 194.2 Q 49.5 193.0, 47.5 193.0 Q 45.6 193.0, 44.6 194.2 Q 43.5 195.5, 43.5 198.0 Q 43.5 200.5, 44.6 201.8 Q 45.6 203.1, 47.5 203.1 \" fill=\"#FF0000\"/>\n",
       "<path class=\"atom-2\" d=\"M 95.2 133.2 L 99.3 139.9 Q 99.7 140.5, 100.4 141.7 Q 101.0 142.9, 101.1 143.0 L 101.1 133.2 L 102.8 133.2 L 102.8 145.8 L 101.0 145.8 L 96.6 138.5 Q 96.1 137.6, 95.5 136.6 Q 95.0 135.7, 94.8 135.4 L 94.8 145.8 L 93.2 145.8 L 93.2 133.2 L 95.2 133.2 \" fill=\"#0000FF\"/>\n",
       "<path class=\"atom-2\" d=\"M 93.0 119.3 L 94.7 119.3 L 94.7 124.6 L 101.2 124.6 L 101.2 119.3 L 102.9 119.3 L 102.9 131.9 L 101.2 131.9 L 101.2 126.1 L 94.7 126.1 L 94.7 131.9 L 93.0 131.9 L 93.0 119.3 \" fill=\"#0000FF\"/>\n",
       "<path class=\"atom-7\" d=\"M 255.2 118.3 L 259.3 125.0 Q 259.7 125.7, 260.4 126.9 Q 261.1 128.0, 261.1 128.1 L 261.1 118.3 L 262.8 118.3 L 262.8 130.9 L 261.0 130.9 L 256.6 123.6 Q 256.1 122.8, 255.5 121.8 Q 255.0 120.8, 254.8 120.5 L 254.8 130.9 L 253.2 130.9 L 253.2 118.3 L 255.2 118.3 \" fill=\"#0000FF\"/>\n",
       "<path class=\"atom-9\" d=\"M 274.1 194.3 Q 274.4 193.5, 275.1 193.1 Q 275.9 192.6, 276.9 192.6 Q 278.1 192.6, 278.8 193.3 Q 279.5 194.0, 279.5 195.2 Q 279.5 196.4, 278.6 197.6 Q 277.7 198.8, 275.8 200.1 L 279.7 200.1 L 279.7 201.1 L 274.1 201.1 L 274.1 200.3 Q 275.6 199.2, 276.5 198.3 Q 277.5 197.5, 277.9 196.8 Q 278.4 196.0, 278.4 195.3 Q 278.4 194.5, 278.0 194.0 Q 277.6 193.6, 276.9 193.6 Q 276.2 193.6, 275.8 193.8 Q 275.3 194.1, 275.0 194.7 L 274.1 194.3 \" fill=\"#191919\"/>\n",
       "<path class=\"atom-9\" d=\"M 281.0 196.1 L 282.9 194.2 L 280.4 193.7 L 280.8 192.5 L 283.0 193.6 L 282.7 191.1 L 284.0 191.1 L 283.7 193.6 L 286.0 192.5 L 286.4 193.7 L 283.9 194.2 L 285.7 196.1 L 284.6 196.9 L 283.3 194.5 L 282.1 196.9 L 281.0 196.1 \" fill=\"#191919\"/>\n",
       "<path class=\"atom-11\" d=\"M 14.1 127.6 L 15.9 127.6 L 15.9 121.4 L 13.9 122.0 L 13.6 121.3 L 16.2 120.2 L 17.0 120.3 L 17.0 127.6 L 18.7 127.6 L 18.7 128.5 L 14.1 128.5 L 14.1 127.6 \" fill=\"#191919\"/>\n",
       "<path class=\"atom-11\" d=\"M 19.8 123.6 L 21.6 121.7 L 19.2 121.2 L 19.5 120.0 L 21.8 121.1 L 21.5 118.6 L 22.8 118.6 L 22.4 121.1 L 24.7 120.0 L 25.1 121.2 L 22.6 121.7 L 24.4 123.6 L 23.3 124.4 L 22.1 122.0 L 20.8 124.4 L 19.8 123.6 \" fill=\"#191919\"/>\n",
       "<path class=\"bond-0 atom-0 atom-1\" d=\"M 387.4,139.3 L 399.1,151.0\" style=\"fill:none;fill-rule:evenodd;stroke:#191919;stroke-width:2.0px;stroke-linecap:butt;stroke-linejoin:miter;stroke-opacity:1\"/>\n",
       "<path class=\"bond-0 atom-0 atom-1\" d=\"M 399.1,151.0 L 410.9,162.7\" style=\"fill:none;fill-rule:evenodd;stroke:#FF0000;stroke-width:2.0px;stroke-linecap:butt;stroke-linejoin:miter;stroke-opacity:1\"/>\n",
       "<path class=\"bond-1 atom-1 atom-2\" d=\"M 425.4,167.9 L 443.3,163.1\" style=\"fill:none;fill-rule:evenodd;stroke:#FF0000;stroke-width:2.0px;stroke-linecap:butt;stroke-linejoin:miter;stroke-opacity:1\"/>\n",
       "<path class=\"bond-1 atom-1 atom-2\" d=\"M 443.3,163.1 L 461.1,158.2\" style=\"fill:none;fill-rule:evenodd;stroke:#000000;stroke-width:2.0px;stroke-linecap:butt;stroke-linejoin:miter;stroke-opacity:1\"/>\n",
       "<path class=\"bond-2 atom-2 atom-3\" d=\"M 461.1,158.2 L 483.3,119.6\" style=\"fill:none;fill-rule:evenodd;stroke:#000000;stroke-width:2.0px;stroke-linecap:butt;stroke-linejoin:miter;stroke-opacity:1\"/>\n",
       "<path class=\"bond-3 atom-3 atom-4\" d=\"M 483.3,119.6 L 522.0,141.8\" style=\"fill:none;fill-rule:evenodd;stroke:#000000;stroke-width:2.0px;stroke-linecap:butt;stroke-linejoin:miter;stroke-opacity:1\"/>\n",
       "<path class=\"bond-4 atom-4 atom-5\" d=\"M 522.0,141.8 L 499.8,180.4\" style=\"fill:none;fill-rule:evenodd;stroke:#000000;stroke-width:2.0px;stroke-linecap:butt;stroke-linejoin:miter;stroke-opacity:1\"/>\n",
       "<path class=\"bond-5 atom-5 atom-2\" d=\"M 499.8,180.4 L 461.1,158.2\" style=\"fill:none;fill-rule:evenodd;stroke:#000000;stroke-width:2.0px;stroke-linecap:butt;stroke-linejoin:miter;stroke-opacity:1\"/>\n",
       "<path class=\"atom-0\" d=\"M 378.5 141.0 L 380.3 141.0 L 380.3 134.8 L 378.3 135.4 L 378.0 134.8 L 380.6 133.6 L 381.4 133.8 L 381.4 141.0 L 383.0 141.0 L 383.0 142.0 L 378.5 142.0 L 378.5 141.0 \" fill=\"#191919\"/>\n",
       "<path class=\"atom-0\" d=\"M 384.1 137.0 L 386.0 135.2 L 383.5 134.7 L 383.9 133.4 L 386.2 134.5 L 385.9 132.1 L 387.2 132.0 L 386.8 134.5 L 389.1 133.4 L 389.5 134.7 L 387.0 135.1 L 388.8 137.0 L 387.7 137.8 L 386.5 135.5 L 385.2 137.8 L 384.1 137.0 \" fill=\"#191919\"/>\n",
       "<path class=\"atom-1\" d=\"M 412.3 169.9 Q 412.3 166.9, 413.8 165.2 Q 415.3 163.5, 418.1 163.5 Q 420.9 163.5, 422.4 165.2 Q 423.9 166.9, 423.9 169.9 Q 423.9 173.0, 422.4 174.7 Q 420.9 176.5, 418.1 176.5 Q 415.3 176.5, 413.8 174.7 Q 412.3 173.0, 412.3 169.9 M 418.1 175.0 Q 420.0 175.0, 421.1 173.8 Q 422.1 172.5, 422.1 169.9 Q 422.1 167.4, 421.1 166.2 Q 420.0 164.9, 418.1 164.9 Q 416.2 164.9, 415.1 166.2 Q 414.1 167.4, 414.1 169.9 Q 414.1 172.5, 415.1 173.8 Q 416.2 175.0, 418.1 175.0 \" fill=\"#FF0000\"/>\n",
       "<path class=\"bond-0 atom-0 atom-1\" d=\"M 794.3,150.0 L 780.5,150.0\" style=\"fill:none;fill-rule:evenodd;stroke:#191919;stroke-width:2.0px;stroke-linecap:butt;stroke-linejoin:miter;stroke-opacity:1\"/>\n",
       "<path class=\"bond-0 atom-0 atom-1\" d=\"M 780.5,150.0 L 766.8,150.0\" style=\"fill:none;fill-rule:evenodd;stroke:#0000FF;stroke-width:2.0px;stroke-linecap:butt;stroke-linejoin:miter;stroke-opacity:1\"/>\n",
       "<path class=\"bond-1 atom-1 atom-2\" d=\"M 754.9,142.2 L 744.6,128.1\" style=\"fill:none;fill-rule:evenodd;stroke:#0000FF;stroke-width:2.0px;stroke-linecap:butt;stroke-linejoin:miter;stroke-opacity:1\"/>\n",
       "<path class=\"bond-1 atom-1 atom-2\" d=\"M 744.6,128.1 L 734.3,113.9\" style=\"fill:none;fill-rule:evenodd;stroke:#000000;stroke-width:2.0px;stroke-linecap:butt;stroke-linejoin:miter;stroke-opacity:1\"/>\n",
       "<path class=\"bond-2 atom-2 atom-3\" d=\"M 734.3,113.9 L 691.9,127.7\" style=\"fill:none;fill-rule:evenodd;stroke:#000000;stroke-width:2.0px;stroke-linecap:butt;stroke-linejoin:miter;stroke-opacity:1\"/>\n",
       "<path class=\"bond-3 atom-3 atom-4\" d=\"M 691.9,127.7 L 691.9,172.3\" style=\"fill:none;fill-rule:evenodd;stroke:#000000;stroke-width:2.0px;stroke-linecap:butt;stroke-linejoin:miter;stroke-opacity:1\"/>\n",
       "<path class=\"bond-4 atom-4 atom-5\" d=\"M 691.9,172.3 L 734.3,186.1\" style=\"fill:none;fill-rule:evenodd;stroke:#000000;stroke-width:2.0px;stroke-linecap:butt;stroke-linejoin:miter;stroke-opacity:1\"/>\n",
       "<path class=\"bond-5 atom-5 atom-1\" d=\"M 734.3,186.1 L 744.6,171.9\" style=\"fill:none;fill-rule:evenodd;stroke:#000000;stroke-width:2.0px;stroke-linecap:butt;stroke-linejoin:miter;stroke-opacity:1\"/>\n",
       "<path class=\"bond-5 atom-5 atom-1\" d=\"M 744.6,171.9 L 754.9,157.8\" style=\"fill:none;fill-rule:evenodd;stroke:#0000FF;stroke-width:2.0px;stroke-linecap:butt;stroke-linejoin:miter;stroke-opacity:1\"/>\n",
       "<path class=\"atom-0\" d=\"M 795.8 146.8 Q 796.1 146.0, 796.8 145.6 Q 797.6 145.1, 798.6 145.1 Q 799.8 145.1, 800.5 145.8 Q 801.3 146.5, 801.3 147.7 Q 801.3 148.9, 800.3 150.1 Q 799.4 151.2, 797.5 152.6 L 801.4 152.6 L 801.4 153.5 L 795.8 153.5 L 795.8 152.7 Q 797.3 151.6, 798.3 150.8 Q 799.2 150.0, 799.6 149.2 Q 800.1 148.5, 800.1 147.7 Q 800.1 146.9, 799.7 146.5 Q 799.3 146.0, 798.6 146.0 Q 797.9 146.0, 797.5 146.3 Q 797.0 146.6, 796.7 147.2 L 795.8 146.8 \" fill=\"#191919\"/>\n",
       "<path class=\"atom-0\" d=\"M 802.7 148.6 L 804.6 146.7 L 802.1 146.2 L 802.5 144.9 L 804.7 146.1 L 804.4 143.6 L 805.8 143.6 L 805.4 146.1 L 807.7 145.0 L 808.1 146.2 L 805.6 146.7 L 807.4 148.6 L 806.3 149.4 L 805.0 147.0 L 803.8 149.4 L 802.7 148.6 \" fill=\"#191919\"/>\n",
       "<path class=\"atom-1\" d=\"M 757.7 143.7 L 761.9 150.4 Q 762.3 151.0, 762.9 152.2 Q 763.6 153.4, 763.6 153.5 L 763.6 143.7 L 765.3 143.7 L 765.3 156.3 L 763.6 156.3 L 759.1 149.0 Q 758.6 148.1, 758.1 147.2 Q 757.5 146.2, 757.4 145.9 L 757.4 156.3 L 755.7 156.3 L 755.7 143.7 L 757.7 143.7 \" fill=\"#0000FF\"/>\n",
       "</svg>"
      ],
      "text/plain": [
       "<IPython.core.display.SVG object>"
      ]
     },
     "execution_count": 7,
     "metadata": {},
     "output_type": "execute_result"
    }
   ],
   "source": [
    "\n",
    "scaffold = dm.to_mol(\"O=C(NCc1ccnc([2*])c1)[1*]\")\n",
    "frag1 = dm.to_mol(\"[1*]OC1CCC1\")\n",
    "frag2 = dm.to_mol(\"[2*]N1CCCC1\")\n",
    "dm.to_image([scaffold, frag1, frag2])"
   ]
  },
  {
   "cell_type": "code",
   "execution_count": 8,
   "id": "cc470721-545c-4dbf-9499-ee9ac2feffb2",
   "metadata": {},
   "outputs": [
    {
     "data": {
      "image/svg+xml": [
       "<svg xmlns=\"http://www.w3.org/2000/svg\" xmlns:rdkit=\"http://www.rdkit.org/xml\" xmlns:xlink=\"http://www.w3.org/1999/xlink\" version=\"1.1\" baseProfile=\"full\" xml:space=\"preserve\" width=\"300px\" height=\"300px\" viewBox=\"0 0 300 300\">\n",
       "<!-- END OF HEADER -->\n",
       "<rect style=\"opacity:1.0;fill:#FFFFFF;stroke:none\" width=\"300.0\" height=\"300.0\" x=\"0.0\" y=\"0.0\"> </rect>\n",
       "<path class=\"bond-0 atom-0 atom-1\" d=\"M 265.6,195.0 L 229.3,196.4\" style=\"fill:none;fill-rule:evenodd;stroke:#000000;stroke-width:2.0px;stroke-linecap:butt;stroke-linejoin:miter;stroke-opacity:1\"/>\n",
       "<path class=\"bond-0 atom-0 atom-1\" d=\"M 259.8,187.9 L 234.5,188.9\" style=\"fill:none;fill-rule:evenodd;stroke:#000000;stroke-width:2.0px;stroke-linecap:butt;stroke-linejoin:miter;stroke-opacity:1\"/>\n",
       "<path class=\"bond-1 atom-1 atom-2\" d=\"M 229.3,196.4 L 209.9,165.7\" style=\"fill:none;fill-rule:evenodd;stroke:#000000;stroke-width:2.0px;stroke-linecap:butt;stroke-linejoin:miter;stroke-opacity:1\"/>\n",
       "<path class=\"bond-2 atom-2 atom-3\" d=\"M 209.9,165.7 L 173.7,167.1\" style=\"fill:none;fill-rule:evenodd;stroke:#000000;stroke-width:2.0px;stroke-linecap:butt;stroke-linejoin:miter;stroke-opacity:1\"/>\n",
       "<path class=\"bond-3 atom-3 atom-4\" d=\"M 173.7,167.1 L 166.0,155.0\" style=\"fill:none;fill-rule:evenodd;stroke:#000000;stroke-width:2.0px;stroke-linecap:butt;stroke-linejoin:miter;stroke-opacity:1\"/>\n",
       "<path class=\"bond-3 atom-3 atom-4\" d=\"M 166.0,155.0 L 158.3,142.8\" style=\"fill:none;fill-rule:evenodd;stroke:#0000FF;stroke-width:2.0px;stroke-linecap:butt;stroke-linejoin:miter;stroke-opacity:1\"/>\n",
       "<path class=\"bond-4 atom-4 atom-5\" d=\"M 149.2,136.6 L 133.7,137.2\" style=\"fill:none;fill-rule:evenodd;stroke:#0000FF;stroke-width:2.0px;stroke-linecap:butt;stroke-linejoin:miter;stroke-opacity:1\"/>\n",
       "<path class=\"bond-4 atom-4 atom-5\" d=\"M 133.7,137.2 L 118.1,137.9\" style=\"fill:none;fill-rule:evenodd;stroke:#000000;stroke-width:2.0px;stroke-linecap:butt;stroke-linejoin:miter;stroke-opacity:1\"/>\n",
       "<path class=\"bond-5 atom-5 atom-6\" d=\"M 115.0,139.8 L 107.4,127.7\" style=\"fill:none;fill-rule:evenodd;stroke:#000000;stroke-width:2.0px;stroke-linecap:butt;stroke-linejoin:miter;stroke-opacity:1\"/>\n",
       "<path class=\"bond-5 atom-5 atom-6\" d=\"M 107.4,127.7 L 99.8,115.7\" style=\"fill:none;fill-rule:evenodd;stroke:#FF0000;stroke-width:2.0px;stroke-linecap:butt;stroke-linejoin:miter;stroke-opacity:1\"/>\n",
       "<path class=\"bond-5 atom-5 atom-6\" d=\"M 121.1,135.9 L 113.5,123.9\" style=\"fill:none;fill-rule:evenodd;stroke:#000000;stroke-width:2.0px;stroke-linecap:butt;stroke-linejoin:miter;stroke-opacity:1\"/>\n",
       "<path class=\"bond-5 atom-5 atom-6\" d=\"M 113.5,123.9 L 105.9,111.8\" style=\"fill:none;fill-rule:evenodd;stroke:#FF0000;stroke-width:2.0px;stroke-linecap:butt;stroke-linejoin:miter;stroke-opacity:1\"/>\n",
       "<path class=\"bond-6 atom-5 atom-7\" d=\"M 118.1,137.9 L 111.3,150.7\" style=\"fill:none;fill-rule:evenodd;stroke:#000000;stroke-width:2.0px;stroke-linecap:butt;stroke-linejoin:miter;stroke-opacity:1\"/>\n",
       "<path class=\"bond-6 atom-5 atom-7\" d=\"M 111.3,150.7 L 104.5,163.6\" style=\"fill:none;fill-rule:evenodd;stroke:#FF0000;stroke-width:2.0px;stroke-linecap:butt;stroke-linejoin:miter;stroke-opacity:1\"/>\n",
       "<path class=\"bond-7 atom-7 atom-8\" d=\"M 95.3,170.2 L 80.1,170.8\" style=\"fill:none;fill-rule:evenodd;stroke:#FF0000;stroke-width:2.0px;stroke-linecap:butt;stroke-linejoin:miter;stroke-opacity:1\"/>\n",
       "<path class=\"bond-7 atom-7 atom-8\" d=\"M 80.1,170.8 L 64.9,171.4\" style=\"fill:none;fill-rule:evenodd;stroke:#000000;stroke-width:2.0px;stroke-linecap:butt;stroke-linejoin:miter;stroke-opacity:1\"/>\n",
       "<path class=\"bond-8 atom-8 atom-9\" d=\"M 64.9,171.4 L 38.3,146.8\" style=\"fill:none;fill-rule:evenodd;stroke:#000000;stroke-width:2.0px;stroke-linecap:butt;stroke-linejoin:miter;stroke-opacity:1\"/>\n",
       "<path class=\"bond-9 atom-9 atom-10\" d=\"M 38.3,146.8 L 13.6,173.4\" style=\"fill:none;fill-rule:evenodd;stroke:#000000;stroke-width:2.0px;stroke-linecap:butt;stroke-linejoin:miter;stroke-opacity:1\"/>\n",
       "<path class=\"bond-10 atom-10 atom-11\" d=\"M 13.6,173.4 L 40.3,198.0\" style=\"fill:none;fill-rule:evenodd;stroke:#000000;stroke-width:2.0px;stroke-linecap:butt;stroke-linejoin:miter;stroke-opacity:1\"/>\n",
       "<path class=\"bond-11 atom-2 atom-12\" d=\"M 209.9,165.7 L 226.8,133.6\" style=\"fill:none;fill-rule:evenodd;stroke:#000000;stroke-width:2.0px;stroke-linecap:butt;stroke-linejoin:miter;stroke-opacity:1\"/>\n",
       "<path class=\"bond-11 atom-2 atom-12\" d=\"M 218.9,164.3 L 230.7,141.8\" style=\"fill:none;fill-rule:evenodd;stroke:#000000;stroke-width:2.0px;stroke-linecap:butt;stroke-linejoin:miter;stroke-opacity:1\"/>\n",
       "<path class=\"bond-12 atom-12 atom-13\" d=\"M 226.8,133.6 L 263.1,132.2\" style=\"fill:none;fill-rule:evenodd;stroke:#000000;stroke-width:2.0px;stroke-linecap:butt;stroke-linejoin:miter;stroke-opacity:1\"/>\n",
       "<path class=\"bond-13 atom-13 atom-14\" d=\"M 263.1,132.2 L 270.8,144.4\" style=\"fill:none;fill-rule:evenodd;stroke:#000000;stroke-width:2.0px;stroke-linecap:butt;stroke-linejoin:miter;stroke-opacity:1\"/>\n",
       "<path class=\"bond-13 atom-13 atom-14\" d=\"M 270.8,144.4 L 278.5,156.5\" style=\"fill:none;fill-rule:evenodd;stroke:#0000FF;stroke-width:2.0px;stroke-linecap:butt;stroke-linejoin:miter;stroke-opacity:1\"/>\n",
       "<path class=\"bond-13 atom-13 atom-14\" d=\"M 259.3,139.7 L 264.7,148.2\" style=\"fill:none;fill-rule:evenodd;stroke:#000000;stroke-width:2.0px;stroke-linecap:butt;stroke-linejoin:miter;stroke-opacity:1\"/>\n",
       "<path class=\"bond-13 atom-13 atom-14\" d=\"M 264.7,148.2 L 270.0,156.8\" style=\"fill:none;fill-rule:evenodd;stroke:#0000FF;stroke-width:2.0px;stroke-linecap:butt;stroke-linejoin:miter;stroke-opacity:1\"/>\n",
       "<path class=\"bond-14 atom-14 atom-0\" d=\"M 279.1,169.2 L 272.3,182.1\" style=\"fill:none;fill-rule:evenodd;stroke:#0000FF;stroke-width:2.0px;stroke-linecap:butt;stroke-linejoin:miter;stroke-opacity:1\"/>\n",
       "<path class=\"bond-14 atom-14 atom-0\" d=\"M 272.3,182.1 L 265.6,195.0\" style=\"fill:none;fill-rule:evenodd;stroke:#000000;stroke-width:2.0px;stroke-linecap:butt;stroke-linejoin:miter;stroke-opacity:1\"/>\n",
       "<path class=\"bond-15 atom-11 atom-8\" d=\"M 40.3,198.0 L 64.9,171.4\" style=\"fill:none;fill-rule:evenodd;stroke:#000000;stroke-width:2.0px;stroke-linecap:butt;stroke-linejoin:miter;stroke-opacity:1\"/>\n",
       "<path class=\"atom-4\" d=\"M 152.1 131.3 L 155.4 136.7 Q 155.8 137.3, 156.3 138.3 Q 156.8 139.2, 156.9 139.3 L 156.9 131.3 L 158.2 131.3 L 158.2 141.6 L 156.8 141.6 L 153.2 135.6 Q 152.8 134.9, 152.3 134.1 Q 151.9 133.3, 151.8 133.1 L 151.8 141.6 L 150.4 141.6 L 150.4 131.3 L 152.1 131.3 \" fill=\"#0000FF\"/>\n",
       "<path class=\"atom-4\" d=\"M 159.4 131.3 L 160.8 131.3 L 160.8 135.7 L 166.1 135.7 L 166.1 131.3 L 167.5 131.3 L 167.5 141.6 L 166.1 141.6 L 166.1 136.8 L 160.8 136.8 L 160.8 141.6 L 159.4 141.6 L 159.4 131.3 \" fill=\"#0000FF\"/>\n",
       "<path class=\"atom-6\" d=\"M 94.0 107.2 Q 94.0 104.7, 95.2 103.3 Q 96.4 102.0, 98.7 102.0 Q 101.0 102.0, 102.2 103.3 Q 103.4 104.7, 103.4 107.2 Q 103.4 109.7, 102.2 111.1 Q 101.0 112.5, 98.7 112.5 Q 96.5 112.5, 95.2 111.1 Q 94.0 109.7, 94.0 107.2 M 98.7 111.4 Q 100.3 111.4, 101.1 110.3 Q 102.0 109.3, 102.0 107.2 Q 102.0 105.2, 101.1 104.2 Q 100.3 103.1, 98.7 103.1 Q 97.1 103.1, 96.3 104.1 Q 95.4 105.2, 95.4 107.2 Q 95.4 109.3, 96.3 110.3 Q 97.1 111.4, 98.7 111.4 \" fill=\"#FF0000\"/>\n",
       "<path class=\"atom-7\" d=\"M 96.5 170.0 Q 96.5 167.5, 97.7 166.2 Q 98.9 164.8, 101.2 164.8 Q 103.5 164.8, 104.7 166.2 Q 105.9 167.5, 105.9 170.0 Q 105.9 172.5, 104.7 173.9 Q 103.4 175.3, 101.2 175.3 Q 98.9 175.3, 97.7 173.9 Q 96.5 172.5, 96.5 170.0 M 101.2 174.2 Q 102.7 174.2, 103.6 173.1 Q 104.4 172.1, 104.4 170.0 Q 104.4 168.0, 103.6 167.0 Q 102.7 165.9, 101.2 165.9 Q 99.6 165.9, 98.7 166.9 Q 97.9 168.0, 97.9 170.0 Q 97.9 172.1, 98.7 173.1 Q 99.6 174.2, 101.2 174.2 \" fill=\"#FF0000\"/>\n",
       "<path class=\"atom-14\" d=\"M 280.2 157.7 L 283.6 163.2 Q 283.9 163.7, 284.4 164.7 Q 285.0 165.7, 285.0 165.7 L 285.0 157.7 L 286.4 157.7 L 286.4 168.0 L 285.0 168.0 L 281.3 162.1 Q 280.9 161.4, 280.5 160.6 Q 280.0 159.8, 279.9 159.5 L 279.9 168.0 L 278.6 168.0 L 278.6 157.7 L 280.2 157.7 \" fill=\"#0000FF\"/>\n",
       "</svg>"
      ],
      "text/plain": [
       "<IPython.core.display.SVG object>"
      ]
     },
     "execution_count": 8,
     "metadata": {},
     "output_type": "execute_result"
    }
   ],
   "source": [
    "# Define reaction with SMARTS and apply reaction on the specified attachment points\n",
    "\n",
    "rxn1 = dm.reactions.rxn_from_smarts(\"[1*][*:1].[1*][*:2]>>[*:1][*:2]\")\n",
    "res1 = dm.reactions.apply_reaction(rxn1, (dm.to_mol(frag1), dm.to_mol(scaffold)), rm_attach=True)\n",
    "dm.to_image(res1)"
   ]
  },
  {
   "cell_type": "code",
   "execution_count": 9,
   "id": "d6e436bb-42fb-4a9d-9b3d-621c21604914",
   "metadata": {},
   "outputs": [
    {
     "data": {
      "image/svg+xml": [
       "<svg xmlns=\"http://www.w3.org/2000/svg\" xmlns:rdkit=\"http://www.rdkit.org/xml\" xmlns:xlink=\"http://www.w3.org/1999/xlink\" version=\"1.1\" baseProfile=\"full\" xml:space=\"preserve\" width=\"300px\" height=\"300px\" viewBox=\"0 0 300 300\">\n",
       "<!-- END OF HEADER -->\n",
       "<rect style=\"opacity:1.0;fill:#FFFFFF;stroke:none\" width=\"300.0\" height=\"300.0\" x=\"0.0\" y=\"0.0\"> </rect>\n",
       "<path class=\"bond-0 atom-0 atom-1\" d=\"M 89.6,179.0 L 96.1,168.2\" style=\"fill:none;fill-rule:evenodd;stroke:#FF0000;stroke-width:2.0px;stroke-linecap:butt;stroke-linejoin:miter;stroke-opacity:1\"/>\n",
       "<path class=\"bond-0 atom-0 atom-1\" d=\"M 96.1,168.2 L 102.5,157.5\" style=\"fill:none;fill-rule:evenodd;stroke:#000000;stroke-width:2.0px;stroke-linecap:butt;stroke-linejoin:miter;stroke-opacity:1\"/>\n",
       "<path class=\"bond-0 atom-0 atom-1\" d=\"M 95.1,182.3 L 101.5,171.5\" style=\"fill:none;fill-rule:evenodd;stroke:#FF0000;stroke-width:2.0px;stroke-linecap:butt;stroke-linejoin:miter;stroke-opacity:1\"/>\n",
       "<path class=\"bond-0 atom-0 atom-1\" d=\"M 101.5,171.5 L 108.0,160.7\" style=\"fill:none;fill-rule:evenodd;stroke:#000000;stroke-width:2.0px;stroke-linecap:butt;stroke-linejoin:miter;stroke-opacity:1\"/>\n",
       "<path class=\"bond-1 atom-1 atom-2\" d=\"M 105.3,159.1 L 118.8,159.3\" style=\"fill:none;fill-rule:evenodd;stroke:#000000;stroke-width:2.0px;stroke-linecap:butt;stroke-linejoin:miter;stroke-opacity:1\"/>\n",
       "<path class=\"bond-1 atom-1 atom-2\" d=\"M 118.8,159.3 L 132.4,159.5\" style=\"fill:none;fill-rule:evenodd;stroke:#0000FF;stroke-width:2.0px;stroke-linecap:butt;stroke-linejoin:miter;stroke-opacity:1\"/>\n",
       "<path class=\"bond-2 atom-2 atom-3\" d=\"M 139.9,165.1 L 146.1,176.2\" style=\"fill:none;fill-rule:evenodd;stroke:#0000FF;stroke-width:2.0px;stroke-linecap:butt;stroke-linejoin:miter;stroke-opacity:1\"/>\n",
       "<path class=\"bond-2 atom-2 atom-3\" d=\"M 146.1,176.2 L 152.2,187.2\" style=\"fill:none;fill-rule:evenodd;stroke:#000000;stroke-width:2.0px;stroke-linecap:butt;stroke-linejoin:miter;stroke-opacity:1\"/>\n",
       "<path class=\"bond-3 atom-3 atom-4\" d=\"M 152.2,187.2 L 183.8,187.7\" style=\"fill:none;fill-rule:evenodd;stroke:#000000;stroke-width:2.0px;stroke-linecap:butt;stroke-linejoin:miter;stroke-opacity:1\"/>\n",
       "<path class=\"bond-4 atom-4 atom-5\" d=\"M 183.8,187.7 L 199.1,215.3\" style=\"fill:none;fill-rule:evenodd;stroke:#000000;stroke-width:2.0px;stroke-linecap:butt;stroke-linejoin:miter;stroke-opacity:1\"/>\n",
       "<path class=\"bond-4 atom-4 atom-5\" d=\"M 191.6,188.8 L 202.4,208.1\" style=\"fill:none;fill-rule:evenodd;stroke:#000000;stroke-width:2.0px;stroke-linecap:butt;stroke-linejoin:miter;stroke-opacity:1\"/>\n",
       "<path class=\"bond-5 atom-5 atom-6\" d=\"M 199.1,215.3 L 230.7,215.8\" style=\"fill:none;fill-rule:evenodd;stroke:#000000;stroke-width:2.0px;stroke-linecap:butt;stroke-linejoin:miter;stroke-opacity:1\"/>\n",
       "<path class=\"bond-6 atom-6 atom-7\" d=\"M 230.7,215.8 L 237.2,205.0\" style=\"fill:none;fill-rule:evenodd;stroke:#000000;stroke-width:2.0px;stroke-linecap:butt;stroke-linejoin:miter;stroke-opacity:1\"/>\n",
       "<path class=\"bond-6 atom-6 atom-7\" d=\"M 237.2,205.0 L 243.7,194.2\" style=\"fill:none;fill-rule:evenodd;stroke:#0000FF;stroke-width:2.0px;stroke-linecap:butt;stroke-linejoin:miter;stroke-opacity:1\"/>\n",
       "<path class=\"bond-6 atom-6 atom-7\" d=\"M 227.3,209.3 L 231.8,201.8\" style=\"fill:none;fill-rule:evenodd;stroke:#000000;stroke-width:2.0px;stroke-linecap:butt;stroke-linejoin:miter;stroke-opacity:1\"/>\n",
       "<path class=\"bond-6 atom-6 atom-7\" d=\"M 231.8,201.8 L 236.3,194.2\" style=\"fill:none;fill-rule:evenodd;stroke:#0000FF;stroke-width:2.0px;stroke-linecap:butt;stroke-linejoin:miter;stroke-opacity:1\"/>\n",
       "<path class=\"bond-7 atom-7 atom-8\" d=\"M 243.9,183.2 L 237.8,172.2\" style=\"fill:none;fill-rule:evenodd;stroke:#0000FF;stroke-width:2.0px;stroke-linecap:butt;stroke-linejoin:miter;stroke-opacity:1\"/>\n",
       "<path class=\"bond-7 atom-7 atom-8\" d=\"M 237.8,172.2 L 231.6,161.1\" style=\"fill:none;fill-rule:evenodd;stroke:#000000;stroke-width:2.0px;stroke-linecap:butt;stroke-linejoin:miter;stroke-opacity:1\"/>\n",
       "<path class=\"bond-8 atom-8 atom-9\" d=\"M 231.6,161.1 L 238.1,150.3\" style=\"fill:none;fill-rule:evenodd;stroke:#000000;stroke-width:2.0px;stroke-linecap:butt;stroke-linejoin:miter;stroke-opacity:1\"/>\n",
       "<path class=\"bond-8 atom-8 atom-9\" d=\"M 238.1,150.3 L 244.5,139.5\" style=\"fill:none;fill-rule:evenodd;stroke:#0000FF;stroke-width:2.0px;stroke-linecap:butt;stroke-linejoin:miter;stroke-opacity:1\"/>\n",
       "<path class=\"bond-9 atom-9 atom-10\" d=\"M 245.5,128.5 L 240.5,116.7\" style=\"fill:none;fill-rule:evenodd;stroke:#0000FF;stroke-width:2.0px;stroke-linecap:butt;stroke-linejoin:miter;stroke-opacity:1\"/>\n",
       "<path class=\"bond-9 atom-9 atom-10\" d=\"M 240.5,116.7 L 235.4,104.9\" style=\"fill:none;fill-rule:evenodd;stroke:#000000;stroke-width:2.0px;stroke-linecap:butt;stroke-linejoin:miter;stroke-opacity:1\"/>\n",
       "<path class=\"bond-10 atom-10 atom-11\" d=\"M 235.4,104.9 L 259.3,84.2\" style=\"fill:none;fill-rule:evenodd;stroke:#000000;stroke-width:2.0px;stroke-linecap:butt;stroke-linejoin:miter;stroke-opacity:1\"/>\n",
       "<path class=\"bond-11 atom-11 atom-12\" d=\"M 259.3,84.2 L 286.4,100.4\" style=\"fill:none;fill-rule:evenodd;stroke:#000000;stroke-width:2.0px;stroke-linecap:butt;stroke-linejoin:miter;stroke-opacity:1\"/>\n",
       "<path class=\"bond-12 atom-12 atom-13\" d=\"M 286.4,100.4 L 279.3,131.2\" style=\"fill:none;fill-rule:evenodd;stroke:#000000;stroke-width:2.0px;stroke-linecap:butt;stroke-linejoin:miter;stroke-opacity:1\"/>\n",
       "<path class=\"bond-13 atom-8 atom-14\" d=\"M 231.6,161.1 L 200.0,160.6\" style=\"fill:none;fill-rule:evenodd;stroke:#000000;stroke-width:2.0px;stroke-linecap:butt;stroke-linejoin:miter;stroke-opacity:1\"/>\n",
       "<path class=\"bond-13 atom-8 atom-14\" d=\"M 226.8,167.4 L 204.7,167.0\" style=\"fill:none;fill-rule:evenodd;stroke:#000000;stroke-width:2.0px;stroke-linecap:butt;stroke-linejoin:miter;stroke-opacity:1\"/>\n",
       "<path class=\"bond-14 atom-1 atom-15\" d=\"M 105.3,159.1 L 99.2,148.1\" style=\"fill:none;fill-rule:evenodd;stroke:#000000;stroke-width:2.0px;stroke-linecap:butt;stroke-linejoin:miter;stroke-opacity:1\"/>\n",
       "<path class=\"bond-14 atom-1 atom-15\" d=\"M 99.2,148.1 L 93.1,137.2\" style=\"fill:none;fill-rule:evenodd;stroke:#FF0000;stroke-width:2.0px;stroke-linecap:butt;stroke-linejoin:miter;stroke-opacity:1\"/>\n",
       "<path class=\"bond-15 atom-15 atom-16\" d=\"M 84.7,131.4 L 71.5,131.2\" style=\"fill:none;fill-rule:evenodd;stroke:#FF0000;stroke-width:2.0px;stroke-linecap:butt;stroke-linejoin:miter;stroke-opacity:1\"/>\n",
       "<path class=\"bond-15 atom-15 atom-16\" d=\"M 71.5,131.2 L 58.3,131.0\" style=\"fill:none;fill-rule:evenodd;stroke:#000000;stroke-width:2.0px;stroke-linecap:butt;stroke-linejoin:miter;stroke-opacity:1\"/>\n",
       "<path class=\"bond-16 atom-16 atom-17\" d=\"M 58.3,131.0 L 36.3,108.3\" style=\"fill:none;fill-rule:evenodd;stroke:#000000;stroke-width:2.0px;stroke-linecap:butt;stroke-linejoin:miter;stroke-opacity:1\"/>\n",
       "<path class=\"bond-17 atom-17 atom-18\" d=\"M 36.3,108.3 L 13.6,130.3\" style=\"fill:none;fill-rule:evenodd;stroke:#000000;stroke-width:2.0px;stroke-linecap:butt;stroke-linejoin:miter;stroke-opacity:1\"/>\n",
       "<path class=\"bond-18 atom-18 atom-19\" d=\"M 13.6,130.3 L 35.6,153.0\" style=\"fill:none;fill-rule:evenodd;stroke:#000000;stroke-width:2.0px;stroke-linecap:butt;stroke-linejoin:miter;stroke-opacity:1\"/>\n",
       "<path class=\"bond-19 atom-14 atom-4\" d=\"M 200.0,160.6 L 183.8,187.7\" style=\"fill:none;fill-rule:evenodd;stroke:#000000;stroke-width:2.0px;stroke-linecap:butt;stroke-linejoin:miter;stroke-opacity:1\"/>\n",
       "<path class=\"bond-20 atom-19 atom-16\" d=\"M 35.6,153.0 L 58.3,131.0\" style=\"fill:none;fill-rule:evenodd;stroke:#000000;stroke-width:2.0px;stroke-linecap:butt;stroke-linejoin:miter;stroke-opacity:1\"/>\n",
       "<path class=\"bond-21 atom-13 atom-9\" d=\"M 279.3,131.2 L 265.8,132.4\" style=\"fill:none;fill-rule:evenodd;stroke:#000000;stroke-width:2.0px;stroke-linecap:butt;stroke-linejoin:miter;stroke-opacity:1\"/>\n",
       "<path class=\"bond-21 atom-13 atom-9\" d=\"M 265.8,132.4 L 252.3,133.6\" style=\"fill:none;fill-rule:evenodd;stroke:#0000FF;stroke-width:2.0px;stroke-linecap:butt;stroke-linejoin:miter;stroke-opacity:1\"/>\n",
       "<path class=\"atom-0\" d=\"M 84.9 186.2 Q 84.9 184.1, 86.0 182.9 Q 87.0 181.7, 89.0 181.7 Q 91.0 181.7, 92.1 182.9 Q 93.1 184.1, 93.1 186.2 Q 93.1 188.4, 92.1 189.6 Q 91.0 190.9, 89.0 190.9 Q 87.1 190.9, 86.0 189.6 Q 84.9 188.4, 84.9 186.2 M 89.0 189.9 Q 90.4 189.9, 91.1 188.9 Q 91.9 188.0, 91.9 186.2 Q 91.9 184.5, 91.1 183.6 Q 90.4 182.7, 89.0 182.7 Q 87.7 182.7, 86.9 183.6 Q 86.2 184.5, 86.2 186.2 Q 86.2 188.0, 86.9 188.9 Q 87.7 189.9, 89.0 189.9 \" fill=\"#FF0000\"/>\n",
       "<path class=\"atom-2\" d=\"M 134.9 155.1 L 137.8 159.9 Q 138.1 160.3, 138.6 161.2 Q 139.0 162.0, 139.0 162.1 L 139.0 155.1 L 140.2 155.1 L 140.2 164.1 L 139.0 164.1 L 135.9 158.9 Q 135.5 158.3, 135.1 157.6 Q 134.7 156.9, 134.6 156.7 L 134.6 164.1 L 133.5 164.1 L 133.5 155.1 L 134.9 155.1 \" fill=\"#0000FF\"/>\n",
       "<path class=\"atom-2\" d=\"M 141.3 155.1 L 142.5 155.1 L 142.5 158.9 L 147.1 158.9 L 147.1 155.1 L 148.3 155.1 L 148.3 164.1 L 147.1 164.1 L 147.1 159.9 L 142.5 159.9 L 142.5 164.1 L 141.3 164.1 L 141.3 155.1 \" fill=\"#0000FF\"/>\n",
       "<path class=\"atom-7\" d=\"M 245.0 184.2 L 247.9 189.0 Q 248.2 189.4, 248.7 190.3 Q 249.1 191.1, 249.2 191.2 L 249.2 184.2 L 250.4 184.2 L 250.4 193.2 L 249.1 193.2 L 246.0 188.0 Q 245.6 187.4, 245.2 186.7 Q 244.8 186.0, 244.7 185.8 L 244.7 193.2 L 243.6 193.2 L 243.6 184.2 L 245.0 184.2 \" fill=\"#0000FF\"/>\n",
       "<path class=\"atom-9\" d=\"M 245.9 129.5 L 248.8 134.3 Q 249.1 134.7, 249.5 135.6 Q 250.0 136.4, 250.0 136.5 L 250.0 129.5 L 251.2 129.5 L 251.2 138.5 L 250.0 138.5 L 246.9 133.3 Q 246.5 132.7, 246.1 132.0 Q 245.7 131.3, 245.6 131.1 L 245.6 138.5 L 244.4 138.5 L 244.4 129.5 L 245.9 129.5 \" fill=\"#0000FF\"/>\n",
       "<path class=\"atom-15\" d=\"M 85.8 131.5 Q 85.8 129.4, 86.9 128.2 Q 87.9 127.0, 89.9 127.0 Q 91.9 127.0, 92.9 128.2 Q 94.0 129.4, 94.0 131.5 Q 94.0 133.7, 92.9 134.9 Q 91.9 136.2, 89.9 136.2 Q 87.9 136.2, 86.9 134.9 Q 85.8 133.7, 85.8 131.5 M 89.9 135.1 Q 91.3 135.1, 92.0 134.2 Q 92.7 133.3, 92.7 131.5 Q 92.7 129.8, 92.0 128.9 Q 91.3 128.0, 89.9 128.0 Q 88.5 128.0, 87.8 128.9 Q 87.1 129.7, 87.1 131.5 Q 87.1 133.3, 87.8 134.2 Q 88.5 135.1, 89.9 135.1 \" fill=\"#FF0000\"/>\n",
       "</svg>"
      ],
      "text/plain": [
       "<IPython.core.display.SVG object>"
      ]
     },
     "execution_count": 9,
     "metadata": {},
     "output_type": "execute_result"
    }
   ],
   "source": [
    "# One reaction to attach multiple specified attchment points \n",
    "rxn2 = dm.reactions.rxn_from_smarts(\"[1*][*:1].[2*][*:4].([1*][*:2].[2*][*:3])>>([*:1][*:2].[*:3][*:4])\")\n",
    "res2 = dm.reactions.apply_reaction(rxn2,(frag1, frag2, scaffold))\n",
    "dm.to_image(res2)"
   ]
  },
  {
   "cell_type": "markdown",
   "id": "f801f3f4",
   "metadata": {},
   "source": [
    "## References\n",
    "\n",
    "- [RDKit Cookbook](https://www.rdkit.org/docs/source/rdkit.Chem.rdChemReactions.html)"
   ]
  }
 ],
 "metadata": {
  "jupytext": {
   "cell_metadata_filter": "-all",
   "main_language": "python",
   "notebook_metadata_filter": "-all"
  },
  "kernelspec": {
   "display_name": "Python 3 (ipykernel)",
   "language": "python",
   "name": "python3"
  },
  "language_info": {
   "codemirror_mode": {
    "name": "ipython",
    "version": 3
   },
   "file_extension": ".py",
   "mimetype": "text/x-python",
   "name": "python",
   "nbconvert_exporter": "python",
   "pygments_lexer": "ipython3",
   "version": "3.10.6"
  },
  "widgets": {
   "application/vnd.jupyter.widget-state+json": {
    "state": {},
    "version_major": 2,
    "version_minor": 0
   }
  }
 },
 "nbformat": 4,
 "nbformat_minor": 5
}
